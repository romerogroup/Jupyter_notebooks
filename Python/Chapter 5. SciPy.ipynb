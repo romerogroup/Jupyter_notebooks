{
 "cells": [
  {
   "cell_type": "markdown",
   "metadata": {},
   "source": [
    "# Python for HPC (scipy)"
   ]
  },
  {
   "cell_type": "markdown",
   "metadata": {},
   "source": [
    "## Introduction"
   ]
  },
  {
   "cell_type": "markdown",
   "metadata": {},
   "source": [
    "Python is a great general-purpose programming language on its own. This episode is focused on the basic syntax of the language. The lesson is particularly oriented to Scientific Computing. The episodes in the series include:\n",
    "\n",
    "  * Basic Syntax \n",
    "  * The Python Standard Library\n",
    "  * Numpy\n",
    "  * **Scipy \\[This notebook\\]**\n",
    "  * Matplotlib\n",
    "  * Pandas\n",
    "  * Cython\n",
    "\n",
    "After completing all the series in this lesson you will realize that python has become a powerful environment for scientific computing at several levels, from intereactive computing to scripting to big project developments."
   ]
  },
  {
   "cell_type": "markdown",
   "metadata": {},
   "source": [
    "In this tutorial, we will cover:\n",
    "\n",
    "* special\n",
    "* linalg\n",
    "* fftpack\n",
    "* optimize\n",
    "* integrate\n",
    "* spatial"
   ]
  },
  {
   "cell_type": "markdown",
   "metadata": {},
   "source": [
    "SciPy (pronounced “Sigh Pie”) is open-source software for mathematics, science, and engineering.\n",
    "\n",
    "SciPy is a collection of mathematical algorithms and convenience functions built on the NumPy extension of Python. It adds significant power to the interactive Python session by providing the user with high-level commands and classes for manipulating and visualizing data. \n",
    "\n",
    "SciPy is the most used Scientific library only second to GNU Scientific Library for C/C++.\n",
    "There are several ad\n",
    "\n",
    "Scipy in general operate on an array of NumPy arrays. \n",
    "\n",
    "SciPy contains varieties of sub packages which help to solve the most common issue related to Scientific Computation.\n",
    "\n",
    "The main characteristics of scipy for Scientific Computing are:\n",
    "\n",
    " * **SciPy** is built in top of numpy\n",
    " * **SciPy** is a fully-featured version of Linear Algebra algorithms while Numpy contains only a few features.\n",
    " * **SciPy** includes algorithms to compute special functions, integration, root finding and spatial operations.\n",
    "\n",
    "This is a short overview of some of the most important submodules."
   ]
  },
  {
   "cell_type": "code",
   "execution_count": 5,
   "metadata": {},
   "outputs": [],
   "source": [
    "import numpy as np\n",
    "import matplotlib.pyplot as plt"
   ]
  },
  {
   "cell_type": "markdown",
   "metadata": {},
   "source": [
    "## Importing scipy"
   ]
  },
  {
   "cell_type": "markdown",
   "metadata": {},
   "source": [
    "SciPy is organized into subpackages covering different scientific computing domains. These are summarized in the following table:\n",
    "\n",
    "| Subpackage  | Description |\n",
    "|-------------|:-----------:|\n",
    "| cluster     | Clustering algorithms \n",
    "| constants   | Physical and mathematical constants \n",
    "| fftpack     | Fast Fourier Transform routines \n",
    "| integrate   | Integration and ordinary differential equation solvers \n",
    "| interpolate | Interpolation and smoothing splines\n",
    "| io          | Input and Output \n",
    "| linalg      | Linear algebra \n",
    "| ndimage     | N-dimensional image processing \n",
    "| odr         | Orthogonal distance regression \n",
    "| optimize    | Optimization and root-finding routines \n",
    "| signal      | Signal processing \n",
    "| sparse      | Sparse matrices and associated routines \n",
    "| spatial     | Spatial data structures and algorithms \n",
    "| special     | Special functions\n",
    "| stats       | Statistical distributions and functions\n",
    "\n",
    "Different from numpy where importing the main module exposes most of the functionality, on scipy you need to import the subpackage that is needed.\n",
    "\n",
    "For most part SciPy sub-packages need to be imported separately. For example:"
   ]
  },
  {
   "cell_type": "code",
   "execution_count": 1,
   "metadata": {},
   "outputs": [],
   "source": [
    "from scipy import linalg, optimize"
   ]
  },
  {
   "cell_type": "markdown",
   "metadata": {},
   "source": [
    "We will explore some SciPy subpackages"
   ]
  },
  {
   "cell_type": "code",
   "execution_count": 18,
   "metadata": {},
   "outputs": [],
   "source": [
    "import scipy"
   ]
  },
  {
   "cell_type": "markdown",
   "metadata": {},
   "source": [
    "## Special Functions (`scipy.special`)"
   ]
  },
  {
   "cell_type": "markdown",
   "metadata": {},
   "source": [
    "`scipy.special` package contains numerous functions of mathematical physics.\n",
    "\n",
    "Some functions are also included on `math` from Standard Library like Cubic Root, Exponential, Log sum Exponential. However, the functions provided by scipy.special can interact transparently with numpy arrays.\n",
    "\n",
    "More advanced functions include: Gamma, Bessel, hypergeometric, Kelvin, beta, parabolic cylinder, Relative Error Exponential, etc..\n",
    "\n",
    "For one line description all of these function, type in Python console: "
   ]
  },
  {
   "cell_type": "code",
   "execution_count": 19,
   "metadata": {},
   "outputs": [],
   "source": [
    "#help(scipy.special)"
   ]
  },
  {
   "cell_type": "markdown",
   "metadata": {},
   "source": [
    "A few examples of using Special Functions from SciPy"
   ]
  },
  {
   "cell_type": "code",
   "execution_count": 16,
   "metadata": {},
   "outputs": [],
   "source": [
    "from scipy import special"
   ]
  },
  {
   "cell_type": "code",
   "execution_count": 4,
   "metadata": {},
   "outputs": [
    {
     "name": "stdout",
     "output_type": "stream",
     "text": [
      "[3. 4.]\n"
     ]
    }
   ],
   "source": [
    "#Find cubic root of 27 & 64 using cbrt() function\n",
    "cb = special.cbrt([27, 64])\n",
    "#print value of cb\n",
    "print(cb)"
   ]
  },
  {
   "cell_type": "code",
   "execution_count": 5,
   "metadata": {},
   "outputs": [
    {
     "name": "stdout",
     "output_type": "stream",
     "text": [
      "[1.e+01 1.e+10]\n"
     ]
    }
   ],
   "source": [
    "#define exp10 function and pass value in its\n",
    "exp = special.exp10([1,10])\n",
    "print(exp)\n"
   ]
  },
  {
   "cell_type": "code",
   "execution_count": 6,
   "metadata": {},
   "outputs": [
    {
     "name": "stdout",
     "output_type": "stream",
     "text": [
      "15.0\n"
     ]
    }
   ],
   "source": [
    "#find combinations of 5, 2 values using comb(N, k)\n",
    "com = special.comb(5, 2, exact = False, repetition=True)\n",
    "print(com)"
   ]
  },
  {
   "cell_type": "code",
   "execution_count": 7,
   "metadata": {},
   "outputs": [
    {
     "name": "stdout",
     "output_type": "stream",
     "text": [
      "20\n"
     ]
    }
   ],
   "source": [
    "#find permutation of 5, 2 using perm (N, k) function\n",
    "per = special.perm(5, 2, exact = True)\n",
    "print(per)"
   ]
  },
  {
   "cell_type": "code",
   "execution_count": 8,
   "metadata": {},
   "outputs": [
    {
     "name": "stdout",
     "output_type": "stream",
     "text": [
      "9.45862974442671\n",
      "9.45862974442671\n"
     ]
    }
   ],
   "source": [
    "#Compute the log of the sum of exponentials of input elements.\n",
    "a = np.arange(10)\n",
    "ret1 = np.log(np.sum(np.exp(a)))\n",
    "print(ret1)\n",
    "ret2 = special.logsumexp(a)\n",
    "print(ret2)"
   ]
  },
  {
   "cell_type": "code",
   "execution_count": 22,
   "metadata": {},
   "outputs": [
    {
     "data": {
      "image/png": "[encoded data removed]",
      "text/plain": [
       "<Figure size 432x288 with 1 Axes>"
      ]
     },
     "metadata": {
      "needs_background": "light"
     },
     "output_type": "display_data"
    }
   ],
   "source": [
    "#Plot Bessel functions of the first kind of real order [0,4]\n",
    "x=np.linspace(0,10,50)\n",
    "for i in range(5):\n",
    "    plt.plot(x,special.jn(i,x))"
   ]
  },
  {
   "cell_type": "markdown",
   "metadata": {},
   "source": [
    "## Linear Algebra (`scipy.linalg`)"
   ]
  },
  {
   "cell_type": "markdown",
   "metadata": {},
   "source": [
    "The Linear Algebra Routines of SciPy goes beyond the basic operations in numpy. They are implemented over \n",
    "BLAS and LAPACK libraries. The performance is dependent on the underline BLAS/LAPACK used for compile numpy.\n",
    "In general it is based on Atlas, but you can compile numpy over a more optimized version of BLAS/LAPACK like \n",
    "OpenBLAS or Intel MKL.\n",
    "\n",
    "Linear algebra routines in general take two-dimensional `numpy.ndarray` objects and output is also a two-dimensional \n",
    "`numpy.ndarray`."
   ]
  },
  {
   "cell_type": "code",
   "execution_count": 24,
   "metadata": {},
   "outputs": [],
   "source": [
    "from scipy import linalg"
   ]
  },
  {
   "cell_type": "markdown",
   "metadata": {},
   "source": [
    "Compute the determinant of a square matrix like this:"
   ]
  },
  {
   "cell_type": "code",
   "execution_count": 29,
   "metadata": {},
   "outputs": [
    {
     "data": {
      "text/plain": [
       "-7.0"
      ]
     },
     "execution_count": 29,
     "metadata": {},
     "output_type": "execute_result"
    }
   ],
   "source": [
    "#define square matrix\n",
    "a = np.array([ [4,5], [3,2] ])\n",
    "#pass values to det() function\n",
    "linalg.det( a )"
   ]
  },
  {
   "cell_type": "code",
   "execution_count": 31,
   "metadata": {},
   "outputs": [
    {
     "data": {
      "text/plain": [
       "array([[1.00000000e+00, 0.00000000e+00],\n",
       "       [3.33066907e-16, 1.00000000e+00]])"
      ]
     },
     "execution_count": 31,
     "metadata": {},
     "output_type": "execute_result"
    }
   ],
   "source": [
    "#Compute the inverse of the matrix above\n",
    "a_inv=scipy.linalg.inv(two_d_array)\n",
    "np.dot(a,a_inv)"
   ]
  },
  {
   "cell_type": "markdown",
   "metadata": {},
   "source": [
    "One common problem in linear algebra is eigenvalues and eigenvector which can be easily solved using eig()\tfunction.\n",
    "Now lets we find the Eigenvalue of (X) and correspond eigenvector of a two-dimensional square matrix."
   ]
  },
  {
   "cell_type": "code",
   "execution_count": 32,
   "metadata": {},
   "outputs": [
    {
     "name": "stdout",
     "output_type": "stream",
     "text": [
      "[ 9.+0.j -1.+0.j]\n",
      "[[ 0.70710678 -0.5547002 ]\n",
      " [ 0.70710678  0.83205029]]\n"
     ]
    }
   ],
   "source": [
    "#define two dimensional array\n",
    "arr = np.array([[5,4],[6,3]])\n",
    "#pass value into function\n",
    "eg_val, eg_vect = linalg.eig(arr)\n",
    "#get eigenvalues\n",
    "print(eg_val)\n",
    "#get eigenvectors\n",
    "print(eg_vect)"
   ]
  },
  {
   "cell_type": "markdown",
   "metadata": {},
   "source": [
    "Now, lets test that the dot product of the original matrix and the eigenvectors is in fact the product of the eigenvalues and the eigenvectors\n",
    "\n",
    "\\begin{equation*}\n",
    "A \\cdot \\mathbf{v} = \\lambda \\mathbf{v}\n",
    "\\end{equation*}\n"
   ]
  },
  {
   "cell_type": "code",
   "execution_count": 33,
   "metadata": {},
   "outputs": [
    {
     "data": {
      "text/plain": [
       "array([[ 6.36396103,  0.5547002 ],\n",
       "       [ 6.36396103, -0.83205029]])"
      ]
     },
     "execution_count": 33,
     "metadata": {},
     "output_type": "execute_result"
    }
   ],
   "source": [
    "np.dot(arr,eg_vect)"
   ]
  },
  {
   "cell_type": "code",
   "execution_count": 34,
   "metadata": {},
   "outputs": [
    {
     "data": {
      "text/plain": [
       "array([[ 6.36396103+0.j,  0.5547002 -0.j],\n",
       "       [ 6.36396103+0.j, -0.83205029+0.j]])"
      ]
     },
     "execution_count": 34,
     "metadata": {},
     "output_type": "execute_result"
    }
   ],
   "source": [
    "eg_val*eg_vect"
   ]
  },
  {
   "cell_type": "markdown",
   "metadata": {},
   "source": [
    "`scipy.linalg` contains all the functions in `numpy.linalg`. plus some other more advanced ones not contained in `numpy.linalg`.\n",
    "\n",
    "Another advantage of using `scipy.linalg` over `numpy.linalg` is that it is always compiled with BLAS/LAPACK support, while for numpy this is optional. Therefore, the scipy version might be faster depending on how numpy was installed.\n",
    "\n",
    "Therefore, unless you don’t want to add scipy as a dependency to your numpy program, use `scipy.linalg` instead of `numpy.linalg`."
   ]
  },
  {
   "cell_type": "markdown",
   "metadata": {},
   "source": [
    "One example of a function only present on scipy.linalg is the schur decomposition\n",
    "The schur decomposition converts a matrix\n",
    "\n",
    "\\begin{equation*}\n",
    "\\mathbf{A} = \\mathbf{Z} \\cdot \\mathbf{T} \\cdot \\mathbf{Z}^H \n",
    "\\end{equation*}\n",
    "\n",
    "The decomposition is not unique and real and complex matrices are possible solutions"
   ]
  },
  {
   "cell_type": "code",
   "execution_count": 40,
   "metadata": {},
   "outputs": [
    {
     "name": "stdout",
     "output_type": "stream",
     "text": [
      "[[1 3 2]\n",
      " [1 4 5]\n",
      " [2 3 6]]\n",
      "[[ 9.90012467  1.78947961 -0.65498528]\n",
      " [ 0.          0.54993766 -1.57754789]\n",
      " [ 0.          0.51260928  0.54993766]]\n",
      "[[ 0.36702395 -0.85002495 -0.37782404]\n",
      " [ 0.63681656 -0.06646488  0.76814522]\n",
      " [ 0.67805463  0.52253231 -0.51691576]]\n",
      "[[ 9.90012467+4.44089210e-16j  1.58629653-7.59468606e-02j\n",
      "  -0.24901757+1.02329305e+00j]\n",
      " [ 0.        +0.00000000e+00j  0.54993766+8.99258408e-01j\n",
      "   0.51778761+9.30585972e-01j]\n",
      " [ 0.        +0.00000000e+00j  0.        +0.00000000e+00j\n",
      "   0.54993766-8.99258408e-01j]]\n",
      "[[-0.36066189-0.06804102j  0.7242709 -0.23617942j -0.53176194-0.04662187j]\n",
      " [-0.62577787-0.11805674j  0.08310692+0.37568066j  0.3351953 +0.57798448j]\n",
      " [-0.66630111-0.12570169j -0.47009285-0.22499096j -0.02697209-0.51759656j]]\n"
     ]
    }
   ],
   "source": [
    "A = np.mat('[1 3 2; 1 4 5; 2 3 6]')\n",
    "print(A)\n",
    "T, Z = scipy.linalg.schur(A)\n",
    "print(T)\n",
    "print(Z)\n",
    "T1, Z1 = scipy.linalg.schur(A, 'complex')\n",
    "print(T1)\n",
    "print(Z1)"
   ]
  },
  {
   "cell_type": "markdown",
   "metadata": {},
   "source": [
    "## Discrete Fourier Transform `scipy.fftpack`"
   ]
  },
  {
   "cell_type": "markdown",
   "metadata": {},
   "source": [
    "Fourier analysis is a method for expressing a function as a sum of periodic components, and for recovering the signal from those components. When both the function and its Fourier transform are replaced with discretized counterparts, it is called the discrete Fourier transform (DFT). There is one very fast algorithm for computing DFT, it is called the Fast Fourier Transform (FFT).\n",
    "\n",
    "\n",
    "For relatively simple operations `scipy.fftpack` is all that you need. However, when performance is critical the package `PyFFTW` provides a way to replace a number of functions in `scipy.fftpack` with its own functions, which are usually significantly faster, via `pyfftw.interfaces`. PyFFTW relies on the well known FFTW and could perform better.\n",
    "\n",
    "One simple 1D example:"
   ]
  },
  {
   "cell_type": "code",
   "execution_count": 47,
   "metadata": {},
   "outputs": [
    {
     "data": {
      "image/png": "[encoded data removed]",
      "text/plain": [
       "<Figure size 432x288 with 1 Axes>"
      ]
     },
     "metadata": {
      "needs_background": "light"
     },
     "output_type": "display_data"
    }
   ],
   "source": [
    "#Frequency in terms of Hertz\n",
    "fre1  = 7 \n",
    "fre2  = 13 \n",
    "#Sample rate\n",
    "fre_samp = 50\n",
    "t = np.linspace(0, 2, 2 * fre_samp, endpoint = False )\n",
    "a = np.sin(fre1  * 2 * np.pi * t) + 1.5 * np.sin(fre2  * 2 * np.pi * t)\n",
    "figure, axis = plt.subplots()\n",
    "axis.plot(t, a)\n",
    "axis.set_xlabel ('Time (s)')\n",
    "axis.set_ylabel ('Signal amplitude')\n",
    "plt.show()"
   ]
  },
  {
   "cell_type": "markdown",
   "metadata": {},
   "source": [
    "Now transforming this function to Fourier space:"
   ]
  },
  {
   "cell_type": "code",
   "execution_count": 48,
   "metadata": {},
   "outputs": [
    {
     "data": {
      "image/png": "[encoded data removed]",
      "text/plain": [
       "<Figure size 432x288 with 1 Axes>"
      ]
     },
     "metadata": {
      "needs_background": "light"
     },
     "output_type": "display_data"
    }
   ],
   "source": [
    "from scipy import fftpack\n",
    "A = fftpack.fft(a)\n",
    "frequency = fftpack.fftfreq(len(a)) * fre_samp\n",
    "figure, axis = plt.subplots()\n",
    "\n",
    "axis.stem(frequency, np.abs(A), use_line_collection=True)\n",
    "axis.set_xlabel('Frequency in Hz')\n",
    "axis.set_ylabel('Frequency Spectrum Magnitude')\n",
    "axis.set_xlim(-fre_samp / 2, fre_samp/ 2)\n",
    "axis.set_ylim(-5, 110)\n",
    "plt.show()"
   ]
  },
  {
   "cell_type": "markdown",
   "metadata": {},
   "source": [
    "## Optimization (`scipy.optimize`)"
   ]
  },
  {
   "cell_type": "markdown",
   "metadata": {},
   "source": [
    "Optimization is a very important topic is scientific computing. The algorithms varies based on the behavior of the functions and availability of derivatives that can drive the search for a minima.\n",
    "\n",
    "For local minimization `scipy.optimize` offers general unconstrained and constrained minimization of multivariate scalar functions (minimize) using a variety of algorithms (e.g. BFGS, Nelder-Mead simplex, Newton Conjugate Gradient, COBYLA or SLSQP).\n",
    "\n",
    "For global optimization there are routines like basinhopping, differential_evolution, shgo and dual_annealing.\n",
    "\n",
    "Fiting a set of values to a given function can be presented as a minimization problem. The Least-squares minimization (least_squares) and curve fitting (curve_fit) algorithms are included here too.\n",
    "\n",
    "Scalar univariate functions minimizers (minimize_scalar) and root finders (root_scalar)\n",
    "\n",
    "Multivariate equation system solvers (root) using a variety of algorithms (e.g. hybrid Powell, Levenberg-Marquardt or large-scale methods such as Newton-Krylov [KK]).\n"
   ]
  },
  {
   "cell_type": "code",
   "execution_count": 58,
   "metadata": {},
   "outputs": [
    {
     "data": {
      "image/png": "[encoded data removed]",
      "text/plain": [
       "<Figure size 432x288 with 1 Axes>"
      ]
     },
     "metadata": {
      "needs_background": "light"
     },
     "output_type": "display_data"
    },
    {
     "name": "stdout",
     "output_type": "stream",
     "text": [
      "Optimization terminated successfully.\n",
      "         Current function value: -4.761376\n",
      "         Iterations: 6\n",
      "         Function evaluations: 21\n",
      "         Gradient evaluations: 7\n"
     ]
    },
    {
     "data": {
      "text/plain": [
       "array([-1.61296123])"
      ]
     },
     "execution_count": 58,
     "metadata": {},
     "output_type": "execute_result"
    }
   ],
   "source": [
    "from scipy import optimize\n",
    "\n",
    "def function(a):\n",
    "       return 5*np.sin(a)+np.exp(0.9*a)\n",
    "\n",
    "x=np.linspace(-5,5,100)\n",
    "\n",
    "plt.plot(x, function(x))\n",
    "plt.show()\n",
    "#use BFGS algorithm for optimization\n",
    "optimize.fmin_bfgs(function, 0) "
   ]
  },
  {
   "cell_type": "markdown",
   "metadata": {},
   "source": [
    "## Numerical Integration (`scipy.integrate`)"
   ]
  },
  {
   "cell_type": "markdown",
   "metadata": {},
   "source": [
    "This module in SciPy provides functionality for numerical integration.\n",
    "`scipy.integrate` library has single integration, double, triple, multiple, Gaussian quadrate, Romberg, Trapezoidal \n",
    "and Simpson's rules."
   ]
  },
  {
   "cell_type": "code",
   "execution_count": 6,
   "metadata": {},
   "outputs": [],
   "source": [
    "from scipy import integrate"
   ]
  },
  {
   "cell_type": "code",
   "execution_count": 8,
   "metadata": {},
   "outputs": [
    {
     "name": "stdout",
     "output_type": "stream",
     "text": [
      "(1.1807294407836504, 1.310873011010794e-14)\n"
     ]
    }
   ],
   "source": [
    "# A univaluated function\n",
    "def f(x):\n",
    "    return x**2+np.sin(x)*np.exp(0.9*x)\n",
    "\n",
    "#single integration with a = 0 & b = 1  \n",
    "integration = integrate.quad(f, 0 , 1)\n",
    "print(integration)"
   ]
  },
  {
   "cell_type": "markdown",
   "metadata": {},
   "source": [
    "Here function returns two values, in which the first value is integration and second value is estimated error in integral.\n",
    "\n",
    "Example: Now take an example of double integration. We find the double integration of the following equation, "
   ]
  },
  {
   "cell_type": "code",
   "execution_count": 13,
   "metadata": {},
   "outputs": [
    {
     "name": "stdout",
     "output_type": "stream",
     "text": [
      "(0.5821250757905987, 1.6205849617199068e-14)\n"
     ]
    }
   ],
   "source": [
    "# set  fuction f(x,y)\n",
    "def f(x,y): \n",
    "    return np.sin(x)+np.cos(2*y)\n",
    "\n",
    "# lower limit of second integral\n",
    "p = lambda x : 0\n",
    "# upper limit of first integral\n",
    "q = lambda y : np.sqrt(1 - 2*y**2)\n",
    "# perform double integration\n",
    "integration = integrate.dblquad(f , 0 , 2/4,  p, q)\n",
    "print(integration)\n"
   ]
  },
  {
   "cell_type": "markdown",
   "metadata": {},
   "source": [
    "## Spatial Operations (`scipy.spatial`)"
   ]
  },
  {
   "cell_type": "markdown",
   "metadata": {},
   "source": [
    "`scipy.spatial` can compute a number operations over points in a multidimensional space. Triangulations, Voronoi diagrams, and convex hulls of a set of points. Lets see some examples in 2D but the same operations are available in larger dimensions."
   ]
  },
  {
   "cell_type": "code",
   "execution_count": 15,
   "metadata": {},
   "outputs": [],
   "source": [
    "import scipy.spatial"
   ]
  },
  {
   "cell_type": "markdown",
   "metadata": {},
   "source": [
    "### Delaunay triangulations"
   ]
  },
  {
   "cell_type": "code",
   "execution_count": 21,
   "metadata": {},
   "outputs": [],
   "source": [
    "points = np.array([[2,2],[0, 0], [0, 1.1], [1, 0], [1, 1], [2,3], [-1,-3], [1.5,-2]])\n",
    "tri = scipy.spatial.Delaunay(points)"
   ]
  },
  {
   "cell_type": "markdown",
   "metadata": {},
   "source": [
    "Now lets plot those points and the triangles"
   ]
  },
  {
   "cell_type": "code",
   "execution_count": 24,
   "metadata": {},
   "outputs": [
    {
     "data": {
      "text/plain": [
       "[<matplotlib.lines.Line2D at 0x1120bc950>]"
      ]
     },
     "execution_count": 24,
     "metadata": {},
     "output_type": "execute_result"
    },
    {
     "data": {
      "image/png": "[encoded data removed]",
      "text/plain": [
       "<Figure size 432x288 with 1 Axes>"
      ]
     },
     "metadata": {
      "needs_background": "light"
     },
     "output_type": "display_data"
    }
   ],
   "source": [
    "import matplotlib.pyplot as plt\n",
    "plt.triplot(points[:,0], points[:,1], tri.simplices.copy())\n",
    "plt.plot(points[:,0], points[:,1], 'o')"
   ]
  },
  {
   "cell_type": "markdown",
   "metadata": {},
   "source": [
    "To better see those points lets add enumerations and labeling the triangles"
   ]
  },
  {
   "cell_type": "code",
   "execution_count": 28,
   "metadata": {},
   "outputs": [
    {
     "data": {
      "image/png": "[encoded data removed]",
      "text/plain": [
       "<Figure size 432x288 with 1 Axes>"
      ]
     },
     "metadata": {
      "needs_background": "light"
     },
     "output_type": "display_data"
    }
   ],
   "source": [
    "plt.triplot(points[:,0], points[:,1], tri.simplices.copy())\n",
    "plt.plot(points[:,0], points[:,1], 'o')\n",
    "for j, p in enumerate(points):\n",
    "    plt.text(p[0]-0.03, p[1]+0.03, j, ha='right') # label the points\n",
    "for j, s in enumerate(tri.simplices):\n",
    "    p = points[s].mean(axis=0)\n",
    "    plt.text(p[0], p[1], '#%d' % j, ha='center') # label triangles\n",
    "plt.xlim(-1.5, 2.5); plt.ylim(-3.5, 3.5)\n",
    "plt.show()"
   ]
  },
  {
   "cell_type": "markdown",
   "metadata": {},
   "source": [
    "### Convex hulls"
   ]
  },
  {
   "cell_type": "code",
   "execution_count": 30,
   "metadata": {},
   "outputs": [],
   "source": [
    "hull = scipy.spatial.ConvexHull(points)"
   ]
  },
  {
   "cell_type": "markdown",
   "metadata": {},
   "source": [
    "Now visualize the convex hull"
   ]
  },
  {
   "cell_type": "code",
   "execution_count": 31,
   "metadata": {},
   "outputs": [
    {
     "data": {
      "image/png": "[encoded data removed]",
      "text/plain": [
       "<Figure size 432x288 with 1 Axes>"
      ]
     },
     "metadata": {
      "needs_background": "light"
     },
     "output_type": "display_data"
    }
   ],
   "source": [
    "import matplotlib.pyplot as plt\n",
    "\n",
    "plt.plot(points[:,0], points[:,1], 'o')\n",
    "for simplex in hull.simplices:\n",
    "    plt.plot(points[simplex,0], points[simplex,1], 'k-')\n",
    "plt.show()"
   ]
  },
  {
   "cell_type": "markdown",
   "metadata": {},
   "source": [
    "### Voronoi"
   ]
  },
  {
   "cell_type": "code",
   "execution_count": 33,
   "metadata": {},
   "outputs": [
    {
     "data": {
      "text/plain": [
       "array([[-0.09615385, -1.63461538],\n",
       "       [-6.65      ,  0.55      ],\n",
       "       [ 0.5725    ,  2.5       ],\n",
       "       [ 4.08333333, -0.29166667],\n",
       "       [ 0.5       , -1.1875    ],\n",
       "       [ 0.45      ,  0.55      ],\n",
       "       [ 0.5       ,  0.5       ],\n",
       "       [ 0.63181818,  2.36818182],\n",
       "       [ 2.5       ,  0.5       ]])"
      ]
     },
     "execution_count": 33,
     "metadata": {},
     "output_type": "execute_result"
    }
   ],
   "source": [
    "vor = scipy.spatial.Voronoi(points)\n",
    "vor.vertices"
   ]
  },
  {
   "cell_type": "code",
   "execution_count": 38,
   "metadata": {},
   "outputs": [
    {
     "data": {
      "image/png": "[encoded data removed]",
      "text/plain": [
       "<Figure size 432x288 with 1 Axes>"
      ]
     },
     "metadata": {
      "needs_background": "light"
     },
     "output_type": "display_data"
    }
   ],
   "source": [
    "plt.plot(points[:,0], points[:,1], 'o')\n",
    "plt.plot(vor.vertices[:,0], vor.vertices[:,1], '*')\n",
    "plt.xlim(-1.5, 2.5); plt.ylim(-3.5, 3.5)\n",
    "\n",
    "for simplex in vor.ridge_vertices:\n",
    "    simplex = np.asarray(simplex)\n",
    "    if np.all(simplex >= 0):\n",
    "        plt.plot(vor.vertices[simplex,0], vor.vertices[simplex,1], 'k-')\n",
    "        \n",
    "center = points.mean(axis=0)\n",
    "for pointidx, simplex in zip(vor.ridge_points, vor.ridge_vertices):\n",
    "    simplex = np.asarray(simplex)\n",
    "    if np.any(simplex < 0):\n",
    "        i = simplex[simplex >= 0][0] # finite end Voronoi vertex\n",
    "        t = points[pointidx[1]] - points[pointidx[0]] # tangent\n",
    "        t /= np.linalg.norm(t)\n",
    "        n = np.array([-t[1], t[0]]) # normal\n",
    "        midpoint = points[pointidx].mean(axis=0)\n",
    "        far_point = vor.vertices[i] + np.sign(np.dot(midpoint - center, n)) * n * 100\n",
    "        plt.plot([vor.vertices[i,0], far_point[0]], [vor.vertices[i,1], far_point[1]], 'k--')\n",
    "plt.show()"
   ]
  },
  {
   "cell_type": "markdown",
   "metadata": {},
   "source": [
    "## Final remarks"
   ]
  },
  {
   "cell_type": "markdown",
   "metadata": {},
   "source": [
    "The modules presented here are just a small subset of the entire libray and functionality provided by Scipy.\n",
    "\n"
   ]
  },
  {
   "cell_type": "markdown",
   "metadata": {},
   "source": [
    "A good reference to explore more of these routines can be found at [Scipy Tutorial](https://docs.scipy.org/doc/scipy-0.14.0/reference/tutorial/index.html)"
   ]
  },
  {
   "cell_type": "code",
   "execution_count": null,
   "metadata": {},
   "outputs": [],
   "source": []
  }
 ],
 "metadata": {
  "kernelspec": {
   "display_name": "Python 3",
   "language": "python",
   "name": "python3"
  },
  "language_info": {
   "codemirror_mode": {
    "name": "ipython",
    "version": 3
   },
   "file_extension": ".py",
   "mimetype": "text/x-python",
   "name": "python",
   "nbconvert_exporter": "python",
   "pygments_lexer": "ipython3",
   "version": "3.7.4"
  }
 },
 "nbformat": 4,
 "nbformat_minor": 2
}
