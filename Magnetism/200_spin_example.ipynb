{
 "cells": [
  {
   "cell_type": "markdown",
   "metadata": {},
   "source": [
    "# Heisenberg Model Examples"
   ]
  },
  {
   "cell_type": "markdown",
   "metadata": {},
   "source": [
    "## Spin Interactions\n",
    "We start by exploring a few basic interactions between spins.\n"
   ]
  },
  {
   "cell_type": "markdown",
   "metadata": {},
   "source": [
    "### Exchange\n",
    "\n",
    "Exchange interaction is the most common spin-spin interaction. In Heisenberg model, the Hamiltonian can be written as:\n",
    "\n",
    "$$H_{exc}=-\\sum_{i,j}J_{ij}\\vec{S_i}\\cdot\\vec{S_j}$$ \n",
    "\n",
    "\n",
    "\n",
    "Note: There are several different conventions in the form of the Hamiltonian. e.g.\n",
    "$$H_{exc}=-\\sum_{<i,j>}J_{ij}\\vec{S_i}\\cdot\\vec{S_j}$$ \n",
    "    ($i<j$ so that each i-j pair are counted only once. )\n",
    "    \n",
    "$$H_{exc}=\\sum_{<i,j>}J_{ij}\\vec{S_i}\\cdot\\vec{S_j}$$\n",
    "    (No negative sign)\n",
    "    \n",
    "Here we use the first convention. The ground state requires the total energy to be minimum. Therefore, two spins $\\vec{S_i}$ and $\\vec{S_j}$ align parallel or antiparallel to minimize the energy.\n",
    "    \n",
    "#### Exercise: Ferromagnetic (FM) & AntiFerromagnetic (AFM) exchange\n",
    "\n",
    "Try to tune the sign of J1 to get FM and AFM spin configuration. "
   ]
  },
  {
   "cell_type": "code",
   "execution_count": 1,
   "metadata": {},
   "outputs": [
    {
     "data": {
      "application/vnd.jupyter.widget-view+json": {
       "model_id": "c4e93f18e617479b8d9e18467b234a23",
       "version_major": 2,
       "version_minor": 0
      },
      "text/plain": [
       "interactive(children=(FloatSlider(value=1.0, description='J (meV):', max=3.0, min=-3.0), Button(description='R…"
      ]
     },
     "metadata": {},
     "output_type": "display_data"
    }
   ],
   "source": [
    "%matplotlib inline\n",
    "from spin_models import *\n",
    "from ipywidgets import FloatSlider, IntSlider, interact, interact_manual, fixed\n",
    "def run_1dchain(J1=-1):\n",
    "    ham=exchange_1d_hamiltonian(J1=J1*meV,  # first neighbor exchange.\n",
    "                                k1=np.array([-0.1*meV]),  # amplitude of single ion anistropy\n",
    "                                k1dir=np.array([[0.0, 0.0, 1.0]]), # direction of single ion anistropy\n",
    "                            )\n",
    "    plot_supercell(ham, supercell_matrix=np.diag([10, 1,1]), plot_type='2d',length=10, ylimit=[-0.005, 0.005])\n",
    "interact_manual(run_1dchain, J1=FloatSlider(value=1, min=-3, max=3, description='J (meV):'));"
   ]
  },
  {
   "cell_type": "markdown",
   "metadata": {},
   "source": [
    "### Uniaxial Single Ion Anisotropy\n",
    "In a material, there are prefered (non-prefered) orientations of the spins, which is called the easy(hard) axis. The simplest form of it is the uniaxial single ion anisotropy. It is:\n",
    " - uniaxial because it has only one easy or hard axis\n",
    " - single ion because for each spin there is one axis\n",
    " \n",
    "The form of the Hamiltonian can be written as:\n",
    "$$H_{uni}=-K_u \\sum_i (\\vec{S_i}\\cdot \\vec{e})^2$$\n",
    "where $\\vec{e}$ is vector of easy/hard axis, $K_u$ is the strength of the uniaxial single ion anistropy.\n",
    "\n",
    "#### Exercise:  easy axis & hard axis\n",
    "Try to tune the sign of k1 ($K_u$)and the orientation of k1dir ($\\vec{e}$) and answer the following questions:\n",
    "  *  what is the physical meaning of $k1>0$ and $k1<0$ "
   ]
  },
  {
   "cell_type": "code",
   "execution_count": 2,
   "metadata": {},
   "outputs": [
    {
     "data": {
      "application/vnd.jupyter.widget-view+json": {
       "model_id": "6f7e47a6b44d4962a47537cba3e5ea63",
       "version_major": 2,
       "version_minor": 0
      },
      "text/plain": [
       "interactive(children=(FloatSlider(value=1.0, description='k1 (meV):', max=1.0, min=-1.0), Dropdown(description…"
      ]
     },
     "metadata": {},
     "output_type": "display_data"
    }
   ],
   "source": [
    "%matplotlib inline\n",
    "from spin_models import *\n",
    "from ipywidgets import FloatSlider, IntSlider, interact, interact_manual, fixed\n",
    "def run_sia(k1, k1dir):\n",
    "    ddict={'x':[1.0, 0.0, 0.0],\n",
    "        'y':[0.0, 1.0, 0.0],\n",
    "           'z':[0.0,0.0,1.0]\n",
    "    }\n",
    "    ham=exchange_1d_hamiltonian(\n",
    "                            k1=np.array([k1*meV]),  # amplitude of single ion anistropy\n",
    "                            k1dir=np.array([ddict[k1dir]]), # direction of single ion anistropy\n",
    "                            )\n",
    "    plot_supercell(ham, supercell_matrix=np.diag([1, 1,1]), plot_type='2d')\n",
    "interact_manual(run_sia, k1=FloatSlider(value=1, min=-1, max=1, description='k1 (meV):'), k1dir=['x','y','z']);"
   ]
  },
  {
   "cell_type": "markdown",
   "metadata": {},
   "source": [
    "### Dzyaloshinskii-Moriya Interaction (DMI): \n",
    "For two magnetic ion A connected by another ion B, there is a kind of interaction preferring the spins to be perpendicular to each other.  \n",
    "![DMI.png](DMI.jpg)\n",
    "\n",
    "DMI is also called antisymmetric because $\\vec{D_{ij}}=-\\vec{D_{ji}}$. It has the property of pseudovector $\\vec{D_{ij}}\\propto \\vec{r_{ij}}\\times\\vec{x}$. \n",
    "\n",
    "The Hamiltonian can be written as:\n",
    "$$ H_{DM} = \\sum_{i\\neq j} \\vec{D}_{ij}\\cdot \\vec{S_i}\\times{\\vec{S_j}}$$\n",
    "\n",
    "#### Exercise: \n",
    "   - In the picture above, what is the direction of $\\vec{D_{ij}}$\n",
    "   - Guess from the Hamiltonian if the spins are aligned right handed or left handed when D (DMI in the code below) is positive or negative. \n",
    "   - Tune the sign of DMI to see if you are right.\n",
    "   "
   ]
  },
  {
   "cell_type": "code",
   "execution_count": 3,
   "metadata": {},
   "outputs": [
    {
     "data": {
      "application/vnd.jupyter.widget-view+json": {
       "model_id": "5b371ad27d0c48aab7f35bebbaa7706d",
       "version_major": 2,
       "version_minor": 0
      },
      "text/plain": [
       "interactive(children=(FloatSlider(value=1.0, description='DMI (meV):', max=1.0, min=-1.0), Button(description=…"
      ]
     },
     "metadata": {},
     "output_type": "display_data"
    }
   ],
   "source": [
    "%matplotlib inline\n",
    "from spin_models import *\n",
    "from ipywidgets import FloatSlider, IntSlider, interact, interact_manual, fixed\n",
    "def run_1d_dmi(dmi):\n",
    "    ham=exchange_1d_hamiltonian(J1=0, \n",
    "                            J2=0,\n",
    "                            DMI=[dmi*meV,0*meV,0*meV], # DMI interaction vector. \n",
    "                            k1=np.array([1*meV]),\n",
    "                            k1dir=np.array([[1.0, 0.0, 0.0]]),\n",
    "                            )\n",
    "    plot_supercell(ham, supercell_matrix=np.diag([8, 1,1]), plot_type='3d')\n",
    "interact_manual(run_1d_dmi, dmi=FloatSlider(value=1, min=-1, max=1, description='DMI (meV):'));"
   ]
  },
  {
   "cell_type": "markdown",
   "metadata": {},
   "source": [
    "## Ordering of spin\n",
    "\n",
    "Now we know the three main spin interactions in crystal. Let's try to see what happens when they are taken all together."
   ]
  },
  {
   "cell_type": "markdown",
   "metadata": {},
   "source": [
    "### 1D spin chain with first & second neighbor exchange\n",
    "\n",
    "#### A simple introduction spin band structure in k-space.\n",
    "   - the periodic alignment of spin can be described with a k-vector, so that $\\vec{k}\\cdot\\vec{\\lambda}=2\\pi$.\n",
    "       *e.g.* in a AFM state of a 1D lattice with lattice parameter $a$, $\\lambda=2a$, $k=2\\pi/2a$. Usually , we use $2\\pi/a$ as the unit of reciprocal space, therefore k=1/2. For FM, we have k=0 ($\\Gamma$).\n",
    "   - We can plot the energy of the $S(\\vec{r})=S(0)\\cdot e^{i\\vec{k}\\cdot\\vec{r}}$ in the Energy versus $k$ figure, where the ground state corresponds to the point having the lowest energy.\n",
    "\n",
    "#### Exercise:\n",
    "* In the 1D spin chain with FM (or AFM) first nearest neighbor (J1), what is the lowest energy q-point? \n",
    "* With both FM and AFM J1, the second nearest neighbor are parrallel, what happens if the second nearest neighbor J2 is AFM?\n",
    "* Tune the values of J1 and J2 and see how the ground state $k$-vector changes."
   ]
  },
  {
   "cell_type": "code",
   "execution_count": 4,
   "metadata": {
    "scrolled": false
   },
   "outputs": [
    {
     "data": {
      "application/vnd.jupyter.widget-view+json": {
       "model_id": "f99c471b1e974829ae10c07c380702a4",
       "version_major": 2,
       "version_minor": 0
      },
      "text/plain": [
       "interactive(children=(FloatSlider(value=10.0, description='1sr NN J (meV):', max=10.0, min=-10.0), FloatSlider…"
      ]
     },
     "metadata": {},
     "output_type": "display_data"
    }
   ],
   "source": [
    "%matplotlib inline\n",
    "from spin_models import *\n",
    "from ipywidgets import FloatSlider, IntSlider, interact, interact_manual, fixed\n",
    "def run_1d_2nn(J1, J2):\n",
    "    ham=exchange_1d_hamiltonian(J1=J1*meV,    # first neighbor exchange\n",
    "                            J2=J2*meV,  # second neighbor exchange\n",
    "                            k1=np.array([-1*meV]),  # single ion anistopy. used here so the spins are inplane (so we can see them.)\n",
    "                            k1dir=np.array([[0.0, 0.0, 1.0]]),\n",
    "                            )\n",
    "    plot_spinwave(ham,\n",
    "              qnames=[ '$\\Gamma$', 'X'],\n",
    "              qvectors=[(0,0,0),\n",
    "                        (0.5,0,0),\n",
    "                       ])\n",
    "\n",
    "    plot_supercell(ham, \n",
    "               supercell_matrix=np.diag([12, 1,1]),\n",
    "               plot_type='2d', length=0.01\n",
    "              )\n",
    "interact_manual(run_1d_2nn, J1=FloatSlider(value=10, min=-10, max=10, description='1sr NN J (meV):'),\n",
    "                J2=FloatSlider(value=-3, min=-10, max=10, description='2nd NN J (meV):')\n",
    "               );"
   ]
  },
  {
   "cell_type": "markdown",
   "metadata": {},
   "source": [
    "### 2D Spin square lattice\n",
    "Now we can go one step further: a 2D square lattice. \n",
    "#### Exercise:\n",
    "* Change Jx and Jy to get different spin ordering. What are their ground state wave vectors?"
   ]
  },
  {
   "cell_type": "code",
   "execution_count": 14,
   "metadata": {},
   "outputs": [
    {
     "data": {
      "application/vnd.jupyter.widget-view+json": {
       "model_id": "a65828b9333640ac93ecec6b9b4e8f8a",
       "version_major": 2,
       "version_minor": 0
      },
      "text/plain": [
       "interactive(children=(FloatSlider(value=3.0, description='J(x) (meV):', max=3.0, min=-3.0), FloatSlider(value=…"
      ]
     },
     "metadata": {},
     "output_type": "display_data"
    }
   ],
   "source": [
    "%matplotlib inline\n",
    "from spin_models import *\n",
    "from ipywidgets import FloatSlider, IntSlider, interact, interact_manual, fixed\n",
    "def run_2d(Jx, Jy):\n",
    "    ham=square_2d_hamiltonian(Jx=Jx*meV, # exchange along x\n",
    "                          Jy=Jy*meV, # exchange along y.\n",
    "                          dmi=0,\n",
    "                          k1=np.array([-0.1 * meV]),\n",
    "                          k1dir=np.array([[0.0, 0.0, 1.0]]))\n",
    "\n",
    "    plot_spinwave(ham,\n",
    "              qnames=['X', '$\\Gamma$', 'Y', 'S','$\\Gamma$'],\n",
    "              qvectors=[(0.5,0,0), # 'X'\n",
    "                        (0,0,0),   # 'Gamma'\n",
    "                        (0,0.5,0), # 'Y'\n",
    "                        (0.5,0.5,0), # 'S'\n",
    "                        (0,0,0)])   # 'Gamma'\n",
    "    plot_supercell(ham, \n",
    "               supercell_matrix=np.diag([4, 4,1]),\n",
    "               plot_type='2d')\n",
    "interact_manual(run_2d, Jx=FloatSlider(value=3, min=-3, max=3, description='J(x) (meV):'),\n",
    "                Jy=FloatSlider(value=3, min=-3, max=3, description='J(y) (meV):')\n",
    "               );"
   ]
  },
  {
   "cell_type": "markdown",
   "metadata": {},
   "source": [
    "### 2D triangular lattice (Frustration 2)\n",
    "In a regular situation, two spins would be quite happy to be parallel or antiparallel. What happens when the crystal structure doesn't allow them to be that happy? Here's an example.\n",
    "\n",
    "In a triangle structure with all first neighbor interactions antiferromagnetic, two spins want to be antiparallel, but what about the third one?\n",
    "\n",
    "![triangular](triangle.png)\n",
    "\n",
    "#### Exercise:\n",
    "   - Find out what the ground state of 2D AFM triangular lattice is?\n",
    "   - Play with the size of the supercell (by changing the supercelll_matrix), and see how the magnetic configuration changes."
   ]
  },
  {
   "cell_type": "code",
   "execution_count": 6,
   "metadata": {},
   "outputs": [
    {
     "data": {
      "application/vnd.jupyter.widget-view+json": {
       "model_id": "0abf0a738808417f916847a9bd23f3f9",
       "version_major": 2,
       "version_minor": 0
      },
      "text/plain": [
       "interactive(children=(FloatSlider(value=-2.0, description='J (meV):', max=3.0, min=-3.0), Button(description='…"
      ]
     },
     "metadata": {},
     "output_type": "display_data"
    }
   ],
   "source": [
    "%matplotlib inline\n",
    "from spin_models import *\n",
    "from ipywidgets import FloatSlider, IntSlider, interact, interact_manual, fixed\n",
    "def run_2d_triangle(J):\n",
    "    ham=traingular_2d_hamiltonian(J1=J*meV,\n",
    "                              k1=np.array([-1*meV]),\n",
    "                              k1dir=np.array([[0.0, 0.0, 1.0]]))\n",
    "    plot_spinwave(ham, \n",
    "              qnames=[ '$\\Gamma$', 'M', 'K','$\\Gamma$'],\n",
    "              qvectors=[\n",
    "                        (0,0,0),\n",
    "                        (0.5,0,0),\n",
    "                        (1.0/3,1.0/3,0),\n",
    "                        (0,0,0)\n",
    "                       ]) \n",
    "    plot_supercell(ham, \n",
    "               supercell_matrix=np.diag([12, 12,1]),\n",
    "               plot_type='2d')\n",
    "interact_manual(run_2d_triangle, J=FloatSlider(value=-2, min=-3, max=3, description='J (meV):'));   "
   ]
  },
  {
   "cell_type": "markdown",
   "metadata": {},
   "source": [
    "### 3D cubic lattice (FM, A-type, C-type, G-type, etc...)\n",
    "Now let's check the usual spin configurations in 3D cubic structure.\n",
    "\n",
    "![cubic](cubic.png)\n",
    "\n",
    "#### Exercise:\n",
    " - Tune Jx, Jy and Jz to get the FM, A, C, G type spin configuration.\n",
    " - What are their wave vectors?"
   ]
  },
  {
   "cell_type": "code",
   "execution_count": 7,
   "metadata": {},
   "outputs": [
    {
     "data": {
      "application/vnd.jupyter.widget-view+json": {
       "model_id": "0e004413d599404ba55a865369537e7b",
       "version_major": 2,
       "version_minor": 0
      },
      "text/plain": [
       "interactive(children=(FloatSlider(value=10.0, description='Jx (meV):', max=10.0, min=-10.0), FloatSlider(value…"
      ]
     },
     "metadata": {},
     "output_type": "display_data"
    }
   ],
   "source": [
    "%matplotlib inline\n",
    "from spin_models import *\n",
    "from ipywidgets import FloatSlider, IntSlider, interact, interact_manual, fixed\n",
    "def run_3d(Jx, Jy, Jz):\n",
    "    ham=cubic_3d_hamiltonian(Jx=Jx*meV,\n",
    "                         Jy=Jy*meV,\n",
    "                         Jz=Jz*meV,\n",
    "                         #DMI=[0, 0, 0e-21],\n",
    "                         #k1=np.array([-0 * mu_B]),\n",
    "                         #k1dir=np.array([[0.0, 0, 1.0]])\n",
    "                        )\n",
    "    plot_spinwave(ham,\n",
    "              qnames=['X', '$\\Gamma$', 'Y', 'S','$\\Gamma$','Z','M','R'],\n",
    "              qvectors=[(0.5,0,0), # X\n",
    "                        (0,0,0), # Gamma\n",
    "                        (0,0.5,0), # Y\n",
    "                        (0.5,0.5,0), # S\n",
    "                        (0,0,0), # Gamma\n",
    "                        (0,0,0.5), # Z\n",
    "                        (0,0.5,0.5), # M\n",
    "                        (0.5,0.5,0.5) # R\n",
    "                       ])\n",
    "    plot_supercell(ham, \n",
    "               supercell_matrix=np.diag([4, 4,4]),\n",
    "               plot_type='3d', length=0.6)\n",
    "interact_manual(run_3d, Jx=FloatSlider(value=10, min=-10, max=10, description='Jx (meV):'),\n",
    "                        Jy=FloatSlider(value=10, min=-10, max=10, description='Jy (meV):'),\n",
    "                        Jz=FloatSlider(value=10, min=-10, max=10, description='Jz (meV):'),\n",
    "               );     "
   ]
  },
  {
   "cell_type": "markdown",
   "metadata": {},
   "source": [
    "### 1D AFM spin chain with DMI. (spin canting)\n",
    "\n",
    "In a structure with exchange and DMI, the exchange interaction wants the spins to be parallel or antiparallel, whereas the DMI wants the spin to be perpendicular to each nearest neighbor. What is the result of their battle? (Note DMI is oftern much weaker).\n",
    "\n",
    "In the following exercise we build the 1D chain with both exchange and DMI together.\n",
    "The DMI1 and DMI2 are two consecutive DMI interactions, as shown in the picture below.\n",
    "\n",
    "![canting_DMI](canting.png)\n",
    "\n",
    "#### Exercise:\n",
    "- Set DMI to 0 to get AFM magnetic order.\n",
    "- Set J1 to zero. Then change sign of DMI1 and DMI2 to see how the spin configuration changes.\n",
    "- Turn on both J and DMI. Tune the signs of J and DMI1, DMI2 to see when does spin canting happen.\n",
    "- Change the value of DMI to tune the canting angle.\n",
    " "
   ]
  },
  {
   "cell_type": "code",
   "execution_count": 8,
   "metadata": {
    "scrolled": false
   },
   "outputs": [
    {
     "data": {
      "application/vnd.jupyter.widget-view+json": {
       "model_id": "48103a1d50954b5da784f6b3c6942c6b",
       "version_major": 2,
       "version_minor": 0
      },
      "text/plain": [
       "interactive(children=(FloatSlider(value=-5.0, description='J (meV):', max=10.0, min=-10.0), FloatSlider(value=…"
      ]
     },
     "metadata": {},
     "output_type": "display_data"
    }
   ],
   "source": [
    "%matplotlib inline\n",
    "from spin_models import *\n",
    "from ipywidgets import FloatSlider, IntSlider, interact, interact_manual, fixed\n",
    "def run_1d_canting(J, dmi):\n",
    "    ham=canting_1d_hamiltonian(J1=J*meV,\n",
    "                            #J2=0e-21,\n",
    "                            DMI1=[0e-21,0, dmi*meV],\n",
    "                            DMI2=[-0e-21,0, -dmi*meV],\n",
    "                            k1=np.array([0.2*meV]),\n",
    "                            k1dir=np.array([[1.0, 0.0, 0.0]]),\n",
    "                            plot_type='2d')\n",
    "    #ham.write_xml('canting.xml')\n",
    "    plot_supercell(ham, \n",
    "               supercell_matrix=np.diag([4, 1,1]),\n",
    "               plot_type='2d', length=0.1)\n",
    "interact_manual(run_1d_canting, J=FloatSlider(value=-5, min=-10, max=10, description='J (meV):'),\n",
    "                        dmi=FloatSlider(value=1, min=-10, max=10, description='DMI (meV):'),\n",
    "               );  "
   ]
  },
  {
   "cell_type": "markdown",
   "metadata": {},
   "source": [
    "### Domain Wall\n",
    "In the examples above, all the spins are aligned in a order which can be described as a wave which has a specific period. We can say that they are in a single domain. Now, let's have a look at the domain wall. In a ferromagnetic slab, a magnetic field toward z direction is applied on half of the xy plane ($x<L_x/2$ ), and a opposite magnetic field is on the other half. Thus two domains are formed with a domain wall at the interface between them (periodic boundary condition is not used here so there is only one interface).\n",
    "#### Exercise\n",
    "* Tune the strength of ferromagnetic interaction (J) to see how it affect the thickness of the domain wall."
   ]
  },
  {
   "cell_type": "code",
   "execution_count": 9,
   "metadata": {},
   "outputs": [
    {
     "data": {
      "application/vnd.jupyter.widget-view+json": {
       "model_id": "e483394a746e4edc88a77dcf5e741924",
       "version_major": 2,
       "version_minor": 0
      },
      "text/plain": [
       "interactive(children=(FloatSlider(value=1.0, description='J (meV):', max=2.0), Button(description='Run Interac…"
      ]
     },
     "metadata": {},
     "output_type": "display_data"
    }
   ],
   "source": [
    "%matplotlib inline\n",
    "from spin_models import *\n",
    "from ipywidgets import FloatSlider, IntSlider, interact, interact_manual, fixed\n",
    "\n",
    "\n",
    "\n",
    "def run_3d_domainwall(J):\n",
    "    ham=cubic_3d_hamiltonian(Jx=J*meV,\n",
    "                         Jy=J*meV,\n",
    "                         Jz=J*meV,\n",
    "                         #k1=np.array([0.3*meV]),\n",
    "                         k1dir=np.array([[0.0, 0.0, 1.0]])\n",
    "                        )\n",
    "    #plot_supercell(ham, \n",
    "    #           supercell_matrix=np.diag([12, 12,1]),\n",
    "    #           plot_type='dynamic',time_step=2e-3,\n",
    "    #           total_time=50)\n",
    "    plot_supercell(ham, \n",
    "               supercell_matrix=np.diag([12, 12,1]),\n",
    "               plot_type='2d', length=0.3)\n",
    "               \n",
    "interact_manual(run_3d_domainwall, J=FloatSlider(value=1, min=0, max=2, description='J (meV):'),\n",
    "                #k1=FloatSlider(value=3, min=-6, max=6, description='k1 (meV):')\n",
    "               );  \n"
   ]
  },
  {
   "cell_type": "markdown",
   "metadata": {},
   "source": [
    "### Skyrmiron and stripe domains\n",
    "A peculiar kind of \"domain\" is Skyrmiron, which looks like a vortex. Here we peak \n",
    "\n",
    "* Tune the external magnetic field to see what happens. How can we get Skyrmirons. \n",
    "* Tune the Jx, Jy, and dmi to see how to change the radius of the skymirons."
   ]
  },
  {
   "cell_type": "code",
   "execution_count": 10,
   "metadata": {
    "scrolled": false
   },
   "outputs": [
    {
     "data": {
      "application/vnd.jupyter.widget-view+json": {
       "model_id": "74210da49d41464195f54d05ec741e6c",
       "version_major": 2,
       "version_minor": 0
      },
      "text/plain": [
       "interactive(children=(FloatSlider(value=1.0, description='J (meV):', max=3.0), FloatSlider(value=0.7, descript…"
      ]
     },
     "metadata": {},
     "output_type": "display_data"
    }
   ],
   "source": [
    "%matplotlib inline\n",
    "from spin_models import *\n",
    "from ipywidgets import FloatSlider, IntSlider, interact, interact_manual, fixed\n",
    "def run_2d_skyrmiron(J, dmi, bfield):\n",
    "    ham=square_2d_hamiltonian(Jx=J*meV, # exchange along x\n",
    "                        Jy=J*meV, # exchange along y.\n",
    "                        dmi=dmi*meV,\n",
    "                              k1=np.array([0.0 * meV]),\n",
    "                              k1dir=np.array([[0.0, 0.0, 1.0]]))\n",
    "    ham.set_external_hfield([[0,0,bfield]])\n",
    "    plot_spinwave(ham,\n",
    "              qnames=['X', '$\\Gamma$', 'Y', 'S','$\\Gamma$'],\n",
    "              qvectors=[(0.5,0,0), # 'X'\n",
    "                        (0,0,0),   # 'Gamma'\n",
    "                        (0,0.5,0), # 'Y'\n",
    "                        (0.5,0.5,0), # 'S'\n",
    "                        (0,0,0)])   # 'Gamma'\n",
    "    #plot_supercell(ham, \n",
    "    #           supercell_matrix=np.diag([32, 32,1]),\n",
    "    #           plot_type='dynamic',\n",
    "    #           marker_size=5,\n",
    "    #           length=0.2,\n",
    "    #           show_z=True,\n",
    "    #           temperature=0,\n",
    "    #           time_step=2e-3,\n",
    "    #           total_time=50)\n",
    "    \n",
    "    plot_supercell(ham, \n",
    "               supercell_matrix=np.diag([32, 32,1]),\n",
    "               plot_type='2d',\n",
    "               #marker_size=5,\n",
    "               length=0.2,\n",
    "               #show_z=True,\n",
    "               #temperature=0,\n",
    "               #time_step=2e-3,\n",
    "               #total_time=50\n",
    "                  )\n",
    "interact_manual(run_2d_skyrmiron, J=FloatSlider(value=1, min=0, max=3, description='J (meV):'),\n",
    "                dmi=FloatSlider(value=0.7, min=-1, max=1, description='dmi (meV):'),\n",
    "                bfield=FloatSlider(value=5, min=-15, max=15, description='B (Tesla):'),\n",
    "               );    "
   ]
  },
  {
   "cell_type": "markdown",
   "metadata": {},
   "source": [
    "## Critical Temperature\n",
    "In the above examples, we assumed the temperature is 0K. As the temperature increases, the spins will be excited from their ground state (thermal fluctuations). At a critical temperature there will be a phase transition when the thermal fluctuation is larger than the magnetic interactions.  "
   ]
  },
  {
   "cell_type": "markdown",
   "metadata": {},
   "source": [
    "### Tc of 1D ferromagnetic structure\n",
    "Here we analyze what happens when the temperature is above 0K in the 1D FM chain case.\n"
   ]
  },
  {
   "cell_type": "code",
   "execution_count": 11,
   "metadata": {},
   "outputs": [
    {
     "data": {
      "application/vnd.jupyter.widget-view+json": {
       "model_id": "7c8edea3bfba4d0cbf79482c55ec66c0",
       "version_major": 2,
       "version_minor": 0
      },
      "text/plain": [
       "interactive(children=(FloatSlider(value=5.0, description='J (meV):', max=10.0, min=-10.0), IntSlider(value=50,…"
      ]
     },
     "metadata": {},
     "output_type": "display_data"
    }
   ],
   "source": [
    "%matplotlib inline\n",
    "from spin_models import *\n",
    "from ipywidgets import FloatSlider, IntSlider, interact, interact_manual, fixed\n",
    "def run_1d_MvT(J, Tmax, nstep):\n",
    "    ham=exchange_1d_hamiltonian(J1=J*meV, \n",
    "                            )\n",
    "    plot_M_vs_T(ham, \n",
    "            supercell_matrix=np.diag([1,1,100]),\n",
    "            Tlist=np.arange(0.0,Tmax,nstep))\n",
    "interact_manual(run_1d_MvT, J=FloatSlider(value=5, min=-10, max=10, description='J (meV):'),\n",
    "                        Tmax=(10, 100, 10),\n",
    "                        nstep=(1, 10),\n",
    "               );"
   ]
  },
  {
   "cell_type": "markdown",
   "metadata": {},
   "source": [
    "### Tc of 3D cubic lattice\n",
    "In three dimension, it is a different story. \n",
    "Let's heat up the FM 3D cubic lattice to see what happens. The figure below shows how the average magnetic moment evolve with time. The initial state is the FM state. \n",
    "#### Exercise:\n",
    "* Tune the temperature to 0K , 600K , 1000K to see what happens.\n",
    "\n",
    "    "
   ]
  },
  {
   "cell_type": "code",
   "execution_count": 12,
   "metadata": {
    "scrolled": true
   },
   "outputs": [
    {
     "data": {
      "application/vnd.jupyter.widget-view+json": {
       "model_id": "c1e3575109434d9a90aca5aaf6111b27",
       "version_major": 2,
       "version_minor": 0
      },
      "text/plain": [
       "interactive(children=(FloatSlider(value=0.0, description='T (K):', max=1000.0), Button(description='Run Intera…"
      ]
     },
     "metadata": {},
     "output_type": "display_data"
    }
   ],
   "source": [
    "%matplotlib inline\n",
    "from spin_models import *\n",
    "from ipywidgets import FloatSlider, IntSlider, interact, interact_manual, fixed\n",
    "def run_3d_dynamics(T):\n",
    "    ham=cubic_3d_hamiltonian(Jx=30*meV,\n",
    "                         Jy=30*meV,\n",
    "                         Jz=30*meV,\n",
    "                        )\n",
    "    plot_M_vs_time(ham, \n",
    "            supercell_matrix=np.diag([6,6,6]), # size of supercell\n",
    "            temperature=T)\n",
    "interact_manual(run_3d_dynamics, T=FloatSlider(value=0, min=0, max=1000, description='T (K):'),\n",
    "               );"
   ]
  },
  {
   "cell_type": "markdown",
   "metadata": {},
   "source": [
    "#### Exercise\n",
    "The figure below shows the average magnetic moment versus temperature. \n",
    "* Tune the size of the supercell (do not use a too large supercell, otherwise the caluclation will take too long.)"
   ]
  },
  {
   "cell_type": "code",
   "execution_count": 13,
   "metadata": {},
   "outputs": [
    {
     "data": {
      "application/vnd.jupyter.widget-view+json": {
       "model_id": "46f9cdf8bee54521a436e5f94a7aa025",
       "version_major": 2,
       "version_minor": 0
      },
      "text/plain": [
       "interactive(children=(FloatSlider(value=20.0, description='J (meV):', max=40.0), IntSlider(value=6, descriptio…"
      ]
     },
     "metadata": {},
     "output_type": "display_data"
    }
   ],
   "source": [
    "%matplotlib inline\n",
    "import os\n",
    "from spin_models import *\n",
    "from ipywidgets import FloatSlider, IntSlider, interact, interact_manual, fixed\n",
    "def run_3d_MvT(J,ncell):\n",
    "    ham=cubic_3d_hamiltonian(Jx=J*meV,\n",
    "                         Jy=J*meV,\n",
    "                         Jz=J*meV,\n",
    "                         #DMI=[0, 0, 0.5e-21],\n",
    "                         #k1=np.array([-0 * mu_B]),\n",
    "                         #k1dir=np.array([[0.0, 0, 1.0]])\n",
    "                        )\n",
    "    plot_M_vs_T(ham, \n",
    "            supercell_matrix=np.diag([ncell,ncell,ncell]), # size of the supercell, maximum [6,6,6].\n",
    "            Tlist=np.arange(0.0,1200,100))     # range of temperature.\n",
    "interact_manual(run_3d_MvT, J=FloatSlider(value=20, min=0, max=40, description='J (meV):'),\n",
    "                ncell=IntSlider(value=6, min=2, max=20, description='ncell:')\n",
    "               );"
   ]
  },
  {
   "cell_type": "code",
   "execution_count": null,
   "metadata": {},
   "outputs": [],
   "source": []
  }
 ],
 "metadata": {
  "kernelspec": {
   "display_name": "Python 3 (ipykernel)",
   "language": "python",
   "name": "python3"
  },
  "language_info": {
   "codemirror_mode": {
    "name": "ipython",
    "version": 3
   },
   "file_extension": ".py",
   "mimetype": "text/x-python",
   "name": "python",
   "nbconvert_exporter": "python",
   "pygments_lexer": "ipython3",
   "version": "3.9.7"
  }
 },
 "nbformat": 4,
 "nbformat_minor": 2
}
