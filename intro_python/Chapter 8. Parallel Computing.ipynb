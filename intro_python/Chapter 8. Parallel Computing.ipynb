{
 "cells": [
  {
   "cell_type": "markdown",
   "metadata": {},
   "source": [
    " <div style=\"clear: both; display: table;\">\n",
    "  <div style=\"border: none; float: left; width: 60%; padding: 5px\">\n",
    "  <h1 id=\"subtitle\">Chapter 8. Parallel Computing</h1>\n",
    "  <h2 id=\"subtitle\">Guillermo Avendaño Franco <br> Aldo Humberto Romero</h2>\n",
    "  <br>\n",
    "  <img src=\"fig/1-line logotype124-295.png\" alt=\"Scientific Computing with Python\" style=\"width:50%\" align=\"left\">\n",
    "  </div>\n",
    "  <div style=\"border: none; float: left; width: 30%; padding: 5px\">\n",
    "  <img src=\"fig/SCPython.png\" alt=\"Scientific Computing with Python\" style=\"width:100%\">\n",
    "  </div>\n",
    "</div>\n",
    "\n",
    "Adapted by **Guillermo Avendaño** (WVU), **Jose Rogan** (Universidad de Chile) and **Aldo Humberto Romero** (WVU) from the [Tutorials for Stanford cs228 and cs231n](https://github.com/kuleshov/cs228-material). A large parte of the info was also built from scratch. In turn, that material was adapted by [Volodymyr Kuleshov](http://web.stanford.edu/~kuleshov/) and [Isaac Caswell](https://symsys.stanford.edu/viewing/symsysaffiliate/21335) from the `CS231n` Python tutorial by Justin Johnson (http://cs231n.github.io/python-numpy-tutorial/).\n",
    "\n",
    "Changes to the original tutorial include strict Python 3 formats and split of the material to fit a series of lessons on Python Programming for WVU's faculty and graduate students.\n",
    "\n",
    "The support of the National Science Foundation and the US Department of Energy under projects: DMREF-NSF 1434897, NSF OAC-1740111 and DOE DE-SC0016176 is recognized.\n",
    "\n",
    "<div style=\"clear: both; display: table;\">\n",
    "<div style=\"border: none; float: left; width: 40%; padding: 10px\">\n",
    "<img src=\"fig/NSF.jpg\" alt=\"National Science Foundation\" style=\"width:50%\" align=\"left\">\n",
    "    </div>\n",
    "    <div style=\"border: none; float: right; width: 40%; padding: 10px\">\n",
    "<img src=\"fig/DOE.jpg\" alt=\"National Science Foundation\" style=\"width:50%\" align=\"right\">\n",
    "</div>"
   ]
  },
  {
   "cell_type": "markdown",
   "metadata": {},
   "source": [
    "## Table of Contents\n",
    "\n",
    "Python is a great general-purpose programming language on its own. This notebook is focused on Parallel Computing. \n",
    "There are several ways on which Python can take advantage of multicore CPUs this notebook explores both the implicit and explicit ways of using multiple cores for Scientific Computing with Python.\n",
    "Other episodes in the series include:\n",
    "\n",
    "  * Python Syntax \n",
    "  * The Python Standard Library\n",
    "  * Numpy\n",
    "  * Matplotlib\n",
    "  * Scipy\n",
    "  * Pandas\n",
    "  * Cython\n",
    "  * **Parallel Computing \\[This notebook\\]**\n",
    "\n",
    "After completing all the series in this lesson you will realize that python has become a powerful environment for scientific computing at several levels, from intereactive computing to scripting to big project developments."
   ]
  },
  {
   "cell_type": "markdown",
   "metadata": {},
   "source": [
    "## Setup"
   ]
  },
  {
   "cell_type": "code",
   "execution_count": 1,
   "metadata": {},
   "outputs": [],
   "source": [
    "%load_ext watermark"
   ]
  },
  {
   "cell_type": "code",
   "execution_count": 2,
   "metadata": {},
   "outputs": [
    {
     "name": "stdout",
     "output_type": "stream",
     "text": [
      "Last updated: 2022-08-11T23:36:38.919187-04:00\n",
      "\n",
      "Python implementation: CPython\n",
      "Python version       : 3.9.13\n",
      "IPython version      : 8.2.0\n",
      "\n",
      "Compiler    : Clang 11.0.3 (clang-1103.0.32.62)\n",
      "OS          : Darwin\n",
      "Release     : 19.6.0\n",
      "Machine     : x86_64\n",
      "Processor   : i386\n",
      "CPU cores   : 8\n",
      "Architecture: 64bit\n",
      "\n"
     ]
    }
   ],
   "source": [
    "%watermark"
   ]
  },
  {
   "cell_type": "code",
   "execution_count": 3,
   "metadata": {},
   "outputs": [
    {
     "name": "stdout",
     "output_type": "stream",
     "text": [
      "numpy     : 1.22.4\n",
      "matplotlib: 3.5.1\n",
      "\n"
     ]
    }
   ],
   "source": [
    "import time\n",
    "start = time.time()\n",
    "chapter_number = 8\n",
    "import matplotlib\n",
    "%matplotlib inline\n",
    "%load_ext autoreload\n",
    "%autoreload 2\n",
    "import numpy as np\n",
    "import matplotlib.pyplot as plt\n",
    "%watermark -iv"
   ]
  },
  {
   "cell_type": "markdown",
   "metadata": {},
   "source": [
    "# Parallel Computing"
   ]
  },
  {
   "cell_type": "markdown",
   "metadata": {},
   "source": [
    "Everything we have discussed now, only refers to calculations that use a single processor, but Python already offers a series of tools and implementations for parallel computing. In this notebook, we will discuss some of the possible uses and existing libraries on Parallel python. Up to now, we have made choices on the libraries we have been using, but we would like to stress that this is a very important step in the case of high performance computing. As this is going to be an important factor, let us recall a function that we will use a lot %timeit. This is just a method to measure the time used for the computation.\n",
    "\n",
    "As you can image, no all algorithms and parallelizable and that is something we need to keep in mind. Also, Python is not the programming language for parallelization but, as you have already covered a lot, I think, it is a good idea that we used to build the basics of parallel computing.\n",
    "\n",
    "Another issue, it is how to improve Python performance. Python is not really created for numerical applications but it is true that we can use different packages or methodologies to be interface with python. This is what is going to be discussed here. We will discuss, where it is going to be a good idea to communicate with an external package (probably created by a compiled language) or when the overhead could be so big that using python would be better."
   ]
  },
  {
   "cell_type": "markdown",
   "metadata": {},
   "source": [
    "# Intrinsic Parallelization (Numpy and Scipy)"
   ]
  },
  {
   "cell_type": "markdown",
   "metadata": {},
   "source": [
    "As discussed, the core part of Numpy is to deal with numpy arrays. This library has a lot of functionality, where many of the functions come from intrinsic implementations from C or Fortran. Usually the library relies on Lapack or BLAS to perform low level computations (if the libraries already exist in your library, you need to configure and compile Numpy in your system. To check which configuration you are using, runs the following commands"
   ]
  },
  {
   "cell_type": "code",
   "execution_count": 4,
   "metadata": {},
   "outputs": [
    {
     "name": "stdout",
     "output_type": "stream",
     "text": [
      "openblas64__info:\n",
      "    libraries = ['openblas64_', 'openblas64_']\n",
      "    library_dirs = ['/usr/local/lib']\n",
      "    language = c\n",
      "    define_macros = [('HAVE_CBLAS', None), ('BLAS_SYMBOL_SUFFIX', '64_'), ('HAVE_BLAS_ILP64', None)]\n",
      "    runtime_library_dirs = ['/usr/local/lib']\n",
      "blas_ilp64_opt_info:\n",
      "    libraries = ['openblas64_', 'openblas64_']\n",
      "    library_dirs = ['/usr/local/lib']\n",
      "    language = c\n",
      "    define_macros = [('HAVE_CBLAS', None), ('BLAS_SYMBOL_SUFFIX', '64_'), ('HAVE_BLAS_ILP64', None)]\n",
      "    runtime_library_dirs = ['/usr/local/lib']\n",
      "openblas64__lapack_info:\n",
      "    libraries = ['openblas64_', 'openblas64_']\n",
      "    library_dirs = ['/usr/local/lib']\n",
      "    language = c\n",
      "    define_macros = [('HAVE_CBLAS', None), ('BLAS_SYMBOL_SUFFIX', '64_'), ('HAVE_BLAS_ILP64', None), ('HAVE_LAPACKE', None)]\n",
      "    runtime_library_dirs = ['/usr/local/lib']\n",
      "lapack_ilp64_opt_info:\n",
      "    libraries = ['openblas64_', 'openblas64_']\n",
      "    library_dirs = ['/usr/local/lib']\n",
      "    language = c\n",
      "    define_macros = [('HAVE_CBLAS', None), ('BLAS_SYMBOL_SUFFIX', '64_'), ('HAVE_BLAS_ILP64', None), ('HAVE_LAPACKE', None)]\n",
      "    runtime_library_dirs = ['/usr/local/lib']\n",
      "Supported SIMD extensions in this NumPy install:\n",
      "    baseline = SSE,SSE2,SSE3\n",
      "    found = SSSE3,SSE41,POPCNT,SSE42,AVX,F16C\n",
      "    not found = FMA3,AVX2,AVX512F,AVX512CD,AVX512_KNL,AVX512_SKX,AVX512_CLX,AVX512_CNL,AVX512_ICL\n",
      "lapack_armpl_info:\n",
      "  NOT AVAILABLE\n",
      "lapack_mkl_info:\n",
      "  NOT AVAILABLE\n",
      "openblas_lapack_info:\n",
      "    libraries = ['openblas', 'openblas']\n",
      "    library_dirs = ['/opt/local/lib']\n",
      "    language = c\n",
      "    define_macros = [('HAVE_CBLAS', None)]\n",
      "    runtime_library_dirs = ['/opt/local/lib']\n",
      "lapack_opt_info:\n",
      "    libraries = ['openblas', 'openblas']\n",
      "    library_dirs = ['/opt/local/lib']\n",
      "    language = c\n",
      "    define_macros = [('HAVE_CBLAS', None)]\n",
      "    runtime_library_dirs = ['/opt/local/lib']\n",
      "blas_armpl_info:\n",
      "  NOT AVAILABLE\n",
      "blas_mkl_info:\n",
      "  NOT AVAILABLE\n",
      "blis_info:\n",
      "  NOT AVAILABLE\n",
      "openblas_info:\n",
      "    libraries = ['openblas', 'openblas']\n",
      "    library_dirs = ['/opt/local/lib']\n",
      "    language = c\n",
      "    define_macros = [('HAVE_CBLAS', None)]\n",
      "    runtime_library_dirs = ['/opt/local/lib']\n",
      "blas_opt_info:\n",
      "    libraries = ['openblas', 'openblas']\n",
      "    library_dirs = ['/opt/local/lib']\n",
      "    language = c\n",
      "    define_macros = [('HAVE_CBLAS', None)]\n",
      "    runtime_library_dirs = ['/opt/local/lib']\n",
      "Supported SIMD extensions in this NumPy install:\n",
      "    baseline = SSE,SSE2,SSE3\n",
      "    found = SSSE3,SSE41,POPCNT,SSE42,AVX,F16C\n",
      "    not found = FMA3,AVX2,AVX512F,AVX512CD,AVX512_KNL,AVX512_SKX,AVX512_CLX,AVX512_CNL,AVX512_ICL\n"
     ]
    }
   ],
   "source": [
    "import numpy, scipy\n",
    "numpy.__config__.show()\n",
    "scipy.__config__.show()"
   ]
  },
  {
   "cell_type": "markdown",
   "metadata": {},
   "source": [
    "If they are not linked to CLAS of LAPACK, you will need to reconfigure your Numpy. For such, you can look on the web on how to do that.\n",
    "Now, the operations in Numpy are vectorized, which means that if we add two vectors and they do not have the same dimension, it will raise an error. For example"
   ]
  },
  {
   "cell_type": "code",
   "execution_count": 5,
   "metadata": {},
   "outputs": [],
   "source": [
    "import numpy as np"
   ]
  },
  {
   "cell_type": "markdown",
   "metadata": {},
   "source": [
    "```python\n",
    "a=np.ones(10); b=np.ones(8)\n",
    "a+b\n",
    "```\n",
    "    ---------------------------------------------------------------------------\n",
    "    ValueError                                Traceback (most recent call last)\n",
    "    Input In [6], in <cell line: 2>()\n",
    "          1 a=np.ones(10); b=np.ones(8)\n",
    "    ----> 2 a+b\n",
    "\n",
    "    ValueError: operands could not be broadcast together with shapes (10,) (8,) \n"
   ]
  },
  {
   "cell_type": "code",
   "execution_count": 6,
   "metadata": {},
   "outputs": [
    {
     "data": {
      "text/plain": [
       "array([2., 2., 2., 2., 2., 2., 2., 2., 2., 2.])"
      ]
     },
     "execution_count": 6,
     "metadata": {},
     "output_type": "execute_result"
    }
   ],
   "source": [
    "a=np.ones(10); b=np.ones(10)\n",
    "a+b"
   ]
  },
  {
   "cell_type": "markdown",
   "metadata": {},
   "source": [
    "The reason why is it better to use addition or other functions of numpy arrays, it is because these operations are implemented already in C and numpy is just the interface."
   ]
  },
  {
   "cell_type": "markdown",
   "metadata": {},
   "source": [
    "Now, a note on the side, do not confusse element-wise multiplication (A*B) with matrix multiplication (dot(A,B)). For example"
   ]
  },
  {
   "cell_type": "code",
   "execution_count": 7,
   "metadata": {},
   "outputs": [],
   "source": [
    "a=np.ones((4,4))\n",
    "b=np.random.rand(4,4)"
   ]
  },
  {
   "cell_type": "code",
   "execution_count": 8,
   "metadata": {},
   "outputs": [
    {
     "data": {
      "text/plain": [
       "array([[0.60801979, 0.25411743, 0.1896271 , 0.01033257],\n",
       "       [0.81517098, 0.07951194, 0.74211098, 0.31349399],\n",
       "       [0.29001669, 0.07068845, 0.36679108, 0.60698347],\n",
       "       [0.82100213, 0.90388483, 0.78211692, 0.2546498 ]])"
      ]
     },
     "execution_count": 8,
     "metadata": {},
     "output_type": "execute_result"
    }
   ],
   "source": [
    "a*b"
   ]
  },
  {
   "cell_type": "code",
   "execution_count": 9,
   "metadata": {},
   "outputs": [
    {
     "data": {
      "text/plain": [
       "array([[2.53420959, 1.30820265, 2.08064607, 1.18545983],\n",
       "       [2.53420959, 1.30820265, 2.08064607, 1.18545983],\n",
       "       [2.53420959, 1.30820265, 2.08064607, 1.18545983],\n",
       "       [2.53420959, 1.30820265, 2.08064607, 1.18545983]])"
      ]
     },
     "execution_count": 9,
     "metadata": {},
     "output_type": "execute_result"
    }
   ],
   "source": [
    "np.dot(a,b)"
   ]
  },
  {
   "cell_type": "markdown",
   "metadata": {},
   "source": [
    "## Speeding Python"
   ]
  },
  {
   "cell_type": "markdown",
   "metadata": {},
   "source": [
    "Now, as we discussed, there are many other properties in Numpy which are useful on parallel computing. In particular, when it is used with other packages, as it is the case of Scipy. As discussed in the Scipy chapter, this package contains many different algorithms to perform interpolation, Fourier analisys, linear algebra, ordinary differential equations, etc. A great majority of the algorithms are written un C or Fortran and interfaced with Python in this library. \n",
    "We have discussed several examples in the Scipy chapter, but let us here recap and used for the solution of a set of ordinary differential equations. Here, we will use the wrapper odeint, which is a Scipy function on top of the *lsoda* Fortran function. If we time this routine and compare with the compiled version, we will see that Python is really slow. This is mainly due to the fact that Python has to communicate with the Fortran version, pass the data, wait for the one step and do the interpretation of the result."
   ]
  },
  {
   "cell_type": "code",
   "execution_count": 10,
   "metadata": {},
   "outputs": [],
   "source": [
    "import scipy.integrate\n",
    "\n",
    "# Parameters from Google\n",
    "\n",
    "sigma = 10\n",
    "rho = 28\n",
    "beta = 8.0/3\n",
    "\n",
    "def lorenz(xyz, t):\n",
    "    x,y,z = xyz\n",
    "    xdot = sigma*(y-x)\n",
    "    ydot = x*(rho-z) - y\n",
    "    zdot = x*y - beta*z\n",
    "    return [xdot, ydot, zdot]\n",
    "\n",
    "def integrate_lorenz(ic=[1.,1.,1.]):\n",
    "    traj = scipy.integrate.odeint(lorenz, ic, np.arange(0., 1000., 0.05))\n",
    "    return traj"
   ]
  },
  {
   "cell_type": "code",
   "execution_count": 11,
   "metadata": {},
   "outputs": [
    {
     "name": "stdout",
     "output_type": "stream",
     "text": [
      "(20000, 3)\n"
     ]
    }
   ],
   "source": [
    "d=integrate_lorenz()\n",
    "print(d.shape)"
   ]
  },
  {
   "cell_type": "code",
   "execution_count": 12,
   "metadata": {},
   "outputs": [
    {
     "data": {
      "image/png": "[encoded data removed]",
      "text/plain": [
       "<Figure size 576x432 with 1 Axes>"
      ]
     },
     "metadata": {
      "needs_background": "light"
     },
     "output_type": "display_data"
    }
   ],
   "source": [
    "import matplotlib as mpl\n",
    "from mpl_toolkits.mplot3d import Axes3D\n",
    "import matplotlib.pyplot as plt\n",
    "%matplotlib inline  \n",
    "\n",
    "fig = plt.figure(figsize=(12,6))\n",
    "ax = plt.axes(projection='3d')\n",
    "ax.scatter(d[:,0], d[:,1], d[:,2], label='parametric curve')\n",
    "\n",
    "plt.show()\n"
   ]
  },
  {
   "cell_type": "markdown",
   "metadata": {},
   "source": [
    "Now, we have already discussed that using these libraries can be slow. We can improved the performance by using existing libraries that create the C code or the machine language that makes this faster. We have discussed the case of Cython but there is another package which is really easy to use, the so called jit (just in time), which creates C compiled version on the fly. Let see how to use it"
   ]
  },
  {
   "cell_type": "code",
   "execution_count": 13,
   "metadata": {},
   "outputs": [],
   "source": [
    "from numba import jit\n",
    "\n",
    "@jit\n",
    "def numba_lorenz(xyz,t):\n",
    "    x,y,z = xyz\n",
    "    xdot = sigma*(y-x)\n",
    "    ydot = x*(rho-z) - y\n",
    "    zdot = x*y - beta*z\n",
    "    return [xdot, ydot, zdot]\n",
    "\n",
    "def integrate_numba_lorenz(ic=[1.,1.,1.]):\n",
    "    res = scipy.integrate.odeint(numba_lorenz, ic, np.arange(0., 500., 0.05))\n",
    "    return res"
   ]
  },
  {
   "cell_type": "code",
   "execution_count": 14,
   "metadata": {},
   "outputs": [
    {
     "name": "stdout",
     "output_type": "stream",
     "text": [
      "1.23 s ± 7.78 ms per loop (mean ± std. dev. of 7 runs, 1 loop each)\n",
      "338 ms ± 18.6 ms per loop (mean ± std. dev. of 7 runs, 1 loop each)\n"
     ]
    }
   ],
   "source": [
    "%timeit integrate_lorenz()\n",
    "%timeit integrate_numba_lorenz()"
   ]
  },
  {
   "cell_type": "markdown",
   "metadata": {},
   "source": [
    "Ok, now we can see that by introducing simple flags we can get performance close to C or Fortran. That is nice and for that you can use some other libraries:"
   ]
  },
  {
   "cell_type": "markdown",
   "metadata": {},
   "source": [
    "\n",
    "+ CFFI and and ctypes provide \"foreign function interfaces\", or lightweight APIs, for calling C libraries from within Python. This library allows you to use existing libraries in your computers as those dylib or so in your distribution .\n",
    "+ Boost.python helps write C++ libraries that Python can import and use easily.\n",
    "+ SWIG reads C and C++ header files and generates a library than Python can load.\n",
    "+ F2PY reads Fortran code and generates a library that Python can load.\n",
    "+ PyCUDA and PyOpenCL provide access within Python to GPUs.\n",
    "\n",
    "You can also write C code by hand, that can be called by Python."
   ]
  },
  {
   "cell_type": "markdown",
   "metadata": {},
   "source": [
    "Now that we are getting more into the optimization of the Python implementation, it is important that we review how we manage different data collections. We have discussed that Python has basically four different data containers:\n",
    "\n",
    "+ lists: mutable sequence and a collection of objects in definite order \n",
    "+ tuple: unmutable sequence and a collection of objects in definite order\n",
    "+ dict: a mapping and unordered associated keys\n",
    "+ set: unordered collection of unique elements\n",
    "\n",
    "The performance of different actions on the different containers is sometimes different and that is why we need to select a good container depending on the application. To show why this is true, let us take the following example (just finding the intersection between two big lists):"
   ]
  },
  {
   "cell_type": "code",
   "execution_count": 15,
   "metadata": {},
   "outputs": [
    {
     "name": "stdout",
     "output_type": "stream",
     "text": [
      "352 µs ± 12.1 µs per loop (mean ± std. dev. of 7 runs, 1,000 loops each)\n"
     ]
    }
   ],
   "source": [
    "a = set(range(0,10000))\n",
    "b = set(range(0,10000))\n",
    "%timeit c = a & b"
   ]
  },
  {
   "cell_type": "code",
   "execution_count": 16,
   "metadata": {},
   "outputs": [
    {
     "name": "stdout",
     "output_type": "stream",
     "text": [
      "3.35 s ± 336 ms per loop (mean ± std. dev. of 7 runs, 1 loop each)\n"
     ]
    }
   ],
   "source": [
    "a = list(range(0,10000))\n",
    "b = list(range(0,10000))\n",
    "%timeit c = [e1 for e1 in a for e2 in b if e1==e2]"
   ]
  },
  {
   "cell_type": "markdown",
   "metadata": {},
   "source": [
    "Keep this in mind for your application. Always think about the container and if there are tools that allow to search efficiently over the containes (as for example using iteltools). Now let see some simple techniques we can use to make our code faster or better."
   ]
  },
  {
   "cell_type": "markdown",
   "metadata": {},
   "source": [
    "## Lazyness"
   ]
  },
  {
   "cell_type": "markdown",
   "metadata": {},
   "source": [
    "The idea here is to create objects only when they are needed\n",
    "\n",
    "+ Generators: this are functions that create an output but still remember its internal state and therefore can create a succession of actions. A simple example is a *for* loop which are able to create a sequence of data or actions with a predefined stop. \n",
    "\n",
    "+ range: a function that creates a sequence of integer numbers. \n",
    "\n",
    "+ zip:  this is a function that \"zip\" two or mor iterables together. \n",
    "\n",
    "+ open: we can always open a file but then read the whole thing at once: for example\n",
    "\n",
    "with open(\"inputfile\",\"r\") as f:\n",
    "     data=f.readlines()\n",
    "     \n",
    "Now data contains everyting from the file, one line at the time.\n"
   ]
  },
  {
   "cell_type": "code",
   "execution_count": 17,
   "metadata": {},
   "outputs": [
    {
     "name": "stdout",
     "output_type": "stream",
     "text": [
      "<zip object at 0x139913700>\n",
      "[('John', 'Jenny'), ('Charles', 'Christy'), ('Mike', 'Monica')]\n",
      "[0, 30]\n",
      "[1, 31]\n",
      "[2, 32]\n",
      "[3, 33]\n",
      "[4, 34]\n",
      "[5, 35]\n",
      "[6, 36]\n",
      "[7, 37]\n",
      "[8, 38]\n",
      "[9, 39]\n",
      "[('John', 'Jenny', 0), ('Charles', 'Christy', 1), ('Mike', 'Monica', 2), ('?', 'Vicky', 3), ('?', '?', 4)]\n",
      "Number in c: 6\n",
      "Number in d: 0\n",
      "Number in c: 7\n",
      "Number in d: 1\n",
      "Number in c: 8\n",
      "Number in d: 2\n",
      "Number in c: 9\n",
      "Number in d: 3\n"
     ]
    }
   ],
   "source": [
    "a = (\"John\", \"Charles\", \"Mike\")\n",
    "b = (\"Jenny\", \"Christy\", \"Monica\", \"Vicky\")\n",
    "c = list(range(0,10))\n",
    "d = list(range(30,40))\n",
    "\n",
    "x = zip(a, b)\n",
    "print(x)\n",
    "print(list(x))\n",
    "x = zip(c,d)\n",
    "for y in x:\n",
    "    print(list(y))\n",
    "    \n",
    "# Now we can use itertools to fill the missing data in case you are interested on that\n",
    "\n",
    "from itertools import zip_longest\n",
    "\n",
    "c = range(6,10)\n",
    "d = range(5)\n",
    "zipped = zip_longest(a, b, d, fillvalue='?')\n",
    "\n",
    "print(list(zipped))\n",
    "\n",
    "# Another use of zip \n",
    "\n",
    "\n",
    "for l, n in zip(c,d):\n",
    "    print(f'Number in c: {l}')\n",
    "    print(f'Number in d: {n}')\n"
   ]
  },
  {
   "cell_type": "markdown",
   "metadata": {},
   "source": [
    "## Memory Managment"
   ]
  },
  {
   "cell_type": "markdown",
   "metadata": {},
   "source": [
    "Though, it is quite important we optimize our program, one issue that the use needs to take always into account is the memory managment, as it can also impact the code performance. In the case of Python, memory is freed only after the program does not have any other reference to that memory. In C or C++, you always have to allocate or deallocate dynamic memory, while in Python it is not the case. This seems like a very reasonable memory managment but the problem is that the interperter does not really return the memory to the operational system, instead it remains allocated, just in case, the user need it. Therefore, if the system you are running is capped in memory, you will run into troubles. "
   ]
  },
  {
   "cell_type": "markdown",
   "metadata": {},
   "source": [
    "### Memory Profiler"
   ]
  },
  {
   "cell_type": "markdown",
   "metadata": {},
   "source": [
    "To measure the memory use in Python, there are several tricks we can use, for example we can do it for particular objects"
   ]
  },
  {
   "cell_type": "code",
   "execution_count": 18,
   "metadata": {},
   "outputs": [
    {
     "name": "stdout",
     "output_type": "stream",
     "text": [
      "[25, 49, 34, 15, 15, 41, 27]\n"
     ]
    },
    {
     "data": {
      "text/plain": [
       "120"
      ]
     },
     "execution_count": 18,
     "metadata": {},
     "output_type": "execute_result"
    }
   ],
   "source": [
    "import sys\n",
    "import numpy as np\n",
    "import random\n",
    "a=np.random.rand(200)\n",
    "sys.getsizeof(a)\n",
    "#create a list of random integers\n",
    "res = [random.randrange(1, 50, 1) for i in range(7)] \n",
    "print(res)\n",
    "sys.getsizeof(res)"
   ]
  },
  {
   "cell_type": "markdown",
   "metadata": {},
   "source": [
    "If you want to get information about a script you have written, you can use the command\n",
    "\n",
    "python -m memory_profiler myscript.py\n",
    "\n",
    "Or you can also **use mprof**, which plots the memory used in an application. The use is very simple, download the cell below into a script and call it time.py. Then the use is\n",
    "\n",
    "mprof run time.py\n",
    "\n",
    "This command creates a *.dat* file, which is a raw text file that contains the memory use. This can be easily plotted by using \n",
    "\n",
    "mprof plot\n",
    "\n",
    "One detail with respect to the script below. We use the \"@profile\" to define the regions where we want to measure the memory use and also we have included a time delay of one second before returning from the subroutine, as we want to allow the system to gather the memory information.\n",
    "\n"
   ]
  },
  {
   "cell_type": "raw",
   "metadata": {},
   "source": [
    "import time\n",
    "import numpy as np\n",
    "\n",
    "@profile\n",
    "def test1():\n",
    "    a = np.random.rand(10000)\n",
    "    time.sleep(1)\n",
    "    return a\n",
    "\n",
    "@profile\n",
    "def test2():\n",
    "    a = np.random.rand(10000)\n",
    "    time.sleep(1)\n",
    "    return a\n",
    "\n",
    "if __name__ == \"__main__\":\n",
    "    test1()\n",
    "    test2()"
   ]
  },
  {
   "cell_type": "markdown",
   "metadata": {},
   "source": [
    "The most important message for memory managment is that if we know the size of a vector or a matrix, we need to define it in advance. Only use \"append\" if you really do not know the size of your structure. In the case of numpy, you can create preallocated arrays by using *np.zeros()* or *np.empty()*. Also, keep in mind  that if we \"change\" the dimensions or increase the size of a complex array, everything has to be shifted and this will have a computational and memory penaly."
   ]
  },
  {
   "cell_type": "markdown",
   "metadata": {},
   "source": [
    "## Parallel Computation"
   ]
  },
  {
   "cell_type": "markdown",
   "metadata": {},
   "source": [
    "Up to now, we have been using that our code runs serially, but there are many cases were we can see an improvement over performance if we use parallelization. \n",
    "\n",
    "Here we undertand as parallelization as a **task** we can perform simultaneously in different processors at the same time, similar to when you eat, read and write at the same time. Now, the main task we plan to solve can be done on the same computer but then we can have memory issues (memory overhead), or we can have time overhead (some of the sub-tasks take longer than other and we have to wait to continue) or bandwidth overhead, which happens when we have to transfer big chunks of data to the hard drive. We will discuss some solutions later on.\n",
    "\n",
    "Now, before we dive in, it is important that you keep in mind what type of problems we can parallelize. Basically, those that can be split in **sub-tasks** such that the sub-tasks do communicate just a bit with the neighbor ones or no communicate at all. If they do not communicate, the problems is called trivially parallelizable. For this last case, a simple case is to add two big vectors. We can divide the vectors in sections and every section is completely independent of the others. \n",
    "\n",
    "Of course, in the general case, we wil require to know several computational schemes, your ins and outs of your application, etc. We need to use existing tools that support this idea. For that we rely on existing standard libraries that will do the job for us. Here we will discuss only few but the most used one is an interface on top of the MPI (message-passing library) such as mpi4py, multiprocessing or Dask which has been integrated with many other scientific libraries.\n",
    "\n",
    "Now, depending on your available computer, you can face basically two different memory situations.\n",
    "\n",
    "+ Shared memory. Here, the sub-tasks communicate with each other thorugh the same memory space (the computer has to have enough memory to allow all sub-tasks to have the required memory). Though we can run into trouble by accessing some data from memory as this can be modify it as the same time that is read by another sub-tasks, we solve the problem by using synchronization techniques. In this case, a very well known method is to use threads, which exist in many different languages but it is not possible in Python. First of all, we should notice that the CPython interpreter is single-threaded by design and threads can only be run in a single node. \n",
    "\n",
    "+ Distributed memory. Here each sub-task has its own assignated memory space and we only need to worry on the communicateion between the different sub-tasks. \n",
    "\n",
    "\n",
    "\n",
    "Let start with the multiprocessing module, a thread-like interface to multiple Python processes (note: process creation is more expensive than thread creation, though it is better than serial, a full thread parallelization would be faster than processing). Interestingly enough, this method leverage multiple processors on a given machine.\n",
    "\n",
    "One is a master-worker paradigm, using the map() function. This function parallelizes the execution of a function across multiple input values. First you define a Pool of workers, then you execute a function collectively on the Pool. "
   ]
  },
  {
   "cell_type": "code",
   "execution_count": 19,
   "metadata": {},
   "outputs": [
    {
     "name": "stdout",
     "output_type": "stream",
     "text": [
      "[0, 1, 4, 9, 16, 25, 36, 49, 64, 81]\n"
     ]
    }
   ],
   "source": [
    "from multiprocessing import Pool\n",
    "\n",
    "from worker import funcx2\n",
    "\n",
    "p = Pool(4)                 # starts 4 worker processes\n",
    "print(p.map(funcx2, range(10)))  # prints \"[0, 1, 4,..., 81]\""
   ]
  },
  {
   "cell_type": "markdown",
   "metadata": {},
   "source": [
    "The maximum number of processes you can run at a time is limited by the number of processors in your computer. "
   ]
  },
  {
   "cell_type": "markdown",
   "metadata": {},
   "source": [
    "We have used the map function within the Pool class, which gives a synchronous execution. Here we will discuss this type of execution and we encourage the reader to search for asynchronous execution. For this last case, processes can start without waiting that the others are done, which can be of interest if data does not need to pass from different subtasks. \n",
    "\n",
    "For now, Let us discuss one example in detail and compare each case."
   ]
  },
  {
   "cell_type": "code",
   "execution_count": 20,
   "metadata": {},
   "outputs": [
    {
     "data": {
      "text/plain": [
       "[[4, 0, 5, 3, 8],\n",
       " [9, 5, 4, 2, 3],\n",
       " [5, 9, 4, 1, 3],\n",
       " [8, 1, 9, 1, 1],\n",
       " [3, 3, 6, 0, 6],\n",
       " [8, 9, 1, 4, 1],\n",
       " [7, 7, 0, 7, 6],\n",
       " [3, 3, 8, 7, 0],\n",
       " [5, 2, 8, 9, 3],\n",
       " [9, 8, 2, 3, 4]]"
      ]
     },
     "execution_count": 20,
     "metadata": {},
     "output_type": "execute_result"
    }
   ],
   "source": [
    "#generate random numbers in a big matrix\n",
    "np.random.RandomState(100)\n",
    "arr = np.random.randint(0, 10, size=[200000, 5])\n",
    "data = arr.tolist()\n",
    "data[:10]"
   ]
  },
  {
   "cell_type": "markdown",
   "metadata": {},
   "source": [
    "Now let us find how many number in this matrix are within a given range"
   ]
  },
  {
   "cell_type": "code",
   "execution_count": 21,
   "metadata": {},
   "outputs": [
    {
     "name": "stdout",
     "output_type": "stream",
     "text": [
      "[3, 2, 2, 1, 2, 2, 4, 2, 2, 2]\n"
     ]
    }
   ],
   "source": [
    "def counting_withinrange(row, minimum, maximum):\n",
    "    \"\"\"Returns how many numbers lie within `maximum` and `minimum` in a given `row`\"\"\"\n",
    "    count = 0\n",
    "    for n in row:\n",
    "        if minimum <= n <= maximum:\n",
    "            count = count + 1\n",
    "    return count\n",
    "\n",
    "results = []\n",
    "for row in data:\n",
    "    results.append(counting_withinrange(row, minimum=4, maximum=8))\n",
    "\n",
    "print(results[:10])\n",
    "#> [3, 1, 4, 4, 4, 2, 1, 1, 3, 3]"
   ]
  },
  {
   "cell_type": "markdown",
   "metadata": {},
   "source": [
    "Now we use parallelization, this will be done by applying the function over different set of data in a parallel environment, meaning that they will run over different processors. We will use the pool class. This class has three different methods:  apply(), map() and starmap().\n",
    "\n",
    "In the case of apply and map, they take the function to be parallelized as the main argument. But apply() takes an args argument that accepts the parameters passed to the ‘function-to-be-parallelized’ as an argument, whereas, map can take only one iterable as an argument (map is easier for iterable operations). The starmap() is similar to map() but allows to have different iterable parameters. "
   ]
  },
  {
   "cell_type": "code",
   "execution_count": 22,
   "metadata": {},
   "outputs": [
    {
     "name": "stdout",
     "output_type": "stream",
     "text": [
      "[3, 2, 2, 1, 2, 2, 4, 2, 2, 2]\n"
     ]
    }
   ],
   "source": [
    "#Let us start with apply()\n",
    "import multiprocessing as mp\n",
    "\n",
    "from worker import counting_withinrange\n",
    "\n",
    "# request how many processors I have available\n",
    "pool = mp.Pool(mp.cpu_count())\n",
    "\n",
    "# `pool.apply` the `counting_withinrange()`\n",
    "results = [pool.apply(counting_withinrange, args=(row, 4, 8)) for row in data]\n",
    "\n",
    "# close (IMPORTANT, otherwise you will have leakage!!)\n",
    "pool.close()    \n",
    "\n",
    "print(results[:10])\n",
    "#> [3, 1, 4, 4, 4, 2, 1, 1, 3, 3]"
   ]
  },
  {
   "cell_type": "code",
   "execution_count": 23,
   "metadata": {},
   "outputs": [
    {
     "name": "stdout",
     "output_type": "stream",
     "text": [
      "[3, 2, 2, 1, 2, 2, 4, 2, 2, 2]\n"
     ]
    }
   ],
   "source": [
    "#Using map()\n",
    "import multiprocessing as mp\n",
    "\n",
    "# We change the function, such we have only ONE parameter.\n",
    "def counting_withinrange(row, minimum=4, maximum=8):\n",
    "    count = 0\n",
    "    for n in row:\n",
    "        if minimum <= n <= maximum:\n",
    "            count = count + 1\n",
    "    return count\n",
    "\n",
    "from worker import counting_withinrange1\n",
    "\n",
    "pool = mp.Pool(mp.cpu_count())\n",
    "\n",
    "results = pool.map(counting_withinrange1, [row for row in data])\n",
    "\n",
    "pool.close()\n",
    "\n",
    "print(results[:10])\n",
    "#> [3, 1, 4, 4, 4, 2, 1, 1, 3, 3]"
   ]
  },
  {
   "cell_type": "code",
   "execution_count": 24,
   "metadata": {},
   "outputs": [
    {
     "name": "stdout",
     "output_type": "stream",
     "text": [
      "[3, 2, 2, 1, 2, 2, 4, 2, 2, 2]\n"
     ]
    }
   ],
   "source": [
    "# Using starmap()\n",
    "import multiprocessing as mp\n",
    "\n",
    "pool = mp.Pool(mp.cpu_count())\n",
    "\n",
    "results = pool.starmap(counting_withinrange1, [(row, 4, 8) for row in data])\n",
    "\n",
    "pool.close()\n",
    "\n",
    "print(results[:10])\n",
    "#> [3, 1, 4, 4, 4, 2, 1, 1, 3, 3]"
   ]
  },
  {
   "cell_type": "markdown",
   "metadata": {},
   "source": [
    "Up to now, we have discussed the parallelization using multiprocessing. Now, let us use a different library, just to compare how it is used. For this, we have to rely on a different approach. We will use the library mpi4py but this library is easier to be used outside of Jupyter notebooks. For that, I have create a file: examplempi.py in the same directory where the notebooks are stored. This example sent some data from the array numData from processor 0 to processor 1. \n",
    "\n",
    "The file contains the following example, though here we have commented all lines"
   ]
  },
  {
   "cell_type": "code",
   "execution_count": 25,
   "metadata": {},
   "outputs": [],
   "source": [
    "##from mpi4py import MPI\n",
    "#import numpy as np\n",
    "\n",
    "#comm = MPI.COMM_WORLD\n",
    "#rank = comm.Get_rank()\n",
    "\n",
    "#if rank == 0:\n",
    "#    # in real code, this section might\n",
    "#    # read in data parameters from a file\n",
    "#    size data that will be sent to another processor\n",
    "#    numData = 10  \n",
    "#    comm.send(numData, dest=1)\n",
    "\n",
    "#    data = np.linspace(0.0,3.14,numData)  \n",
    "#    comm.Send(data, dest=1)\n",
    "\n",
    "#elif rank == 1:\n",
    "\n",
    "#    numData = comm.recv(source=0)\n",
    "#    print('Number of data to receive: ',numData)\n",
    "\n",
    "#    data = np.empty(numData, dtype='d')  # allocate space to receive the array\n",
    "#    comm.Recv(data, source=0)\n",
    "\n",
    "#    print('data received: ',data)"
   ]
  },
  {
   "cell_type": "code",
   "execution_count": 26,
   "metadata": {},
   "outputs": [
    {
     "name": "stdout",
     "output_type": "stream",
     "text": [
      "zsh:1: command not found: mpirun\r\n"
     ]
    }
   ],
   "source": [
    "#Then in the command line we will run\n",
    "!mpirun -n 4 python  examplempi.py"
   ]
  },
  {
   "cell_type": "markdown",
   "metadata": {},
   "source": [
    "A very good discussion on how to use mpi4py can be found at https://rabernat.github.io/research_computing/parallel-programming-with-mpi-for-python.html"
   ]
  },
  {
   "cell_type": "code",
   "execution_count": 27,
   "metadata": {
    "scrolled": true
   },
   "outputs": [
    {
     "data": {
      "image/png": "[encoded data removed]",
      "text/plain": [
       "<Figure size 432x288 with 1 Axes>"
      ]
     },
     "metadata": {
      "needs_background": "light"
     },
     "output_type": "display_data"
    }
   ],
   "source": [
    "n = chapter_number\n",
    "maxt=(2*(n-1)+3)*np.pi/2\n",
    "t = np.linspace(np.pi/2, maxt, 1000)\n",
    "tt= 1.0/(t+0.01)\n",
    "x = (maxt-t)*np.cos(t)**3\n",
    "y = t*np.sqrt(np.abs(np.cos(t))) + np.sin(0.3*t)*np.cos(2*t)\n",
    "plt.plot(x, y, c=\"green\")\n",
    "plt.axis('off');"
   ]
  },
  {
   "cell_type": "code",
   "execution_count": 28,
   "metadata": {},
   "outputs": [
    {
     "name": "stdout",
     "output_type": "stream",
     "text": [
      "This notebook run in 121 seconds\n"
     ]
    }
   ],
   "source": [
    "end = time.time()\n",
    "print(f'This notebook run in {int(end - start):d} seconds')"
   ]
  }
 ],
 "metadata": {
  "kernelspec": {
   "display_name": "Python 3 (ipykernel)",
   "language": "python",
   "name": "python3"
  },
  "language_info": {
   "codemirror_mode": {
    "name": "ipython",
    "version": 3
   },
   "file_extension": ".py",
   "mimetype": "text/x-python",
   "name": "python",
   "nbconvert_exporter": "python",
   "pygments_lexer": "ipython3",
   "version": "3.9.13"
  }
 },
 "nbformat": 4,
 "nbformat_minor": 2
}
