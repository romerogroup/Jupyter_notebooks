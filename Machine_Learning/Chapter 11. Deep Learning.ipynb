{
 "cells": [
  {
   "cell_type": "markdown",
   "metadata": {},
   "source": [
    "---\n",
    "\n",
    "# Practical Machine Learning with Python\n",
    "# Chapter 11: Deep Learning\n",
    "## Guillermo Avendaño-Franco and Aldo Humberto Romero\n",
    "## West Virginia University\n",
    "\n",
    "### HPC Summer Workshop 2019\n",
    "\n",
    "---"
   ]
  },
  {
   "cell_type": "markdown",
   "metadata": {},
   "source": [
    "This notebook is based on a variety of sources, usually other notebooks, the material was adapted to the topics covered during lessons. In some cases, the original notebooks were created for Python 2.x or older versions of Scikit-learn or Tensorflow and they have to be adapted. \n",
    "\n",
    "## References\n",
    "\n",
    "### Books\n",
    "\n",
    " * **Hands-On Machine Learning with Scikit-Learn and TensorFlow: Concepts, Tools, and Techniques to Build Intelligent Systems**, 1st Edition *Aurélien Géron*  (2017)\n",
    "\n",
    " * **Python Machine Learning: Machine Learning and Deep Learning with Python, scikit-learn, and TensorFlow**, 2nd Edition, *Sebastian Raschka* and *Vahid Mirjalili* (2017)\n",
    "\n",
    " * **Deep Learning: A Practitioner's approach**, *Josh Patterson* and *Adam Gibson* \n",
    " \n",
    " * **Deep Learning**, *Ian Goodfelow*, *Yoshua Bengio* and *Aaron Courville* (2016)\n",
    "\n",
    "### Jupyter Notebooks\n",
    "\n",
    " * [Yale Digital Humanities Lab](https://github.com/YaleDHLab/lab-workshops)\n",
    " \n",
    " * Aurelein Geron Hands-on Machine Learning with Scikit-learn \n",
    "   [First Edition](https://github.com/ageron/handson-ml)\n",
    "   [Second Edition (In preparation)](https://github.com/ageron/handson-ml2)\n",
    "   \n",
    " * [A progressive collection notebooks of the Machine Learning course by the University of Turin](https://github.com/rugantio/MachineLearningCourse)\n",
    "   \n",
    " * [A curated set of jupyter notebooks about many topics](https://github.com/jupyter/jupyter/wiki/A-gallery-of-interesting-Jupyter-Notebooks)\n",
    "   \n",
    "### Videos\n",
    "\n",
    " * [Caltech's \"Learning from Data\" by Professor Yaser Abu-Mostafa](https://work.caltech.edu/telecourse.html)\n",
    " \n",
    " The support of the National Science Foundation and the US Department of Energy under projects: DMREF-NSF 1434897, NSF OAC-1740111 and DOE DE-SC0016176 is recognized.\n",
    "\n",
    "<div style=\"clear: both; display: table;\">\n",
    "<div style=\"border: none; float: left; width: 40%; padding: 10px\">\n",
    "<img src=\"fig/NSF.jpg\" alt=\"National Science Foundation\" style=\"width:50%\" align=\"left\">\n",
    "    </div>\n",
    "    <div style=\"border: none; float: right; width: 40%; padding: 10px\">\n",
    "<img src=\"fig/DOE.jpg\" alt=\"National Science Foundation\" style=\"width:50%\" align=\"right\">\n",
    "</div>"
   ]
  },
  {
   "cell_type": "markdown",
   "metadata": {},
   "source": [
    "## Setup\n",
    "\n",
    "This Jupyter notebook was created to run on a Python 3 kernel. Some Ipython magics were used: "
   ]
  },
  {
   "cell_type": "code",
   "execution_count": 1,
   "metadata": {},
   "outputs": [],
   "source": [
    "# commands prefaced by a % in Jupyter are called \"magic\"\n",
    "# these \"magic\" commands allow us to do special things only related to jupyter\n",
    "\n",
    "# %matplotlib inline - allows one to display charts from the matplotlib library in a notebook\n",
    "# %load_ext autoreload - automatically reloads imported modules if they change\n",
    "# %autoreload 2 - automatically reloads imported modules if they change\n",
    "import matplotlib\n",
    "%matplotlib inline\n",
    "%load_ext autoreload\n",
    "%autoreload 2"
   ]
  },
  {
   "cell_type": "code",
   "execution_count": 2,
   "metadata": {},
   "outputs": [
    {
     "name": "stdout",
     "output_type": "stream",
     "text": [
      "2019-07-29T15:19:15-04:00\n",
      "\n",
      "CPython 3.7.3\n",
      "IPython 5.8.0\n",
      "\n",
      "compiler   : GCC 8.3.0\n",
      "system     : Linux\n",
      "release    : 5.0.0-20-generic\n",
      "machine    : x86_64\n",
      "processor  : x86_64\n",
      "CPU cores  : 8\n",
      "interpreter: 64bit\n"
     ]
    }
   ],
   "source": [
    "%load_ext watermark\n",
    "%watermark"
   ]
  },
  {
   "cell_type": "code",
   "execution_count": 3,
   "metadata": {},
   "outputs": [
    {
     "name": "stderr",
     "output_type": "stream",
     "text": [
      "Using TensorFlow backend.\n"
     ]
    }
   ],
   "source": [
    "import numpy as np\n",
    "import pandas as pd\n",
    "import matplotlib as mpl\n",
    "import matplotlib.pyplot as plt\n",
    "import sklearn\n",
    "import scipy\n",
    "import tensorflow as tf\n",
    "import keras"
   ]
  },
  {
   "cell_type": "code",
   "execution_count": 4,
   "metadata": {
    "scrolled": false
   },
   "outputs": [
    {
     "name": "stdout",
     "output_type": "stream",
     "text": [
      "numpy      1.16.2\n",
      "keras      2.2.4\n",
      "pandas     0.23.3\n",
      "matplotlib 3.0.2\n",
      "scipy      1.2.1\n",
      "IPython    5.8.0\n",
      "sklearn    0.20.2\n",
      "tensorflow 1.14.0\n",
      "\n"
     ]
    }
   ],
   "source": [
    "%watermark -iv"
   ]
  },
  {
   "cell_type": "markdown",
   "metadata": {},
   "source": [
    "# Vanishing/Exploding Gradients Problem"
   ]
  },
  {
   "cell_type": "code",
   "execution_count": 5,
   "metadata": {},
   "outputs": [],
   "source": [
    "def logit(z):\n",
    "    return 1 / (1 + np.exp(-z))"
   ]
  },
  {
   "cell_type": "code",
   "execution_count": 6,
   "metadata": {},
   "outputs": [
    {
     "data": {
      "text/plain": [
       "[-5, 5, -0.2, 1.2]"
      ]
     },
     "execution_count": 6,
     "metadata": {},
     "output_type": "execute_result"
    },
    {
     "data": {
      "image/png": "[encoded data removed]",
      "text/plain": [
       "<Figure size 432x288 with 1 Axes>"
      ]
     },
     "metadata": {
      "needs_background": "light"
     },
     "output_type": "display_data"
    }
   ],
   "source": [
    "z = np.linspace(-5, 5, 200)\n",
    "\n",
    "plt.plot([-5, 5], [0, 0], 'k-')\n",
    "plt.plot([-5, 5], [1, 1], 'k--')\n",
    "plt.plot([0, 0], [-0.2, 1.2], 'k-')\n",
    "plt.plot([-5, 5], [-3/4, 7/4], 'g--')\n",
    "plt.plot(z, logit(z), \"b-\", linewidth=2)\n",
    "props = dict(facecolor='black', shrink=0.1)\n",
    "plt.annotate('Saturating', xytext=(3.5, 0.7), xy=(5, 1), arrowprops=props, fontsize=14, ha=\"center\")\n",
    "plt.annotate('Saturating', xytext=(-3.5, 0.3), xy=(-5, 0), arrowprops=props, fontsize=14, ha=\"center\")\n",
    "plt.annotate('Linear', xytext=(2, 0.2), xy=(0, 0.5), arrowprops=props, fontsize=14, ha=\"center\")\n",
    "plt.grid(True)\n",
    "plt.title(\"Sigmoid activation function\", fontsize=14)\n",
    "plt.axis([-5, 5, -0.2, 1.2])"
   ]
  },
  {
   "cell_type": "markdown",
   "metadata": {},
   "source": [
    "## Xavier and He Initialization"
   ]
  },
  {
   "cell_type": "code",
   "execution_count": 7,
   "metadata": {},
   "outputs": [
    {
     "data": {
      "text/plain": [
       "['Constant',\n",
       " 'Identity',\n",
       " 'Initializer',\n",
       " 'K',\n",
       " 'Ones',\n",
       " 'Orthogonal',\n",
       " 'RandomNormal',\n",
       " 'RandomUniform',\n",
       " 'TruncatedNormal',\n",
       " 'VarianceScaling',\n",
       " 'Zeros',\n",
       " 'absolute_import',\n",
       " 'constant',\n",
       " 'deserialize',\n",
       " 'deserialize_keras_object',\n",
       " 'division',\n",
       " 'get',\n",
       " 'glorot_normal',\n",
       " 'glorot_uniform',\n",
       " 'he_normal',\n",
       " 'he_uniform',\n",
       " 'identity',\n",
       " 'lecun_normal',\n",
       " 'lecun_uniform',\n",
       " 'normal',\n",
       " 'np',\n",
       " 'one',\n",
       " 'ones',\n",
       " 'orthogonal',\n",
       " 'print_function',\n",
       " 'random_normal',\n",
       " 'random_uniform',\n",
       " 'serialize',\n",
       " 'serialize_keras_object',\n",
       " 'six',\n",
       " 'truncated_normal',\n",
       " 'uniform',\n",
       " 'zero',\n",
       " 'zeros']"
      ]
     },
     "execution_count": 7,
     "metadata": {},
     "output_type": "execute_result"
    }
   ],
   "source": [
    "[name for name in dir(keras.initializers) if not name.startswith(\"_\")]"
   ]
  },
  {
   "cell_type": "code",
   "execution_count": 8,
   "metadata": {},
   "outputs": [
    {
     "name": "stderr",
     "output_type": "stream",
     "text": [
      "WARNING: Logging before flag parsing goes to stderr.\n",
      "W0729 15:19:16.911003 139830258521920 deprecation_wrapper.py:119] From /home/gufranco/.local/lib/python3.7/site-packages/keras/backend/tensorflow_backend.py:74: The name tf.get_default_graph is deprecated. Please use tf.compat.v1.get_default_graph instead.\n",
      "\n"
     ]
    },
    {
     "data": {
      "text/plain": [
       "<keras.layers.core.Dense at 0x7f2c8d8b4160>"
      ]
     },
     "execution_count": 8,
     "metadata": {},
     "output_type": "execute_result"
    }
   ],
   "source": [
    "keras.layers.Dense(10, activation=\"relu\", kernel_initializer=\"he_normal\")"
   ]
  },
  {
   "cell_type": "code",
   "execution_count": 9,
   "metadata": {},
   "outputs": [
    {
     "data": {
      "text/plain": [
       "<keras.layers.core.Dense at 0x7f2c8d8b4be0>"
      ]
     },
     "execution_count": 9,
     "metadata": {},
     "output_type": "execute_result"
    }
   ],
   "source": [
    "init = keras.initializers.VarianceScaling(scale=2., mode='fan_avg',\n",
    "                                          distribution='uniform')\n",
    "keras.layers.Dense(10, activation=\"relu\", kernel_initializer=init)"
   ]
  },
  {
   "cell_type": "markdown",
   "metadata": {},
   "source": [
    "## Nonsaturating Activation Functions"
   ]
  },
  {
   "cell_type": "markdown",
   "metadata": {},
   "source": [
    "### Leaky ReLU"
   ]
  },
  {
   "cell_type": "code",
   "execution_count": 10,
   "metadata": {},
   "outputs": [],
   "source": [
    "def leaky_relu(z, alpha=0.01):\n",
    "    return np.maximum(alpha*z, z)"
   ]
  },
  {
   "cell_type": "code",
   "execution_count": 11,
   "metadata": {},
   "outputs": [
    {
     "data": {
      "text/plain": [
       "[-5, 5, -0.5, 4.2]"
      ]
     },
     "execution_count": 11,
     "metadata": {},
     "output_type": "execute_result"
    },
    {
     "data": {
      "image/png": "[encoded data removed]",
      "text/plain": [
       "<Figure size 432x288 with 1 Axes>"
      ]
     },
     "metadata": {
      "needs_background": "light"
     },
     "output_type": "display_data"
    }
   ],
   "source": [
    "plt.plot(z, leaky_relu(z, 0.05), \"b-\", linewidth=2)\n",
    "plt.plot([-5, 5], [0, 0], 'k-')\n",
    "plt.plot([0, 0], [-0.5, 4.2], 'k-')\n",
    "plt.grid(True)\n",
    "props = dict(facecolor='black', shrink=0.1)\n",
    "plt.annotate('Leak', xytext=(-3.5, 0.5), xy=(-5, -0.2), arrowprops=props, fontsize=14, ha=\"center\")\n",
    "plt.title(\"Leaky ReLU activation function\", fontsize=14)\n",
    "plt.axis([-5, 5, -0.5, 4.2])"
   ]
  },
  {
   "cell_type": "code",
   "execution_count": 12,
   "metadata": {},
   "outputs": [
    {
     "data": {
      "text/plain": [
       "['K',\n",
       " 'Layer',\n",
       " 'absolute_import',\n",
       " 'deserialize',\n",
       " 'deserialize_keras_object',\n",
       " 'division',\n",
       " 'elu',\n",
       " 'exponential',\n",
       " 'get',\n",
       " 'hard_sigmoid',\n",
       " 'linear',\n",
       " 'print_function',\n",
       " 'relu',\n",
       " 'selu',\n",
       " 'serialize',\n",
       " 'sigmoid',\n",
       " 'six',\n",
       " 'softmax',\n",
       " 'softplus',\n",
       " 'softsign',\n",
       " 'tanh',\n",
       " 'warnings']"
      ]
     },
     "execution_count": 12,
     "metadata": {},
     "output_type": "execute_result"
    }
   ],
   "source": [
    "[m for m in dir(keras.activations) if not m.startswith(\"_\")]"
   ]
  },
  {
   "cell_type": "code",
   "execution_count": 13,
   "metadata": {},
   "outputs": [
    {
     "data": {
      "text/plain": [
       "['LeakyReLU', 'PReLU', 'ReLU', 'ThresholdedReLU']"
      ]
     },
     "execution_count": 13,
     "metadata": {},
     "output_type": "execute_result"
    }
   ],
   "source": [
    "[m for m in dir(keras.layers) if \"relu\" in m.lower()]"
   ]
  },
  {
   "cell_type": "markdown",
   "metadata": {},
   "source": [
    "Let's train a neural network on Fashion MNIST using the Leaky ReLU:"
   ]
  },
  {
   "cell_type": "code",
   "execution_count": 14,
   "metadata": {},
   "outputs": [],
   "source": [
    "(X_train_full, y_train_full), (X_test, y_test) = keras.datasets.fashion_mnist.load_data()\n",
    "X_train_full = X_train_full / 255.0\n",
    "X_test = X_test / 255.0\n",
    "X_valid, X_train = X_train_full[:5000], X_train_full[5000:]\n",
    "y_valid, y_train = y_train_full[:5000], y_train_full[5000:]"
   ]
  },
  {
   "cell_type": "code",
   "execution_count": 15,
   "metadata": {},
   "outputs": [
    {
     "name": "stderr",
     "output_type": "stream",
     "text": [
      "W0729 15:19:17.763199 139830258521920 deprecation_wrapper.py:119] From /home/gufranco/.local/lib/python3.7/site-packages/keras/backend/tensorflow_backend.py:517: The name tf.placeholder is deprecated. Please use tf.compat.v1.placeholder instead.\n",
      "\n",
      "W0729 15:19:17.773557 139830258521920 deprecation_wrapper.py:119] From /home/gufranco/.local/lib/python3.7/site-packages/keras/backend/tensorflow_backend.py:4185: The name tf.truncated_normal is deprecated. Please use tf.random.truncated_normal instead.\n",
      "\n",
      "W0729 15:19:17.794706 139830258521920 deprecation_wrapper.py:119] From /home/gufranco/.local/lib/python3.7/site-packages/keras/backend/tensorflow_backend.py:4138: The name tf.random_uniform is deprecated. Please use tf.random.uniform instead.\n",
      "\n"
     ]
    }
   ],
   "source": [
    "tf.random.set_random_seed(42)\n",
    "np.random.seed(42)\n",
    "\n",
    "model = keras.models.Sequential([\n",
    "    keras.layers.Flatten(input_shape=[28, 28]),\n",
    "    keras.layers.Dense(300, kernel_initializer=\"he_normal\"),\n",
    "    keras.layers.LeakyReLU(),\n",
    "    keras.layers.Dense(100, kernel_initializer=\"he_normal\"),\n",
    "    keras.layers.LeakyReLU(),\n",
    "    keras.layers.Dense(10, activation=\"softmax\")\n",
    "])"
   ]
  },
  {
   "cell_type": "code",
   "execution_count": 16,
   "metadata": {},
   "outputs": [
    {
     "name": "stderr",
     "output_type": "stream",
     "text": [
      "W0729 15:19:17.847986 139830258521920 deprecation_wrapper.py:119] From /home/gufranco/.local/lib/python3.7/site-packages/keras/optimizers.py:790: The name tf.train.Optimizer is deprecated. Please use tf.compat.v1.train.Optimizer instead.\n",
      "\n",
      "W0729 15:19:17.853953 139830258521920 deprecation_wrapper.py:119] From /home/gufranco/.local/lib/python3.7/site-packages/keras/backend/tensorflow_backend.py:3341: The name tf.log is deprecated. Please use tf.math.log instead.\n",
      "\n"
     ]
    }
   ],
   "source": [
    "model.compile(loss=\"sparse_categorical_crossentropy\",\n",
    "              optimizer=keras.optimizers.SGD(lr=1e-3),\n",
    "              metrics=[\"accuracy\"])"
   ]
  },
  {
   "cell_type": "code",
   "execution_count": 17,
   "metadata": {
    "scrolled": true
   },
   "outputs": [
    {
     "name": "stderr",
     "output_type": "stream",
     "text": [
      "W0729 15:19:17.962524 139830258521920 deprecation.py:323] From /home/gufranco/.local/lib/python3.7/site-packages/tensorflow/python/ops/math_grad.py:1250: add_dispatch_support.<locals>.wrapper (from tensorflow.python.ops.array_ops) is deprecated and will be removed in a future version.\n",
      "Instructions for updating:\n",
      "Use tf.where in 2.0, which has the same broadcast rule as np.where\n"
     ]
    },
    {
     "name": "stdout",
     "output_type": "stream",
     "text": [
      "Train on 55000 samples, validate on 5000 samples\n",
      "Epoch 1/10\n",
      "55000/55000 [==============================] - 5s 86us/step - loss: 1.3336 - acc: 0.5978 - val_loss: 0.8903 - val_acc: 0.7306\n",
      "Epoch 2/10\n",
      "55000/55000 [==============================] - 5s 83us/step - loss: 0.7987 - acc: 0.7415 - val_loss: 0.7023 - val_acc: 0.7754\n",
      "Epoch 3/10\n",
      "55000/55000 [==============================] - 5s 83us/step - loss: 0.6789 - acc: 0.7753 - val_loss: 0.6259 - val_acc: 0.7954\n",
      "Epoch 4/10\n",
      "55000/55000 [==============================] - 5s 83us/step - loss: 0.6190 - acc: 0.7942 - val_loss: 0.5813 - val_acc: 0.8114\n",
      "Epoch 5/10\n",
      "55000/55000 [==============================] - 5s 84us/step - loss: 0.5805 - acc: 0.8066 - val_loss: 0.5531 - val_acc: 0.8188\n",
      "Epoch 6/10\n",
      "55000/55000 [==============================] - 5s 82us/step - loss: 0.5536 - acc: 0.8157 - val_loss: 0.5284 - val_acc: 0.8264\n",
      "Epoch 7/10\n",
      "55000/55000 [==============================] - 4s 82us/step - loss: 0.5332 - acc: 0.8206 - val_loss: 0.5124 - val_acc: 0.8280\n",
      "Epoch 8/10\n",
      "55000/55000 [==============================] - 5s 83us/step - loss: 0.5173 - acc: 0.8259 - val_loss: 0.4971 - val_acc: 0.8344\n",
      "Epoch 9/10\n",
      "55000/55000 [==============================] - 4s 82us/step - loss: 0.5044 - acc: 0.8288 - val_loss: 0.4898 - val_acc: 0.8360\n",
      "Epoch 10/10\n",
      "55000/55000 [==============================] - 5s 82us/step - loss: 0.4938 - acc: 0.8316 - val_loss: 0.4774 - val_acc: 0.8404\n"
     ]
    }
   ],
   "source": [
    "history = model.fit(X_train, y_train, epochs=10,\n",
    "                    validation_data=(X_valid, y_valid))"
   ]
  },
  {
   "cell_type": "markdown",
   "metadata": {},
   "source": [
    "Now let's try PReLU:"
   ]
  },
  {
   "cell_type": "code",
   "execution_count": 18,
   "metadata": {},
   "outputs": [],
   "source": [
    "tf.set_random_seed(42)\n",
    "np.random.seed(42)\n",
    "\n",
    "model = keras.models.Sequential([\n",
    "    keras.layers.Flatten(input_shape=[28, 28]),\n",
    "    keras.layers.Dense(300, kernel_initializer=\"he_normal\"),\n",
    "    keras.layers.PReLU(),\n",
    "    keras.layers.Dense(100, kernel_initializer=\"he_normal\"),\n",
    "    keras.layers.PReLU(),\n",
    "    keras.layers.Dense(10, activation=\"softmax\")\n",
    "])"
   ]
  },
  {
   "cell_type": "code",
   "execution_count": 19,
   "metadata": {},
   "outputs": [],
   "source": [
    "model.compile(loss=\"sparse_categorical_crossentropy\",\n",
    "              optimizer=keras.optimizers.SGD(lr=1e-3),\n",
    "              metrics=[\"accuracy\"])"
   ]
  },
  {
   "cell_type": "code",
   "execution_count": 20,
   "metadata": {},
   "outputs": [
    {
     "name": "stdout",
     "output_type": "stream",
     "text": [
      "Train on 55000 samples, validate on 5000 samples\n",
      "Epoch 1/10\n",
      "55000/55000 [==============================] - 5s 97us/step - loss: 1.3909 - acc: 0.5927 - val_loss: 0.9358 - val_acc: 0.7240\n",
      "Epoch 2/10\n",
      "55000/55000 [==============================] - 5s 92us/step - loss: 0.8279 - acc: 0.7411 - val_loss: 0.7223 - val_acc: 0.7734\n",
      "Epoch 3/10\n",
      "55000/55000 [==============================] - 5s 92us/step - loss: 0.6947 - acc: 0.7737 - val_loss: 0.6371 - val_acc: 0.7950\n",
      "Epoch 4/10\n",
      "55000/55000 [==============================] - 5s 91us/step - loss: 0.6294 - acc: 0.7925 - val_loss: 0.5882 - val_acc: 0.8094\n",
      "Epoch 5/10\n",
      "55000/55000 [==============================] - 5s 91us/step - loss: 0.5875 - acc: 0.8063 - val_loss: 0.5576 - val_acc: 0.8146\n",
      "Epoch 6/10\n",
      "55000/55000 [==============================] - 5s 92us/step - loss: 0.5586 - acc: 0.8150 - val_loss: 0.5312 - val_acc: 0.8208\n",
      "Epoch 7/10\n",
      "55000/55000 [==============================] - 5s 92us/step - loss: 0.5368 - acc: 0.8209 - val_loss: 0.5140 - val_acc: 0.8280\n",
      "Epoch 8/10\n",
      "55000/55000 [==============================] - 5s 93us/step - loss: 0.5198 - acc: 0.8262 - val_loss: 0.4980 - val_acc: 0.8346\n",
      "Epoch 9/10\n",
      "55000/55000 [==============================] - 5s 92us/step - loss: 0.5058 - acc: 0.8291 - val_loss: 0.4889 - val_acc: 0.8334\n",
      "Epoch 10/10\n",
      "55000/55000 [==============================] - 6s 107us/step - loss: 0.4942 - acc: 0.8321 - val_loss: 0.4763 - val_acc: 0.8412\n"
     ]
    }
   ],
   "source": [
    "history = model.fit(X_train, y_train, epochs=10,\n",
    "                    validation_data=(X_valid, y_valid))"
   ]
  },
  {
   "cell_type": "markdown",
   "metadata": {},
   "source": [
    "### ELU"
   ]
  },
  {
   "cell_type": "code",
   "execution_count": 21,
   "metadata": {},
   "outputs": [],
   "source": [
    "def elu(z, alpha=1):\n",
    "    return np.where(z < 0, alpha * (np.exp(z) - 1), z)"
   ]
  },
  {
   "cell_type": "code",
   "execution_count": 23,
   "metadata": {},
   "outputs": [
    {
     "data": {
      "text/plain": [
       "[-5, 5, -2.2, 3.2]"
      ]
     },
     "execution_count": 23,
     "metadata": {},
     "output_type": "execute_result"
    },
    {
     "data": {
      "image/png": "[encoded data removed]",
      "text/plain": [
       "<Figure size 432x288 with 1 Axes>"
      ]
     },
     "metadata": {
      "needs_background": "light"
     },
     "output_type": "display_data"
    }
   ],
   "source": [
    "plt.plot(z, elu(z), \"b-\", linewidth=2)\n",
    "plt.plot([-5, 5], [0, 0], 'k-')\n",
    "plt.plot([-5, 5], [-1, -1], 'k--')\n",
    "plt.plot([0, 0], [-2.2, 3.2], 'k-')\n",
    "plt.grid(True)\n",
    "plt.title(r\"ELU activation function ($\\alpha=1$)\", fontsize=14)\n",
    "plt.axis([-5, 5, -2.2, 3.2])"
   ]
  },
  {
   "cell_type": "markdown",
   "metadata": {},
   "source": [
    "Implementing ELU in TensorFlow is trivial, just specify the activation function when building each layer:"
   ]
  },
  {
   "cell_type": "code",
   "execution_count": 24,
   "metadata": {},
   "outputs": [
    {
     "data": {
      "text/plain": [
       "<keras.layers.core.Dense at 0x7f2c85398f60>"
      ]
     },
     "execution_count": 24,
     "metadata": {},
     "output_type": "execute_result"
    }
   ],
   "source": [
    "keras.layers.Dense(10, activation=\"elu\")"
   ]
  },
  {
   "cell_type": "markdown",
   "metadata": {},
   "source": [
    "### SELU"
   ]
  },
  {
   "cell_type": "markdown",
   "metadata": {},
   "source": [
    "This activation function was proposed in this [great paper](https://arxiv.org/pdf/1706.02515.pdf) by Günter Klambauer, Thomas Unterthiner and Andreas Mayr, published in June 2017. During training, a neural network composed exclusively of a stack of dense layers using the SELU activation function and LeCun initialization will self-normalize: the output of each layer will tend to preserve the same mean and variance during training, which solves the vanishing/exploding gradients problem. As a result, this activation function outperforms the other activation functions very significantly for such neural nets, so you should really try it out. Unfortunately, the self-normalizing property of the SELU activation function is easily broken: you cannot use ℓ<sub>1</sub> or ℓ<sub>2</sub> regularization, regular dropout, max-norm, skip connections or other non-sequential topologies (so recurrent neural networks won't self-normalize). However, in practice it works quite well with sequential CNNs. If you break self-normalization, SELU will not necessarily outperform other activation functions."
   ]
  },
  {
   "cell_type": "code",
   "execution_count": 25,
   "metadata": {},
   "outputs": [],
   "source": [
    "from scipy.special import erfc\n",
    "\n",
    "# alpha and scale to self normalize with mean 0 and standard deviation 1\n",
    "# (see equation 14 in the paper):\n",
    "alpha_0_1 = -np.sqrt(2 / np.pi) / (erfc(1/np.sqrt(2)) * np.exp(1/2) - 1)\n",
    "scale_0_1 = (1 - erfc(1 / np.sqrt(2)) * np.sqrt(np.e)) * np.sqrt(2 * np.pi) * (2 * erfc(np.sqrt(2))*np.e**2 + np.pi*erfc(1/np.sqrt(2))**2*np.e - 2*(2+np.pi)*erfc(1/np.sqrt(2))*np.sqrt(np.e)+np.pi+2)**(-1/2)"
   ]
  },
  {
   "cell_type": "code",
   "execution_count": 26,
   "metadata": {},
   "outputs": [],
   "source": [
    "def selu(z, scale=scale_0_1, alpha=alpha_0_1):\n",
    "    return scale * elu(z, alpha)"
   ]
  },
  {
   "cell_type": "code",
   "execution_count": 28,
   "metadata": {},
   "outputs": [
    {
     "data": {
      "text/plain": [
       "[-5, 5, -2.2, 3.2]"
      ]
     },
     "execution_count": 28,
     "metadata": {},
     "output_type": "execute_result"
    },
    {
     "data": {
      "image/png": "[encoded data removed]",
      "text/plain": [
       "<Figure size 432x288 with 1 Axes>"
      ]
     },
     "metadata": {
      "needs_background": "light"
     },
     "output_type": "display_data"
    }
   ],
   "source": [
    "plt.plot(z, selu(z), \"b-\", linewidth=2)\n",
    "plt.plot([-5, 5], [0, 0], 'k-')\n",
    "plt.plot([-5, 5], [-1.758, -1.758], 'k--')\n",
    "plt.plot([0, 0], [-2.2, 3.2], 'k-')\n",
    "plt.grid(True)\n",
    "plt.title(\"SELU activation function\", fontsize=14)\n",
    "plt.axis([-5, 5, -2.2, 3.2])"
   ]
  },
  {
   "cell_type": "markdown",
   "metadata": {},
   "source": [
    "By default, the SELU hyperparameters (`scale` and `alpha`) are tuned in such a way that the mean output of each neuron remains close to 0, and the standard deviation remains close to 1 (assuming the inputs are standardized with mean 0 and standard deviation 1 too). Using this activation function, even a 1,000 layer deep neural network preserves roughly mean 0 and standard deviation 1 across all layers, avoiding the exploding/vanishing gradients problem:"
   ]
  },
  {
   "cell_type": "code",
   "execution_count": 29,
   "metadata": {},
   "outputs": [
    {
     "name": "stdout",
     "output_type": "stream",
     "text": [
      "Layer 0: mean -0.00, std deviation 1.00\n",
      "Layer 100: mean 0.02, std deviation 0.96\n",
      "Layer 200: mean 0.01, std deviation 0.90\n",
      "Layer 300: mean -0.02, std deviation 0.92\n",
      "Layer 400: mean 0.05, std deviation 0.89\n",
      "Layer 500: mean 0.01, std deviation 0.93\n",
      "Layer 600: mean 0.02, std deviation 0.92\n",
      "Layer 700: mean -0.02, std deviation 0.90\n",
      "Layer 800: mean 0.05, std deviation 0.83\n",
      "Layer 900: mean 0.02, std deviation 1.00\n"
     ]
    }
   ],
   "source": [
    "np.random.seed(42)\n",
    "Z = np.random.normal(size=(500, 100)) # standardized inputs\n",
    "for layer in range(1000):\n",
    "    W = np.random.normal(size=(100, 100), scale=np.sqrt(1 / 100)) # LeCun initialization\n",
    "    Z = selu(np.dot(Z, W))\n",
    "    means = np.mean(Z, axis=0).mean()\n",
    "    stds = np.std(Z, axis=0).mean()\n",
    "    if layer % 100 == 0:\n",
    "        print(\"Layer {}: mean {:.2f}, std deviation {:.2f}\".format(layer, means, stds))"
   ]
  },
  {
   "cell_type": "markdown",
   "metadata": {},
   "source": [
    "Using SELU is easy:"
   ]
  },
  {
   "cell_type": "code",
   "execution_count": 30,
   "metadata": {},
   "outputs": [
    {
     "data": {
      "text/plain": [
       "<keras.layers.core.Dense at 0x7f2c5874d9e8>"
      ]
     },
     "execution_count": 30,
     "metadata": {},
     "output_type": "execute_result"
    }
   ],
   "source": [
    "keras.layers.Dense(10, activation=\"selu\",\n",
    "                   kernel_initializer=\"lecun_normal\")"
   ]
  },
  {
   "cell_type": "markdown",
   "metadata": {},
   "source": [
    "Let's create a neural net for Fashion MNIST with 100 hidden layers, using the SELU activation function:"
   ]
  },
  {
   "cell_type": "code",
   "execution_count": 31,
   "metadata": {},
   "outputs": [],
   "source": [
    "np.random.seed(42)\n",
    "tf.set_random_seed(42)"
   ]
  },
  {
   "cell_type": "code",
   "execution_count": 32,
   "metadata": {},
   "outputs": [],
   "source": [
    "model = keras.models.Sequential()\n",
    "model.add(keras.layers.Flatten(input_shape=[28, 28]))\n",
    "model.add(keras.layers.Dense(300, activation=\"selu\",\n",
    "                             kernel_initializer=\"lecun_normal\"))\n",
    "for layer in range(99):\n",
    "    model.add(keras.layers.Dense(100, activation=\"selu\",\n",
    "                                 kernel_initializer=\"lecun_normal\"))\n",
    "model.add(keras.layers.Dense(10, activation=\"softmax\"))"
   ]
  },
  {
   "cell_type": "code",
   "execution_count": 33,
   "metadata": {},
   "outputs": [],
   "source": [
    "model.compile(loss=\"sparse_categorical_crossentropy\",\n",
    "              optimizer=keras.optimizers.SGD(lr=1e-3),\n",
    "              metrics=[\"accuracy\"])"
   ]
  },
  {
   "cell_type": "markdown",
   "metadata": {},
   "source": [
    "Now let's train it. Do not forget to scale the inputs to mean 0 and standard deviation 1:"
   ]
  },
  {
   "cell_type": "code",
   "execution_count": 34,
   "metadata": {},
   "outputs": [],
   "source": [
    "pixel_means = X_train.mean(axis=0, keepdims=True)\n",
    "pixel_stds = X_train.std(axis=0, keepdims=True)\n",
    "X_train_scaled = (X_train - pixel_means) / pixel_stds\n",
    "X_valid_scaled = (X_valid - pixel_means) / pixel_stds\n",
    "X_test_scaled = (X_test - pixel_means) / pixel_stds"
   ]
  },
  {
   "cell_type": "code",
   "execution_count": 35,
   "metadata": {},
   "outputs": [
    {
     "name": "stdout",
     "output_type": "stream",
     "text": [
      "Train on 55000 samples, validate on 5000 samples\n",
      "Epoch 1/5\n",
      "55000/55000 [==============================] - 47s 846us/step - loss: 1.1891 - acc: 0.5612 - val_loss: 0.8281 - val_acc: 0.6924\n",
      "Epoch 2/5\n",
      "55000/55000 [==============================] - 43s 781us/step - loss: 0.7377 - acc: 0.7292 - val_loss: 0.6668 - val_acc: 0.7678\n",
      "Epoch 3/5\n",
      "55000/55000 [==============================] - 42s 771us/step - loss: 0.6117 - acc: 0.7729 - val_loss: 0.5582 - val_acc: 0.7898\n",
      "Epoch 4/5\n",
      "55000/55000 [==============================] - 43s 777us/step - loss: 0.5606 - acc: 0.7950 - val_loss: 0.5294 - val_acc: 0.8112\n",
      "Epoch 5/5\n",
      "55000/55000 [==============================] - 43s 777us/step - loss: 0.5311 - acc: 0.8107 - val_loss: 0.5127 - val_acc: 0.8242\n"
     ]
    }
   ],
   "source": [
    "history = model.fit(X_train_scaled, y_train, epochs=5,\n",
    "                    validation_data=(X_valid_scaled, y_valid))"
   ]
  },
  {
   "cell_type": "markdown",
   "metadata": {},
   "source": [
    "Now look at what happens if we try to use the ReLU activation function instead:"
   ]
  },
  {
   "cell_type": "code",
   "execution_count": 36,
   "metadata": {},
   "outputs": [],
   "source": [
    "np.random.seed(42)\n",
    "tf.set_random_seed(42)"
   ]
  },
  {
   "cell_type": "code",
   "execution_count": 37,
   "metadata": {},
   "outputs": [],
   "source": [
    "model = keras.models.Sequential()\n",
    "model.add(keras.layers.Flatten(input_shape=[28, 28]))\n",
    "model.add(keras.layers.Dense(300, activation=\"relu\", kernel_initializer=\"he_normal\"))\n",
    "for layer in range(99):\n",
    "    model.add(keras.layers.Dense(100, activation=\"relu\", kernel_initializer=\"he_normal\"))\n",
    "model.add(keras.layers.Dense(10, activation=\"softmax\"))"
   ]
  },
  {
   "cell_type": "code",
   "execution_count": 38,
   "metadata": {},
   "outputs": [],
   "source": [
    "model.compile(loss=\"sparse_categorical_crossentropy\",\n",
    "              optimizer=keras.optimizers.SGD(lr=1e-3),\n",
    "              metrics=[\"accuracy\"])"
   ]
  },
  {
   "cell_type": "code",
   "execution_count": 39,
   "metadata": {},
   "outputs": [
    {
     "name": "stdout",
     "output_type": "stream",
     "text": [
      "Train on 55000 samples, validate on 5000 samples\n",
      "Epoch 1/5\n",
      "55000/55000 [==============================] - 30s 538us/step - loss: 2.0022 - acc: 0.2314 - val_loss: 1.5524 - val_acc: 0.3952\n",
      "Epoch 2/5\n",
      "55000/55000 [==============================] - 27s 490us/step - loss: 1.3694 - acc: 0.4492 - val_loss: 1.1921 - val_acc: 0.4690\n",
      "Epoch 3/5\n",
      "55000/55000 [==============================] - 27s 491us/step - loss: 1.1823 - acc: 0.4895 - val_loss: 0.9198 - val_acc: 0.6154\n",
      "Epoch 4/5\n",
      "55000/55000 [==============================] - 27s 491us/step - loss: 0.9619 - acc: 0.5904 - val_loss: 0.8620 - val_acc: 0.6570\n",
      "Epoch 5/5\n",
      "55000/55000 [==============================] - 27s 493us/step - loss: 1.3278 - acc: 0.4586 - val_loss: 1.2061 - val_acc: 0.5022\n"
     ]
    }
   ],
   "source": [
    "history = model.fit(X_train_scaled, y_train, epochs=5,\n",
    "                    validation_data=(X_valid_scaled, y_valid))"
   ]
  },
  {
   "cell_type": "markdown",
   "metadata": {},
   "source": [
    "Not great at all, we suffered from the vanishing/exploding gradients problem."
   ]
  },
  {
   "cell_type": "markdown",
   "metadata": {},
   "source": [
    "# Batch Normalization"
   ]
  },
  {
   "cell_type": "code",
   "execution_count": 40,
   "metadata": {},
   "outputs": [],
   "source": [
    "model = keras.models.Sequential([\n",
    "    keras.layers.Flatten(input_shape=[28, 28]),\n",
    "    keras.layers.BatchNormalization(),\n",
    "    keras.layers.Dense(300, activation=\"relu\"),\n",
    "    keras.layers.BatchNormalization(),\n",
    "    keras.layers.Dense(100, activation=\"relu\"),\n",
    "    keras.layers.BatchNormalization(),\n",
    "    keras.layers.Dense(10, activation=\"softmax\")\n",
    "])"
   ]
  },
  {
   "cell_type": "code",
   "execution_count": 41,
   "metadata": {},
   "outputs": [
    {
     "name": "stdout",
     "output_type": "stream",
     "text": [
      "_________________________________________________________________\n",
      "Layer (type)                 Output Shape              Param #   \n",
      "=================================================================\n",
      "flatten_5 (Flatten)          (None, 784)               0         \n",
      "_________________________________________________________________\n",
      "batch_normalization_1 (Batch (None, 784)               3136      \n",
      "_________________________________________________________________\n",
      "dense_213 (Dense)            (None, 300)               235500    \n",
      "_________________________________________________________________\n",
      "batch_normalization_2 (Batch (None, 300)               1200      \n",
      "_________________________________________________________________\n",
      "dense_214 (Dense)            (None, 100)               30100     \n",
      "_________________________________________________________________\n",
      "batch_normalization_3 (Batch (None, 100)               400       \n",
      "_________________________________________________________________\n",
      "dense_215 (Dense)            (None, 10)                1010      \n",
      "=================================================================\n",
      "Total params: 271,346\n",
      "Trainable params: 268,978\n",
      "Non-trainable params: 2,368\n",
      "_________________________________________________________________\n"
     ]
    }
   ],
   "source": [
    "model.summary()"
   ]
  },
  {
   "cell_type": "code",
   "execution_count": 44,
   "metadata": {},
   "outputs": [
    {
     "data": {
      "text/plain": [
       "[<tf.Variable 'batch_normalization_1/gamma:0' shape=(784,) dtype=float32_ref>,\n",
       " <tf.Variable 'batch_normalization_1/beta:0' shape=(784,) dtype=float32_ref>,\n",
       " <tf.Variable 'batch_normalization_1/moving_mean:0' shape=(784,) dtype=float32_ref>,\n",
       " <tf.Variable 'batch_normalization_1/moving_variance:0' shape=(784,) dtype=float32_ref>]"
      ]
     },
     "execution_count": 44,
     "metadata": {},
     "output_type": "execute_result"
    }
   ],
   "source": [
    "bn1.weights"
   ]
  },
  {
   "cell_type": "code",
   "execution_count": 45,
   "metadata": {},
   "outputs": [
    {
     "data": {
      "text/plain": [
       "[('batch_normalization_1/gamma:0', True),\n",
       " ('batch_normalization_1/beta:0', True),\n",
       " ('batch_normalization_1/moving_mean:0', True),\n",
       " ('batch_normalization_1/moving_variance:0', True)]"
      ]
     },
     "execution_count": 45,
     "metadata": {},
     "output_type": "execute_result"
    }
   ],
   "source": [
    "bn1 = model.layers[1]\n",
    "[(var.name, var.trainable) for var in bn1.weights]"
   ]
  },
  {
   "cell_type": "code",
   "execution_count": 46,
   "metadata": {},
   "outputs": [
    {
     "data": {
      "text/plain": [
       "[<tf.Tensor 'batch_normalization_1/AssignMovingAvg:0' shape=(784,) dtype=float32_ref>,\n",
       " <tf.Tensor 'batch_normalization_1/AssignMovingAvg_1:0' shape=(784,) dtype=float32_ref>]"
      ]
     },
     "execution_count": 46,
     "metadata": {},
     "output_type": "execute_result"
    }
   ],
   "source": [
    "bn1.updates"
   ]
  },
  {
   "cell_type": "code",
   "execution_count": 47,
   "metadata": {},
   "outputs": [],
   "source": [
    "model.compile(loss=\"sparse_categorical_crossentropy\",\n",
    "              optimizer=keras.optimizers.SGD(lr=1e-3),\n",
    "              metrics=[\"accuracy\"])"
   ]
  },
  {
   "cell_type": "code",
   "execution_count": 48,
   "metadata": {},
   "outputs": [
    {
     "name": "stdout",
     "output_type": "stream",
     "text": [
      "Train on 55000 samples, validate on 5000 samples\n",
      "Epoch 1/10\n",
      "55000/55000 [==============================] - 11s 193us/step - loss: 0.8602 - acc: 0.7087 - val_loss: 0.5605 - val_acc: 0.8152\n",
      "Epoch 2/10\n",
      "55000/55000 [==============================] - 9s 170us/step - loss: 0.5781 - acc: 0.7990 - val_loss: 0.4801 - val_acc: 0.8432\n",
      "Epoch 3/10\n",
      "55000/55000 [==============================] - 9s 168us/step - loss: 0.5171 - acc: 0.8190 - val_loss: 0.4411 - val_acc: 0.8568\n",
      "Epoch 4/10\n",
      "55000/55000 [==============================] - 9s 166us/step - loss: 0.4843 - acc: 0.8293 - val_loss: 0.4198 - val_acc: 0.8612\n",
      "Epoch 5/10\n",
      "55000/55000 [==============================] - 8s 147us/step - loss: 0.4589 - acc: 0.8382 - val_loss: 0.4017 - val_acc: 0.8638\n",
      "Epoch 6/10\n",
      "55000/55000 [==============================] - 8s 144us/step - loss: 0.4406 - acc: 0.8445 - val_loss: 0.3913 - val_acc: 0.8646\n",
      "Epoch 7/10\n",
      "55000/55000 [==============================] - 8s 150us/step - loss: 0.4260 - acc: 0.8505 - val_loss: 0.3817 - val_acc: 0.8670\n",
      "Epoch 8/10\n",
      "55000/55000 [==============================] - 9s 168us/step - loss: 0.4124 - acc: 0.8562 - val_loss: 0.3738 - val_acc: 0.8680\n",
      "Epoch 9/10\n",
      "55000/55000 [==============================] - 9s 166us/step - loss: 0.4023 - acc: 0.8581 - val_loss: 0.3669 - val_acc: 0.8726\n",
      "Epoch 10/10\n",
      "55000/55000 [==============================] - 9s 165us/step - loss: 0.3990 - acc: 0.8598 - val_loss: 0.3597 - val_acc: 0.8732\n"
     ]
    }
   ],
   "source": [
    "history = model.fit(X_train, y_train, epochs=10,\n",
    "                    validation_data=(X_valid, y_valid))"
   ]
  },
  {
   "cell_type": "markdown",
   "metadata": {},
   "source": [
    "Sometimes applying BN before the activation function works better (there's a debate on this topic). Moreover, the layer before a `BatchNormalization` layer does not need to have bias terms, since the `BatchNormalization` layer some as well, it would be a waste of parameters, so you can set `use_bias=False` when creating those layers:"
   ]
  },
  {
   "cell_type": "code",
   "execution_count": 49,
   "metadata": {},
   "outputs": [],
   "source": [
    "model = keras.models.Sequential([\n",
    "    keras.layers.Flatten(input_shape=[28, 28]),\n",
    "    keras.layers.BatchNormalization(),\n",
    "    keras.layers.Dense(300, use_bias=False),\n",
    "    keras.layers.BatchNormalization(),\n",
    "    keras.layers.Activation(\"relu\"),\n",
    "    keras.layers.Dense(100, use_bias=False),\n",
    "    keras.layers.Activation(\"relu\"),\n",
    "    keras.layers.BatchNormalization(),\n",
    "    keras.layers.Dense(10, activation=\"softmax\")\n",
    "])"
   ]
  },
  {
   "cell_type": "code",
   "execution_count": 50,
   "metadata": {},
   "outputs": [],
   "source": [
    "model.compile(loss=\"sparse_categorical_crossentropy\",\n",
    "              optimizer=keras.optimizers.SGD(lr=1e-3),\n",
    "              metrics=[\"accuracy\"])"
   ]
  },
  {
   "cell_type": "code",
   "execution_count": 51,
   "metadata": {},
   "outputs": [
    {
     "name": "stdout",
     "output_type": "stream",
     "text": [
      "Train on 55000 samples, validate on 5000 samples\n",
      "Epoch 1/10\n",
      "55000/55000 [==============================] - 11s 196us/step - loss: 0.8547 - acc: 0.7178 - val_loss: 0.5968 - val_acc: 0.8092\n",
      "Epoch 2/10\n",
      "55000/55000 [==============================] - 9s 169us/step - loss: 0.5871 - acc: 0.8012 - val_loss: 0.5087 - val_acc: 0.8308\n",
      "Epoch 3/10\n",
      "55000/55000 [==============================] - 9s 169us/step - loss: 0.5221 - acc: 0.8192 - val_loss: 0.4683 - val_acc: 0.8428\n",
      "Epoch 4/10\n",
      "55000/55000 [==============================] - 9s 169us/step - loss: 0.4845 - acc: 0.8320 - val_loss: 0.4423 - val_acc: 0.8500\n",
      "Epoch 5/10\n",
      "55000/55000 [==============================] - 9s 169us/step - loss: 0.4611 - acc: 0.8385 - val_loss: 0.4259 - val_acc: 0.8568\n",
      "Epoch 6/10\n",
      "55000/55000 [==============================] - 9s 168us/step - loss: 0.4444 - acc: 0.8435 - val_loss: 0.4124 - val_acc: 0.8618\n",
      "Epoch 7/10\n",
      "55000/55000 [==============================] - 9s 168us/step - loss: 0.4289 - acc: 0.8509 - val_loss: 0.4001 - val_acc: 0.8640\n",
      "Epoch 8/10\n",
      "55000/55000 [==============================] - 9s 166us/step - loss: 0.4124 - acc: 0.8560 - val_loss: 0.3922 - val_acc: 0.8678\n",
      "Epoch 9/10\n",
      "55000/55000 [==============================] - 9s 168us/step - loss: 0.4045 - acc: 0.8591 - val_loss: 0.3829 - val_acc: 0.8720\n",
      "Epoch 10/10\n",
      "55000/55000 [==============================] - 9s 167us/step - loss: 0.3943 - acc: 0.8626 - val_loss: 0.3773 - val_acc: 0.8738\n"
     ]
    }
   ],
   "source": [
    "history = model.fit(X_train, y_train, epochs=10,\n",
    "                    validation_data=(X_valid, y_valid))"
   ]
  },
  {
   "cell_type": "markdown",
   "metadata": {},
   "source": [
    "## Gradient Clipping"
   ]
  },
  {
   "cell_type": "markdown",
   "metadata": {},
   "source": [
    "All Keras optimizers accept `clipnorm` or `clipvalue` arguments:"
   ]
  },
  {
   "cell_type": "code",
   "execution_count": 52,
   "metadata": {},
   "outputs": [],
   "source": [
    "optimizer = keras.optimizers.SGD(clipvalue=1.0)"
   ]
  },
  {
   "cell_type": "code",
   "execution_count": 53,
   "metadata": {},
   "outputs": [],
   "source": [
    "optimizer = keras.optimizers.SGD(clipnorm=1.0)"
   ]
  },
  {
   "cell_type": "markdown",
   "metadata": {},
   "source": [
    "## Reusing Pretrained Layers"
   ]
  },
  {
   "cell_type": "markdown",
   "metadata": {},
   "source": [
    "### Reusing a Keras model"
   ]
  },
  {
   "cell_type": "markdown",
   "metadata": {},
   "source": [
    "Let's split the fashion MNIST training set in two:\n",
    "* `X_train_A`: all images of all items except for sandals and shirts (classes 5 and 6).\n",
    "* `X_train_B`: a much smaller training set of just the first 200 images of sandals or shirts.\n",
    "\n",
    "The validation set and the test set are also split this way, but without restricting the number of images.\n",
    "\n",
    "We will train a model on set A (classification task with 8 classes), and try to reuse it to tackle set B (binary classification). We hope to transfer a little bit of knowledge from task A to task B, since classes in set A (sneakers, ankle boots, coats, t-shirts, etc.) are somewhat similar to classes in set B (sandals and shirts). However, since we are using `Dense` layers, only patterns that occur at the same location can be reused (in contrast, convolutional layers will transfer much better, since learned patterns can be detected anywhere on the image, as we will see in the CNN chapter)."
   ]
  },
  {
   "cell_type": "code",
   "execution_count": 54,
   "metadata": {},
   "outputs": [],
   "source": [
    "def split_dataset(X, y):\n",
    "    y_5_or_6 = (y == 5) | (y == 6) # sandals or shirts\n",
    "    y_A = y[~y_5_or_6]\n",
    "    y_A[y_A > 6] -= 2 # class indices 7, 8, 9 should be moved to 5, 6, 7\n",
    "    y_B = (y[y_5_or_6] == 6).astype(np.float32) # binary classification task: is it a shirt (class 6)?\n",
    "    return ((X[~y_5_or_6], y_A),\n",
    "            (X[y_5_or_6], y_B))\n",
    "\n",
    "(X_train_A, y_train_A), (X_train_B, y_train_B) = split_dataset(X_train, y_train)\n",
    "(X_valid_A, y_valid_A), (X_valid_B, y_valid_B) = split_dataset(X_valid, y_valid)\n",
    "(X_test_A, y_test_A), (X_test_B, y_test_B) = split_dataset(X_test, y_test)\n",
    "X_train_B = X_train_B[:200]\n",
    "y_train_B = y_train_B[:200]"
   ]
  },
  {
   "cell_type": "code",
   "execution_count": 55,
   "metadata": {},
   "outputs": [
    {
     "data": {
      "text/plain": [
       "(43986, 28, 28)"
      ]
     },
     "execution_count": 55,
     "metadata": {},
     "output_type": "execute_result"
    }
   ],
   "source": [
    "X_train_A.shape"
   ]
  },
  {
   "cell_type": "code",
   "execution_count": 56,
   "metadata": {},
   "outputs": [
    {
     "data": {
      "text/plain": [
       "(200, 28, 28)"
      ]
     },
     "execution_count": 56,
     "metadata": {},
     "output_type": "execute_result"
    }
   ],
   "source": [
    "X_train_B.shape"
   ]
  },
  {
   "cell_type": "code",
   "execution_count": 57,
   "metadata": {},
   "outputs": [
    {
     "data": {
      "text/plain": [
       "array([4, 0, 5, 7, 7, 7, 4, 4, 3, 4, 0, 1, 6, 3, 4, 3, 2, 6, 5, 3, 4, 5,\n",
       "       1, 3, 4, 2, 0, 6, 7, 1], dtype=uint8)"
      ]
     },
     "execution_count": 57,
     "metadata": {},
     "output_type": "execute_result"
    }
   ],
   "source": [
    "y_train_A[:30]"
   ]
  },
  {
   "cell_type": "code",
   "execution_count": 58,
   "metadata": {},
   "outputs": [
    {
     "data": {
      "text/plain": [
       "array([1., 1., 0., 0., 0., 0., 1., 1., 1., 0., 0., 1., 1., 0., 0., 0., 0.,\n",
       "       0., 0., 1., 1., 0., 0., 1., 1., 0., 1., 1., 1., 1.], dtype=float32)"
      ]
     },
     "execution_count": 58,
     "metadata": {},
     "output_type": "execute_result"
    }
   ],
   "source": [
    "y_train_B[:30]"
   ]
  },
  {
   "cell_type": "code",
   "execution_count": 59,
   "metadata": {},
   "outputs": [],
   "source": [
    "tf.set_random_seed(42)\n",
    "np.random.seed(42)"
   ]
  },
  {
   "cell_type": "code",
   "execution_count": 60,
   "metadata": {},
   "outputs": [],
   "source": [
    "model_A = keras.models.Sequential()\n",
    "model_A.add(keras.layers.Flatten(input_shape=[28, 28]))\n",
    "for n_hidden in (300, 100, 50, 50, 50):\n",
    "    model_A.add(keras.layers.Dense(n_hidden, activation=\"selu\"))\n",
    "model_A.add(keras.layers.Dense(8, activation=\"softmax\"))"
   ]
  },
  {
   "cell_type": "code",
   "execution_count": 61,
   "metadata": {},
   "outputs": [],
   "source": [
    "model_A.compile(loss=\"sparse_categorical_crossentropy\",\n",
    "                optimizer=keras.optimizers.SGD(lr=1e-3),\n",
    "                metrics=[\"accuracy\"])"
   ]
  },
  {
   "cell_type": "code",
   "execution_count": 62,
   "metadata": {},
   "outputs": [
    {
     "name": "stdout",
     "output_type": "stream",
     "text": [
      "Train on 43986 samples, validate on 4014 samples\n",
      "Epoch 1/20\n",
      "43986/43986 [==============================] - 8s 190us/step - loss: 0.5678 - acc: 0.8145 - val_loss: 0.3797 - val_acc: 0.8714\n",
      "Epoch 2/20\n",
      "43986/43986 [==============================] - 7s 160us/step - loss: 0.3538 - acc: 0.8795 - val_loss: 0.3218 - val_acc: 0.8959\n",
      "Epoch 3/20\n",
      "43986/43986 [==============================] - 7s 161us/step - loss: 0.3147 - acc: 0.8918 - val_loss: 0.3007 - val_acc: 0.9008\n",
      "Epoch 4/20\n",
      "43986/43986 [==============================] - 7s 161us/step - loss: 0.2947 - acc: 0.8991 - val_loss: 0.2887 - val_acc: 0.9031\n",
      "Epoch 5/20\n",
      "43986/43986 [==============================] - 7s 160us/step - loss: 0.2817 - acc: 0.9027 - val_loss: 0.2786 - val_acc: 0.9063\n",
      "Epoch 6/20\n",
      "43986/43986 [==============================] - 7s 160us/step - loss: 0.2720 - acc: 0.9071 - val_loss: 0.2693 - val_acc: 0.9101\n",
      "Epoch 7/20\n",
      "43986/43986 [==============================] - 7s 159us/step - loss: 0.2644 - acc: 0.9097 - val_loss: 0.2655 - val_acc: 0.9093\n",
      "Epoch 8/20\n",
      "43986/43986 [==============================] - 7s 158us/step - loss: 0.2581 - acc: 0.9115 - val_loss: 0.2590 - val_acc: 0.9148\n",
      "Epoch 9/20\n",
      "43986/43986 [==============================] - 7s 158us/step - loss: 0.2527 - acc: 0.9137 - val_loss: 0.2588 - val_acc: 0.9121\n",
      "Epoch 10/20\n",
      "43986/43986 [==============================] - 7s 158us/step - loss: 0.2480 - acc: 0.9155 - val_loss: 0.2559 - val_acc: 0.9141\n",
      "Epoch 11/20\n",
      "43986/43986 [==============================] - 7s 158us/step - loss: 0.2439 - acc: 0.9169 - val_loss: 0.2505 - val_acc: 0.9155\n",
      "Epoch 12/20\n",
      "43986/43986 [==============================] - 7s 157us/step - loss: 0.2400 - acc: 0.9185 - val_loss: 0.2620 - val_acc: 0.9058\n",
      "Epoch 13/20\n",
      "43986/43986 [==============================] - 7s 157us/step - loss: 0.2370 - acc: 0.9195 - val_loss: 0.2502 - val_acc: 0.9150\n",
      "Epoch 14/20\n",
      "43986/43986 [==============================] - 7s 156us/step - loss: 0.2335 - acc: 0.9207 - val_loss: 0.2455 - val_acc: 0.9165\n",
      "Epoch 15/20\n",
      "43986/43986 [==============================] - 7s 155us/step - loss: 0.2306 - acc: 0.9217 - val_loss: 0.2453 - val_acc: 0.9178\n",
      "Epoch 16/20\n",
      "43986/43986 [==============================] - 7s 154us/step - loss: 0.2278 - acc: 0.9220 - val_loss: 0.2439 - val_acc: 0.9141\n",
      "Epoch 17/20\n",
      "43986/43986 [==============================] - 7s 163us/step - loss: 0.2253 - acc: 0.9230 - val_loss: 0.2388 - val_acc: 0.9178\n",
      "Epoch 18/20\n",
      "43986/43986 [==============================] - 7s 165us/step - loss: 0.2231 - acc: 0.9240 - val_loss: 0.2357 - val_acc: 0.9185\n",
      "Epoch 19/20\n",
      "43986/43986 [==============================] - 7s 165us/step - loss: 0.2203 - acc: 0.9247 - val_loss: 0.2446 - val_acc: 0.9118\n",
      "Epoch 20/20\n",
      "43986/43986 [==============================] - 7s 164us/step - loss: 0.2179 - acc: 0.9256 - val_loss: 0.2401 - val_acc: 0.9163\n"
     ]
    }
   ],
   "source": [
    "history = model_A.fit(X_train_A, y_train_A, epochs=20,\n",
    "                    validation_data=(X_valid_A, y_valid_A))"
   ]
  },
  {
   "cell_type": "code",
   "execution_count": 63,
   "metadata": {},
   "outputs": [],
   "source": [
    "model_A.save(\"my_model_A.h5\")"
   ]
  },
  {
   "cell_type": "code",
   "execution_count": 64,
   "metadata": {},
   "outputs": [],
   "source": [
    "model_B = keras.models.Sequential()\n",
    "model_B.add(keras.layers.Flatten(input_shape=[28, 28]))\n",
    "for n_hidden in (300, 100, 50, 50, 50):\n",
    "    model_B.add(keras.layers.Dense(n_hidden, activation=\"selu\"))\n",
    "model_B.add(keras.layers.Dense(1, activation=\"sigmoid\"))"
   ]
  },
  {
   "cell_type": "code",
   "execution_count": 65,
   "metadata": {},
   "outputs": [],
   "source": [
    "model_B.compile(loss=\"binary_crossentropy\",\n",
    "                optimizer=keras.optimizers.SGD(lr=1e-3),\n",
    "                metrics=[\"accuracy\"])"
   ]
  },
  {
   "cell_type": "code",
   "execution_count": 66,
   "metadata": {},
   "outputs": [
    {
     "name": "stdout",
     "output_type": "stream",
     "text": [
      "Train on 200 samples, validate on 986 samples\n",
      "Epoch 1/20\n",
      "200/200 [==============================] - 1s 7ms/step - loss: 0.7504 - acc: 0.6100 - val_loss: 0.5297 - val_acc: 0.7343\n",
      "Epoch 2/20\n",
      "200/200 [==============================] - 0s 545us/step - loss: 0.4548 - acc: 0.7650 - val_loss: 0.3697 - val_acc: 0.8570\n",
      "Epoch 3/20\n",
      "200/200 [==============================] - 0s 520us/step - loss: 0.3195 - acc: 0.8950 - val_loss: 0.2753 - val_acc: 0.9158\n",
      "Epoch 4/20\n",
      "200/200 [==============================] - 0s 487us/step - loss: 0.2356 - acc: 0.9550 - val_loss: 0.2253 - val_acc: 0.9381\n",
      "Epoch 5/20\n",
      "200/200 [==============================] - 0s 506us/step - loss: 0.1905 - acc: 0.9700 - val_loss: 0.1921 - val_acc: 0.9533\n",
      "Epoch 6/20\n",
      "200/200 [==============================] - 0s 391us/step - loss: 0.1596 - acc: 0.9800 - val_loss: 0.1693 - val_acc: 0.9564\n",
      "Epoch 7/20\n",
      "200/200 [==============================] - 0s 432us/step - loss: 0.1376 - acc: 0.9850 - val_loss: 0.1524 - val_acc: 0.9625\n",
      "Epoch 8/20\n",
      "200/200 [==============================] - 0s 501us/step - loss: 0.1214 - acc: 0.9900 - val_loss: 0.1396 - val_acc: 0.9665\n",
      "Epoch 9/20\n",
      "200/200 [==============================] - 0s 516us/step - loss: 0.1091 - acc: 0.9900 - val_loss: 0.1298 - val_acc: 0.9706\n",
      "Epoch 10/20\n",
      "200/200 [==============================] - 0s 484us/step - loss: 0.0994 - acc: 0.9900 - val_loss: 0.1215 - val_acc: 0.9736\n",
      "Epoch 11/20\n",
      "200/200 [==============================] - 0s 513us/step - loss: 0.0913 - acc: 0.9900 - val_loss: 0.1155 - val_acc: 0.9736\n",
      "Epoch 12/20\n",
      "200/200 [==============================] - 0s 512us/step - loss: 0.0848 - acc: 0.9900 - val_loss: 0.1092 - val_acc: 0.9746\n",
      "Epoch 13/20\n",
      "200/200 [==============================] - 0s 510us/step - loss: 0.0792 - acc: 0.9900 - val_loss: 0.1031 - val_acc: 0.9767\n",
      "Epoch 14/20\n",
      "200/200 [==============================] - 0s 536us/step - loss: 0.0734 - acc: 0.9900 - val_loss: 0.0991 - val_acc: 0.9787\n",
      "Epoch 15/20\n",
      "200/200 [==============================] - 0s 505us/step - loss: 0.0691 - acc: 0.9900 - val_loss: 0.0964 - val_acc: 0.9797\n",
      "Epoch 16/20\n",
      "200/200 [==============================] - 0s 502us/step - loss: 0.0656 - acc: 0.9900 - val_loss: 0.0928 - val_acc: 0.9797\n",
      "Epoch 17/20\n",
      "200/200 [==============================] - 0s 519us/step - loss: 0.0623 - acc: 0.9900 - val_loss: 0.0897 - val_acc: 0.9797\n",
      "Epoch 18/20\n",
      "200/200 [==============================] - 0s 497us/step - loss: 0.0591 - acc: 0.9950 - val_loss: 0.0858 - val_acc: 0.9797\n",
      "Epoch 19/20\n",
      "200/200 [==============================] - 0s 489us/step - loss: 0.0558 - acc: 0.9950 - val_loss: 0.0835 - val_acc: 0.9807\n",
      "Epoch 20/20\n",
      "200/200 [==============================] - 0s 489us/step - loss: 0.0535 - acc: 0.9950 - val_loss: 0.0812 - val_acc: 0.9807\n"
     ]
    }
   ],
   "source": [
    "history = model_B.fit(X_train_B, y_train_B, epochs=20,\n",
    "                      validation_data=(X_valid_B, y_valid_B))"
   ]
  },
  {
   "cell_type": "code",
   "execution_count": 67,
   "metadata": {},
   "outputs": [
    {
     "name": "stdout",
     "output_type": "stream",
     "text": [
      "_________________________________________________________________\n",
      "Layer (type)                 Output Shape              Param #   \n",
      "=================================================================\n",
      "flatten_6 (Flatten)          (None, 784)               0         \n",
      "_________________________________________________________________\n",
      "batch_normalization_4 (Batch (None, 784)               3136      \n",
      "_________________________________________________________________\n",
      "dense_216 (Dense)            (None, 300)               235200    \n",
      "_________________________________________________________________\n",
      "batch_normalization_5 (Batch (None, 300)               1200      \n",
      "_________________________________________________________________\n",
      "activation_1 (Activation)    (None, 300)               0         \n",
      "_________________________________________________________________\n",
      "dense_217 (Dense)            (None, 100)               30000     \n",
      "_________________________________________________________________\n",
      "activation_2 (Activation)    (None, 100)               0         \n",
      "_________________________________________________________________\n",
      "batch_normalization_6 (Batch (None, 100)               400       \n",
      "_________________________________________________________________\n",
      "dense_218 (Dense)            (None, 10)                1010      \n",
      "=================================================================\n",
      "Total params: 270,946\n",
      "Trainable params: 268,578\n",
      "Non-trainable params: 2,368\n",
      "_________________________________________________________________\n"
     ]
    }
   ],
   "source": [
    "model.summary()"
   ]
  },
  {
   "cell_type": "code",
   "execution_count": 68,
   "metadata": {},
   "outputs": [],
   "source": [
    "model_A = keras.models.load_model(\"my_model_A.h5\")\n",
    "model_B_on_A = keras.models.Sequential(model_A.layers[:-1])\n",
    "model_B_on_A.add(keras.layers.Dense(1, activation=\"sigmoid\"))"
   ]
  },
  {
   "cell_type": "code",
   "execution_count": 69,
   "metadata": {},
   "outputs": [],
   "source": [
    "model_A_clone = keras.models.clone_model(model_A)\n",
    "model_A_clone.set_weights(model_A.get_weights())"
   ]
  },
  {
   "cell_type": "code",
   "execution_count": 70,
   "metadata": {},
   "outputs": [],
   "source": [
    "for layer in model_B_on_A.layers[:-1]:\n",
    "    layer.trainable = False\n",
    "\n",
    "model_B_on_A.compile(loss=\"binary_crossentropy\",\n",
    "                     optimizer=keras.optimizers.SGD(lr=1e-3),\n",
    "                     metrics=[\"accuracy\"])"
   ]
  },
  {
   "cell_type": "code",
   "execution_count": 71,
   "metadata": {},
   "outputs": [
    {
     "name": "stdout",
     "output_type": "stream",
     "text": [
      "Train on 200 samples, validate on 986 samples\n",
      "Epoch 1/4\n",
      "200/200 [==============================] - 2s 8ms/step - loss: 0.5890 - acc: 0.7000 - val_loss: 0.6500 - val_acc: 0.6633\n",
      "Epoch 2/4\n",
      "200/200 [==============================] - 0s 487us/step - loss: 0.5541 - acc: 0.7150 - val_loss: 0.6160 - val_acc: 0.6866\n",
      "Epoch 3/4\n",
      "200/200 [==============================] - 0s 484us/step - loss: 0.5221 - acc: 0.7300 - val_loss: 0.5853 - val_acc: 0.6998\n",
      "Epoch 4/4\n",
      "200/200 [==============================] - 0s 448us/step - loss: 0.4931 - acc: 0.7450 - val_loss: 0.5551 - val_acc: 0.7140\n",
      "Train on 200 samples, validate on 986 samples\n",
      "Epoch 1/16\n",
      "200/200 [==============================] - 2s 9ms/step - loss: 0.3950 - acc: 0.8050 - val_loss: 0.3556 - val_acc: 0.8266\n",
      "Epoch 2/16\n",
      "200/200 [==============================] - 0s 559us/step - loss: 0.2478 - acc: 0.9250 - val_loss: 0.2602 - val_acc: 0.8966\n",
      "Epoch 3/16\n",
      "200/200 [==============================] - 0s 533us/step - loss: 0.1782 - acc: 0.9650 - val_loss: 0.2040 - val_acc: 0.9361\n",
      "Epoch 4/16\n",
      "200/200 [==============================] - 0s 544us/step - loss: 0.1373 - acc: 0.9850 - val_loss: 0.1700 - val_acc: 0.9584\n",
      "Epoch 5/16\n",
      "200/200 [==============================] - 0s 538us/step - loss: 0.1127 - acc: 0.9900 - val_loss: 0.1451 - val_acc: 0.9757\n",
      "Epoch 6/16\n",
      "200/200 [==============================] - 0s 541us/step - loss: 0.0946 - acc: 0.9950 - val_loss: 0.1274 - val_acc: 0.9828\n",
      "Epoch 7/16\n",
      "200/200 [==============================] - 0s 533us/step - loss: 0.0818 - acc: 1.0000 - val_loss: 0.1147 - val_acc: 0.9868\n",
      "Epoch 8/16\n",
      "200/200 [==============================] - 0s 538us/step - loss: 0.0726 - acc: 1.0000 - val_loss: 0.1048 - val_acc: 0.9888\n",
      "Epoch 9/16\n",
      "200/200 [==============================] - 0s 517us/step - loss: 0.0654 - acc: 1.0000 - val_loss: 0.0968 - val_acc: 0.9899\n",
      "Epoch 10/16\n",
      "200/200 [==============================] - 0s 542us/step - loss: 0.0595 - acc: 1.0000 - val_loss: 0.0897 - val_acc: 0.9909\n",
      "Epoch 11/16\n",
      "200/200 [==============================] - 0s 566us/step - loss: 0.0544 - acc: 1.0000 - val_loss: 0.0839 - val_acc: 0.9919\n",
      "Epoch 12/16\n",
      "200/200 [==============================] - 0s 536us/step - loss: 0.0501 - acc: 1.0000 - val_loss: 0.0794 - val_acc: 0.9929\n",
      "Epoch 13/16\n",
      "200/200 [==============================] - 0s 576us/step - loss: 0.0468 - acc: 1.0000 - val_loss: 0.0753 - val_acc: 0.9929\n",
      "Epoch 14/16\n",
      "200/200 [==============================] - 0s 607us/step - loss: 0.0439 - acc: 1.0000 - val_loss: 0.0719 - val_acc: 0.9929\n",
      "Epoch 15/16\n",
      "200/200 [==============================] - 0s 574us/step - loss: 0.0413 - acc: 1.0000 - val_loss: 0.0681 - val_acc: 0.9929\n",
      "Epoch 16/16\n",
      "200/200 [==============================] - 0s 576us/step - loss: 0.0387 - acc: 1.0000 - val_loss: 0.0652 - val_acc: 0.9929\n"
     ]
    }
   ],
   "source": [
    "history = model_B_on_A.fit(X_train_B, y_train_B, epochs=4,\n",
    "                           validation_data=(X_valid_B, y_valid_B))\n",
    "\n",
    "for layer in model_B_on_A.layers[:-1]:\n",
    "    layer.trainable = True\n",
    "\n",
    "model_B_on_A.compile(loss=\"binary_crossentropy\",\n",
    "                     optimizer=keras.optimizers.SGD(lr=1e-3),\n",
    "                     metrics=[\"accuracy\"])\n",
    "history = model_B_on_A.fit(X_train_B, y_train_B, epochs=16,\n",
    "                           validation_data=(X_valid_B, y_valid_B))"
   ]
  },
  {
   "cell_type": "markdown",
   "metadata": {},
   "source": [
    "So, what's the final verdict?"
   ]
  },
  {
   "cell_type": "code",
   "execution_count": 72,
   "metadata": {},
   "outputs": [
    {
     "name": "stdout",
     "output_type": "stream",
     "text": [
      "2000/2000 [==============================] - 0s 76us/step\n"
     ]
    },
    {
     "data": {
      "text/plain": [
       "[0.07571890851855279, 0.9825]"
      ]
     },
     "execution_count": 72,
     "metadata": {},
     "output_type": "execute_result"
    }
   ],
   "source": [
    "model_B.evaluate(X_test_B, y_test_B)"
   ]
  },
  {
   "cell_type": "code",
   "execution_count": 73,
   "metadata": {},
   "outputs": [
    {
     "name": "stdout",
     "output_type": "stream",
     "text": [
      "2000/2000 [==============================] - 0s 77us/step\n"
     ]
    },
    {
     "data": {
      "text/plain": [
       "[0.059554100066423414, 0.9905]"
      ]
     },
     "execution_count": 73,
     "metadata": {},
     "output_type": "execute_result"
    }
   ],
   "source": [
    "model_B_on_A.evaluate(X_test_B, y_test_B)"
   ]
  },
  {
   "cell_type": "markdown",
   "metadata": {},
   "source": [
    "Great! We got quite a bit of transfer: the error rate dropped by a factor of almost 4!"
   ]
  },
  {
   "cell_type": "code",
   "execution_count": 74,
   "metadata": {},
   "outputs": [
    {
     "data": {
      "text/plain": [
       "3.933333333333337"
      ]
     },
     "execution_count": 74,
     "metadata": {},
     "output_type": "execute_result"
    }
   ],
   "source": [
    "(100 - 97.05) / (100 - 99.25)"
   ]
  },
  {
   "cell_type": "markdown",
   "metadata": {},
   "source": [
    "# Faster Optimizers"
   ]
  },
  {
   "cell_type": "markdown",
   "metadata": {},
   "source": [
    "## Momentum optimization"
   ]
  },
  {
   "cell_type": "code",
   "execution_count": 75,
   "metadata": {},
   "outputs": [],
   "source": [
    "optimizer = keras.optimizers.SGD(lr=0.001, momentum=0.9)"
   ]
  },
  {
   "cell_type": "markdown",
   "metadata": {},
   "source": [
    "## Nesterov Accelerated Gradient"
   ]
  },
  {
   "cell_type": "code",
   "execution_count": 76,
   "metadata": {},
   "outputs": [],
   "source": [
    "optimizer = keras.optimizers.SGD(lr=0.001, momentum=0.9, nesterov=True)"
   ]
  },
  {
   "cell_type": "markdown",
   "metadata": {},
   "source": [
    "## AdaGrad"
   ]
  },
  {
   "cell_type": "code",
   "execution_count": 77,
   "metadata": {},
   "outputs": [],
   "source": [
    "optimizer = keras.optimizers.Adagrad(lr=0.001)"
   ]
  },
  {
   "cell_type": "markdown",
   "metadata": {},
   "source": [
    "## RMSProp"
   ]
  },
  {
   "cell_type": "code",
   "execution_count": 78,
   "metadata": {},
   "outputs": [],
   "source": [
    "optimizer = keras.optimizers.RMSprop(lr=0.001, rho=0.9)"
   ]
  },
  {
   "cell_type": "markdown",
   "metadata": {},
   "source": [
    "## Adam Optimization"
   ]
  },
  {
   "cell_type": "code",
   "execution_count": 79,
   "metadata": {},
   "outputs": [],
   "source": [
    "optimizer = keras.optimizers.Adam(lr=0.001, beta_1=0.9, beta_2=0.999)"
   ]
  },
  {
   "cell_type": "markdown",
   "metadata": {},
   "source": [
    "## Adamax Optimization"
   ]
  },
  {
   "cell_type": "code",
   "execution_count": 80,
   "metadata": {},
   "outputs": [],
   "source": [
    "optimizer = keras.optimizers.Adamax(lr=0.001, beta_1=0.9, beta_2=0.999)"
   ]
  },
  {
   "cell_type": "markdown",
   "metadata": {},
   "source": [
    "## Nadam Optimization"
   ]
  },
  {
   "cell_type": "code",
   "execution_count": 81,
   "metadata": {},
   "outputs": [],
   "source": [
    "optimizer = keras.optimizers.Nadam(lr=0.001, beta_1=0.9, beta_2=0.999)"
   ]
  },
  {
   "cell_type": "markdown",
   "metadata": {},
   "source": [
    "## Learning Rate Scheduling"
   ]
  },
  {
   "cell_type": "markdown",
   "metadata": {},
   "source": [
    "### Power Scheduling"
   ]
  },
  {
   "cell_type": "markdown",
   "metadata": {},
   "source": [
    "```lr = lr0 / (1 + steps / s)**c```\n",
    "* Keras uses `c=1` and `s = 1 / decay`"
   ]
  },
  {
   "cell_type": "code",
   "execution_count": 82,
   "metadata": {},
   "outputs": [],
   "source": [
    "optimizer = keras.optimizers.SGD(lr=0.01, decay=1e-4)"
   ]
  },
  {
   "cell_type": "code",
   "execution_count": 83,
   "metadata": {},
   "outputs": [],
   "source": [
    "model = keras.models.Sequential([\n",
    "    keras.layers.Flatten(input_shape=[28, 28]),\n",
    "    keras.layers.Dense(300, activation=\"selu\", kernel_initializer=\"lecun_normal\"),\n",
    "    keras.layers.Dense(100, activation=\"selu\", kernel_initializer=\"lecun_normal\"),\n",
    "    keras.layers.Dense(10, activation=\"softmax\")\n",
    "])\n",
    "model.compile(loss=\"sparse_categorical_crossentropy\", optimizer=optimizer, metrics=[\"accuracy\"])"
   ]
  },
  {
   "cell_type": "code",
   "execution_count": 84,
   "metadata": {},
   "outputs": [
    {
     "name": "stdout",
     "output_type": "stream",
     "text": [
      "Train on 55000 samples, validate on 5000 samples\n",
      "Epoch 1/25\n",
      "55000/55000 [==============================] - 10s 174us/step - loss: 0.4920 - acc: 0.8284 - val_loss: 0.4153 - val_acc: 0.8570\n",
      "Epoch 2/25\n",
      "55000/55000 [==============================] - 8s 154us/step - loss: 0.3803 - acc: 0.8658 - val_loss: 0.3831 - val_acc: 0.8638\n",
      "Epoch 3/25\n",
      "55000/55000 [==============================] - 8s 153us/step - loss: 0.3478 - acc: 0.8754 - val_loss: 0.3729 - val_acc: 0.8732\n",
      "Epoch 4/25\n",
      "55000/55000 [==============================] - 8s 149us/step - loss: 0.3260 - acc: 0.8841 - val_loss: 0.3627 - val_acc: 0.8752\n",
      "Epoch 5/25\n",
      "55000/55000 [==============================] - 9s 157us/step - loss: 0.3104 - acc: 0.8891 - val_loss: 0.3511 - val_acc: 0.8770\n",
      "Epoch 6/25\n",
      "55000/55000 [==============================] - 9s 156us/step - loss: 0.2976 - acc: 0.8941 - val_loss: 0.3416 - val_acc: 0.8820\n",
      "Epoch 7/25\n",
      "55000/55000 [==============================] - 8s 153us/step - loss: 0.2871 - acc: 0.8975 - val_loss: 0.3422 - val_acc: 0.8780\n",
      "Epoch 8/25\n",
      "55000/55000 [==============================] - 8s 150us/step - loss: 0.2780 - acc: 0.9010 - val_loss: 0.3368 - val_acc: 0.8824\n",
      "Epoch 9/25\n",
      "55000/55000 [==============================] - 8s 153us/step - loss: 0.2699 - acc: 0.9039 - val_loss: 0.3336 - val_acc: 0.8868\n",
      "Epoch 10/25\n",
      "55000/55000 [==============================] - 8s 150us/step - loss: 0.2631 - acc: 0.9065 - val_loss: 0.3309 - val_acc: 0.8842\n",
      "Epoch 11/25\n",
      "55000/55000 [==============================] - 8s 147us/step - loss: 0.2572 - acc: 0.9087 - val_loss: 0.3328 - val_acc: 0.8822\n",
      "Epoch 12/25\n",
      "55000/55000 [==============================] - 8s 153us/step - loss: 0.2513 - acc: 0.9110 - val_loss: 0.3261 - val_acc: 0.8890\n",
      "Epoch 13/25\n",
      "55000/55000 [==============================] - 8s 153us/step - loss: 0.2462 - acc: 0.9131 - val_loss: 0.3246 - val_acc: 0.8880\n",
      "Epoch 14/25\n",
      "55000/55000 [==============================] - 8s 142us/step - loss: 0.2413 - acc: 0.9145 - val_loss: 0.3302 - val_acc: 0.8836\n",
      "Epoch 15/25\n",
      "55000/55000 [==============================] - 8s 152us/step - loss: 0.2367 - acc: 0.9158 - val_loss: 0.3219 - val_acc: 0.8878\n",
      "Epoch 16/25\n",
      "55000/55000 [==============================] - 8s 149us/step - loss: 0.2327 - acc: 0.9177 - val_loss: 0.3213 - val_acc: 0.8884\n",
      "Epoch 17/25\n",
      "55000/55000 [==============================] - 8s 149us/step - loss: 0.2290 - acc: 0.9187 - val_loss: 0.3211 - val_acc: 0.8880\n",
      "Epoch 18/25\n",
      "55000/55000 [==============================] - 8s 151us/step - loss: 0.2255 - acc: 0.9211 - val_loss: 0.3191 - val_acc: 0.8908\n",
      "Epoch 19/25\n",
      "55000/55000 [==============================] - 9s 156us/step - loss: 0.2223 - acc: 0.9226 - val_loss: 0.3193 - val_acc: 0.8906\n",
      "Epoch 20/25\n",
      "55000/55000 [==============================] - 9s 161us/step - loss: 0.2189 - acc: 0.9233 - val_loss: 0.3203 - val_acc: 0.8902\n",
      "Epoch 21/25\n",
      "55000/55000 [==============================] - 8s 149us/step - loss: 0.2159 - acc: 0.9247 - val_loss: 0.3199 - val_acc: 0.8908\n",
      "Epoch 22/25\n",
      "55000/55000 [==============================] - 8s 150us/step - loss: 0.2130 - acc: 0.9260 - val_loss: 0.3209 - val_acc: 0.8864\n",
      "Epoch 23/25\n",
      "55000/55000 [==============================] - 8s 154us/step - loss: 0.2105 - acc: 0.9262 - val_loss: 0.3159 - val_acc: 0.8914\n",
      "Epoch 24/25\n",
      "55000/55000 [==============================] - 8s 150us/step - loss: 0.2078 - acc: 0.9272 - val_loss: 0.3172 - val_acc: 0.8918\n",
      "Epoch 25/25\n",
      "55000/55000 [==============================] - 8s 148us/step - loss: 0.2051 - acc: 0.9291 - val_loss: 0.3190 - val_acc: 0.8882\n"
     ]
    }
   ],
   "source": [
    "n_epochs = 25\n",
    "history = model.fit(X_train_scaled, y_train, epochs=n_epochs,\n",
    "                    validation_data=(X_valid_scaled, y_valid))"
   ]
  },
  {
   "cell_type": "code",
   "execution_count": 85,
   "metadata": {},
   "outputs": [
    {
     "data": {
      "image/png": "[encoded data removed]",
      "text/plain": [
       "<Figure size 432x288 with 1 Axes>"
      ]
     },
     "metadata": {
      "needs_background": "light"
     },
     "output_type": "display_data"
    }
   ],
   "source": [
    "learning_rate = 0.01\n",
    "decay = 1e-4\n",
    "batch_size = 32\n",
    "n_steps_per_epoch = len(X_train) // batch_size\n",
    "epochs = np.arange(n_epochs)\n",
    "lrs = learning_rate / (1 + decay * epochs * n_steps_per_epoch)\n",
    "\n",
    "plt.plot(epochs, lrs,  \"o-\")\n",
    "plt.axis([0, n_epochs - 1, 0, 0.01])\n",
    "plt.xlabel(\"Epoch\")\n",
    "plt.ylabel(\"Learning Rate\")\n",
    "plt.title(\"Power Scheduling\", fontsize=14)\n",
    "plt.grid(True)\n",
    "plt.show()"
   ]
  },
  {
   "cell_type": "markdown",
   "metadata": {},
   "source": [
    "### Exponential Scheduling"
   ]
  },
  {
   "cell_type": "markdown",
   "metadata": {},
   "source": [
    "```lr = lr0 * 0.1**(epoch / s)```"
   ]
  },
  {
   "cell_type": "code",
   "execution_count": 86,
   "metadata": {},
   "outputs": [],
   "source": [
    "def exponential_decay_fn(epoch):\n",
    "    return 0.01 * 0.1**(epoch / 20)"
   ]
  },
  {
   "cell_type": "code",
   "execution_count": 87,
   "metadata": {},
   "outputs": [],
   "source": [
    "def exponential_decay(lr0, s):\n",
    "    def exponential_decay_fn(epoch):\n",
    "        return lr0 * 0.1**(epoch / s)\n",
    "    return exponential_decay_fn\n",
    "\n",
    "exponential_decay_fn = exponential_decay(lr0=0.01, s=20)"
   ]
  },
  {
   "cell_type": "code",
   "execution_count": 88,
   "metadata": {},
   "outputs": [],
   "source": [
    "model = keras.models.Sequential([\n",
    "    keras.layers.Flatten(input_shape=[28, 28]),\n",
    "    keras.layers.Dense(300, activation=\"selu\", kernel_initializer=\"lecun_normal\"),\n",
    "    keras.layers.Dense(100, activation=\"selu\", kernel_initializer=\"lecun_normal\"),\n",
    "    keras.layers.Dense(10, activation=\"softmax\")\n",
    "])\n",
    "model.compile(loss=\"sparse_categorical_crossentropy\", optimizer=\"nadam\", metrics=[\"accuracy\"])\n",
    "n_epochs = 25"
   ]
  },
  {
   "cell_type": "code",
   "execution_count": 89,
   "metadata": {},
   "outputs": [
    {
     "name": "stdout",
     "output_type": "stream",
     "text": [
      "Train on 55000 samples, validate on 5000 samples\n",
      "Epoch 1/25\n",
      "55000/55000 [==============================] - 12s 224us/step - loss: 1.3026 - acc: 0.7321 - val_loss: 0.9695 - val_acc: 0.7634\n",
      "Epoch 2/25\n",
      "55000/55000 [==============================] - 10s 180us/step - loss: 0.9334 - acc: 0.7353 - val_loss: 0.8304 - val_acc: 0.7424\n",
      "Epoch 3/25\n",
      "55000/55000 [==============================] - 10s 174us/step - loss: 0.8365 - acc: 0.7519 - val_loss: 0.9110 - val_acc: 0.7912\n",
      "Epoch 4/25\n",
      "55000/55000 [==============================] - 10s 183us/step - loss: 0.7300 - acc: 0.7864 - val_loss: 0.6810 - val_acc: 0.8204\n",
      "Epoch 5/25\n",
      "55000/55000 [==============================] - 10s 183us/step - loss: 0.6794 - acc: 0.8045 - val_loss: 0.6648 - val_acc: 0.8008\n",
      "Epoch 6/25\n",
      "55000/55000 [==============================] - 10s 180us/step - loss: 0.6112 - acc: 0.8238 - val_loss: 0.6659 - val_acc: 0.8272\n",
      "Epoch 7/25\n",
      "55000/55000 [==============================] - 10s 187us/step - loss: 0.5819 - acc: 0.8362 - val_loss: 0.5930 - val_acc: 0.8404\n",
      "Epoch 8/25\n",
      "55000/55000 [==============================] - 10s 187us/step - loss: 0.5364 - acc: 0.8459 - val_loss: 0.5979 - val_acc: 0.8346\n",
      "Epoch 9/25\n",
      "55000/55000 [==============================] - 10s 184us/step - loss: 0.5064 - acc: 0.8519 - val_loss: 0.6995 - val_acc: 0.8102\n",
      "Epoch 10/25\n",
      "55000/55000 [==============================] - 10s 179us/step - loss: 0.4778 - acc: 0.8617 - val_loss: 0.5299 - val_acc: 0.8622\n",
      "Epoch 11/25\n",
      "55000/55000 [==============================] - 9s 171us/step - loss: 0.4467 - acc: 0.8714 - val_loss: 0.5227 - val_acc: 0.8502\n",
      "Epoch 12/25\n",
      "55000/55000 [==============================] - 9s 171us/step - loss: 0.4209 - acc: 0.8781 - val_loss: 0.5727 - val_acc: 0.8518\n",
      "Epoch 13/25\n",
      "55000/55000 [==============================] - 10s 176us/step - loss: 0.4092 - acc: 0.8812 - val_loss: 0.5369 - val_acc: 0.8612\n",
      "Epoch 14/25\n",
      "55000/55000 [==============================] - 10s 173us/step - loss: 0.3752 - acc: 0.8891 - val_loss: 0.5659 - val_acc: 0.8364\n",
      "Epoch 15/25\n",
      "55000/55000 [==============================] - 10s 190us/step - loss: 0.3575 - acc: 0.8918 - val_loss: 0.5144 - val_acc: 0.8652\n",
      "Epoch 16/25\n",
      "55000/55000 [==============================] - 10s 185us/step - loss: 0.3429 - acc: 0.8993 - val_loss: 0.4961 - val_acc: 0.8718\n",
      "Epoch 17/25\n",
      "55000/55000 [==============================] - 10s 179us/step - loss: 0.3206 - acc: 0.9058 - val_loss: 0.5110 - val_acc: 0.8664\n",
      "Epoch 18/25\n",
      "55000/55000 [==============================] - 10s 183us/step - loss: 0.3070 - acc: 0.9115 - val_loss: 0.5276 - val_acc: 0.8666\n",
      "Epoch 19/25\n",
      "55000/55000 [==============================] - 10s 182us/step - loss: 0.2878 - acc: 0.9149 - val_loss: 0.5394 - val_acc: 0.8722\n",
      "Epoch 20/25\n",
      "55000/55000 [==============================] - 10s 173us/step - loss: 0.2755 - acc: 0.9202 - val_loss: 0.5238 - val_acc: 0.8718\n",
      "Epoch 21/25\n",
      "55000/55000 [==============================] - 9s 172us/step - loss: 0.2649 - acc: 0.9232 - val_loss: 0.5287 - val_acc: 0.8714\n",
      "Epoch 22/25\n",
      "55000/55000 [==============================] - 9s 171us/step - loss: 0.2521 - acc: 0.9280 - val_loss: 0.5149 - val_acc: 0.8752\n",
      "Epoch 23/25\n",
      "55000/55000 [==============================] - 10s 178us/step - loss: 0.2418 - acc: 0.9314 - val_loss: 0.5305 - val_acc: 0.8786\n",
      "Epoch 24/25\n",
      "55000/55000 [==============================] - 10s 177us/step - loss: 0.2324 - acc: 0.9356 - val_loss: 0.5255 - val_acc: 0.8796\n",
      "Epoch 25/25\n",
      "55000/55000 [==============================] - 10s 187us/step - loss: 0.2231 - acc: 0.9382 - val_loss: 0.5432 - val_acc: 0.8806\n"
     ]
    }
   ],
   "source": [
    "lr_scheduler = keras.callbacks.LearningRateScheduler(exponential_decay_fn)\n",
    "history = model.fit(X_train_scaled, y_train, epochs=n_epochs,\n",
    "                    validation_data=(X_valid_scaled, y_valid),\n",
    "                    callbacks=[lr_scheduler])"
   ]
  },
  {
   "cell_type": "code",
   "execution_count": 90,
   "metadata": {},
   "outputs": [
    {
     "data": {
      "image/png": "[encoded data removed]",
      "text/plain": [
       "<Figure size 432x288 with 1 Axes>"
      ]
     },
     "metadata": {
      "needs_background": "light"
     },
     "output_type": "display_data"
    }
   ],
   "source": [
    "plt.plot(history.epoch, history.history[\"lr\"], \"o-\")\n",
    "plt.axis([0, n_epochs - 1, 0, 0.011])\n",
    "plt.xlabel(\"Epoch\")\n",
    "plt.ylabel(\"Learning Rate\")\n",
    "plt.title(\"Exponential Scheduling\", fontsize=14)\n",
    "plt.grid(True)\n",
    "plt.show()"
   ]
  },
  {
   "cell_type": "markdown",
   "metadata": {},
   "source": [
    "The schedule function can take the current learning rate as a second argument:"
   ]
  },
  {
   "cell_type": "code",
   "execution_count": 91,
   "metadata": {},
   "outputs": [],
   "source": [
    "def exponential_decay_fn(epoch, lr):\n",
    "    return lr * 0.1**(1 / 20)"
   ]
  },
  {
   "cell_type": "markdown",
   "metadata": {},
   "source": [
    "If you want to update the learning rate at each iteration rather than at each epoch, you must write your own callback class:"
   ]
  },
  {
   "cell_type": "code",
   "execution_count": 92,
   "metadata": {},
   "outputs": [
    {
     "name": "stdout",
     "output_type": "stream",
     "text": [
      "Train on 55000 samples, validate on 5000 samples\n",
      "Epoch 1/25\n",
      "  736/55000 [..............................] - ETA: 4:19 - loss: 5.6375 - acc: 0.5163"
     ]
    },
    {
     "name": "stderr",
     "output_type": "stream",
     "text": [
      "/home/gufranco/.local/lib/python3.7/site-packages/keras/callbacks.py:99: UserWarning: Method on_batch_begin() is slow compared to the batch update (1.533713). Check your callbacks.\n",
      "  % delta_t_median)\n"
     ]
    },
    {
     "name": "stdout",
     "output_type": "stream",
     "text": [
      "55000/55000 [==============================] - 16s 292us/step - loss: 3.2369 - acc: 0.5663 - val_loss: 1.0858 - val_acc: 0.5808\n",
      "Epoch 2/25\n",
      "55000/55000 [==============================] - 12s 223us/step - loss: 1.0461 - acc: 0.6242 - val_loss: 0.9750 - val_acc: 0.6356\n",
      "Epoch 3/25\n",
      "55000/55000 [==============================] - 12s 213us/step - loss: 0.9763 - acc: 0.6358 - val_loss: 1.1224 - val_acc: 0.5724\n",
      "Epoch 4/25\n",
      "55000/55000 [==============================] - 12s 213us/step - loss: 1.0458 - acc: 0.6419 - val_loss: 2.6852 - val_acc: 0.5284\n",
      "Epoch 5/25\n",
      "55000/55000 [==============================] - 13s 229us/step - loss: 0.9564 - acc: 0.6516 - val_loss: 0.8377 - val_acc: 0.6670\n",
      "Epoch 6/25\n",
      "55000/55000 [==============================] - 13s 233us/step - loss: 0.8271 - acc: 0.6695 - val_loss: 0.8127 - val_acc: 0.6778\n",
      "Epoch 7/25\n",
      "55000/55000 [==============================] - 12s 226us/step - loss: 0.7472 - acc: 0.6829 - val_loss: 0.8547 - val_acc: 0.6672\n",
      "Epoch 8/25\n",
      "55000/55000 [==============================] - 12s 226us/step - loss: 0.7687 - acc: 0.6818 - val_loss: 0.7316 - val_acc: 0.6802\n",
      "Epoch 9/25\n",
      "55000/55000 [==============================] - 13s 229us/step - loss: 0.7842 - acc: 0.6873 - val_loss: 0.7738 - val_acc: 0.6772\n",
      "Epoch 10/25\n",
      "55000/55000 [==============================] - 12s 226us/step - loss: 0.6890 - acc: 0.6953 - val_loss: 0.7422 - val_acc: 0.6758\n",
      "Epoch 11/25\n",
      "55000/55000 [==============================] - 12s 225us/step - loss: 0.6672 - acc: 0.7001 - val_loss: 0.7431 - val_acc: 0.6864\n",
      "Epoch 12/25\n",
      "55000/55000 [==============================] - 12s 225us/step - loss: 0.6590 - acc: 0.7027 - val_loss: 0.7727 - val_acc: 0.6768\n",
      "Epoch 13/25\n",
      "55000/55000 [==============================] - 13s 235us/step - loss: 0.6382 - acc: 0.7098 - val_loss: 0.7459 - val_acc: 0.6880\n",
      "Epoch 14/25\n",
      "55000/55000 [==============================] - 12s 211us/step - loss: 0.6189 - acc: 0.7133 - val_loss: 0.7191 - val_acc: 0.6940\n",
      "Epoch 15/25\n",
      "55000/55000 [==============================] - 12s 213us/step - loss: 0.6023 - acc: 0.7214 - val_loss: 0.7381 - val_acc: 0.6916\n",
      "Epoch 16/25\n",
      "55000/55000 [==============================] - 11s 208us/step - loss: 0.5924 - acc: 0.7248 - val_loss: 0.7327 - val_acc: 0.6978\n",
      "Epoch 17/25\n",
      "55000/55000 [==============================] - 12s 227us/step - loss: 0.5777 - acc: 0.7283 - val_loss: 0.7607 - val_acc: 0.6944\n",
      "Epoch 18/25\n",
      "55000/55000 [==============================] - 12s 213us/step - loss: 0.5548 - acc: 0.7341 - val_loss: 0.7193 - val_acc: 0.6970\n",
      "Epoch 19/25\n",
      "55000/55000 [==============================] - 12s 211us/step - loss: 0.5389 - acc: 0.7369 - val_loss: 0.7356 - val_acc: 0.7004\n",
      "Epoch 20/25\n",
      "55000/55000 [==============================] - 12s 215us/step - loss: 0.5306 - acc: 0.7405 - val_loss: 0.7266 - val_acc: 0.6992\n",
      "Epoch 21/25\n",
      "55000/55000 [==============================] - 12s 216us/step - loss: 0.5118 - acc: 0.7440 - val_loss: 0.7228 - val_acc: 0.7022\n",
      "Epoch 22/25\n",
      "55000/55000 [==============================] - 12s 219us/step - loss: 0.4980 - acc: 0.7489 - val_loss: 0.7410 - val_acc: 0.6992\n",
      "Epoch 23/25\n",
      "55000/55000 [==============================] - 12s 219us/step - loss: 0.4164 - acc: 0.8202 - val_loss: 0.5645 - val_acc: 0.8540\n",
      "Epoch 24/25\n",
      "55000/55000 [==============================] - 12s 218us/step - loss: 0.2885 - acc: 0.9086 - val_loss: 0.5479 - val_acc: 0.8704\n",
      "Epoch 25/25\n",
      "55000/55000 [==============================] - 12s 216us/step - loss: 0.2597 - acc: 0.9206 - val_loss: 0.5414 - val_acc: 0.8724\n"
     ]
    }
   ],
   "source": [
    "K = keras.backend\n",
    "\n",
    "class ExponentialDecay(keras.callbacks.Callback):\n",
    "    def __init__(self, s=40000):\n",
    "        super().__init__()\n",
    "        self.s = s\n",
    "\n",
    "    def on_batch_begin(self, batch, logs=None):\n",
    "        # Note: the `batch` argument is reset at each epoch\n",
    "        lr = K.get_value(self.model.optimizer.lr)\n",
    "        K.set_value(self.model.optimizer.lr, lr * 0.1**(1 / s))\n",
    "\n",
    "    def on_epoch_end(self, epoch, logs=None):\n",
    "        logs = logs or {}\n",
    "        logs['lr'] = K.get_value(self.model.optimizer.lr)\n",
    "\n",
    "model = keras.models.Sequential([\n",
    "    keras.layers.Flatten(input_shape=[28, 28]),\n",
    "    keras.layers.Dense(300, activation=\"selu\", kernel_initializer=\"lecun_normal\"),\n",
    "    keras.layers.Dense(100, activation=\"selu\", kernel_initializer=\"lecun_normal\"),\n",
    "    keras.layers.Dense(10, activation=\"softmax\")\n",
    "])\n",
    "lr0 = 0.01\n",
    "optimizer = keras.optimizers.Nadam(lr=lr0)\n",
    "model.compile(loss=\"sparse_categorical_crossentropy\", optimizer=optimizer, metrics=[\"accuracy\"])\n",
    "n_epochs = 25\n",
    "\n",
    "s = 20 * len(X_train) // 32 # number of steps in 20 epochs (batch size = 32)\n",
    "exp_decay = ExponentialDecay(s)\n",
    "history = model.fit(X_train_scaled, y_train, epochs=n_epochs,\n",
    "                    validation_data=(X_valid_scaled, y_valid),\n",
    "                    callbacks=[exp_decay])"
   ]
  },
  {
   "cell_type": "code",
   "execution_count": 93,
   "metadata": {},
   "outputs": [],
   "source": [
    "n_steps = n_epochs * len(X_train) // 32\n",
    "steps = np.arange(n_steps)\n",
    "lrs = lr0 * 0.1**(steps / s)"
   ]
  },
  {
   "cell_type": "code",
   "execution_count": 94,
   "metadata": {
    "scrolled": true
   },
   "outputs": [
    {
     "data": {
      "image/png": "[encoded data removed]",
      "text/plain": [
       "<Figure size 432x288 with 1 Axes>"
      ]
     },
     "metadata": {
      "needs_background": "light"
     },
     "output_type": "display_data"
    }
   ],
   "source": [
    "plt.plot(steps, lrs, \"-\", linewidth=2)\n",
    "plt.axis([0, n_steps - 1, 0, lr0 * 1.1])\n",
    "plt.xlabel(\"Batch\")\n",
    "plt.ylabel(\"Learning Rate\")\n",
    "plt.title(\"Exponential Scheduling (per batch)\", fontsize=14)\n",
    "plt.grid(True)\n",
    "plt.show()"
   ]
  },
  {
   "cell_type": "markdown",
   "metadata": {},
   "source": [
    "### Piecewise Constant Scheduling"
   ]
  },
  {
   "cell_type": "code",
   "execution_count": 95,
   "metadata": {},
   "outputs": [],
   "source": [
    "def piecewise_constant_fn(epoch):\n",
    "    if epoch < 5:\n",
    "        return 0.01\n",
    "    elif epoch < 15:\n",
    "        return 0.005\n",
    "    else:\n",
    "        return 0.001"
   ]
  },
  {
   "cell_type": "code",
   "execution_count": 96,
   "metadata": {},
   "outputs": [],
   "source": [
    "def piecewise_constant(boundaries, values):\n",
    "    boundaries = np.array([0] + boundaries)\n",
    "    values = np.array(values)\n",
    "    def piecewise_constant_fn(epoch):\n",
    "        return values[np.argmax(boundaries > epoch) - 1]\n",
    "    return piecewise_constant_fn\n",
    "\n",
    "piecewise_constant_fn = piecewise_constant([5, 15], [0.01, 0.005, 0.001])"
   ]
  },
  {
   "cell_type": "code",
   "execution_count": 97,
   "metadata": {},
   "outputs": [
    {
     "name": "stdout",
     "output_type": "stream",
     "text": [
      "Train on 55000 samples, validate on 5000 samples\n",
      "Epoch 1/25\n",
      "55000/55000 [==============================] - 12s 218us/step - loss: 3.6406 - acc: 0.5510 - val_loss: 3.0949 - val_acc: 0.5554\n",
      "Epoch 2/25\n",
      "55000/55000 [==============================] - 9s 172us/step - loss: 3.5015 - acc: 0.5000 - val_loss: 3.2606 - val_acc: 0.5004\n",
      "Epoch 3/25\n",
      "55000/55000 [==============================] - 9s 171us/step - loss: 3.4634 - acc: 0.4535 - val_loss: 3.1736 - val_acc: 0.5312\n",
      "Epoch 4/25\n",
      "55000/55000 [==============================] - 9s 167us/step - loss: 3.4222 - acc: 0.4702 - val_loss: 4.7057 - val_acc: 0.4344\n",
      "Epoch 5/25\n",
      "55000/55000 [==============================] - 9s 171us/step - loss: 4.0381 - acc: 0.4470 - val_loss: 3.5705 - val_acc: 0.5010\n",
      "Epoch 6/25\n",
      "55000/55000 [==============================] - 9s 171us/step - loss: 3.0192 - acc: 0.5196 - val_loss: 3.0362 - val_acc: 0.5248\n",
      "Epoch 7/25\n",
      "55000/55000 [==============================] - 9s 172us/step - loss: 2.9969 - acc: 0.5079 - val_loss: 3.0344 - val_acc: 0.4628\n",
      "Epoch 8/25\n",
      "55000/55000 [==============================] - 9s 170us/step - loss: 2.9449 - acc: 0.5149 - val_loss: 3.0084 - val_acc: 0.5210\n",
      "Epoch 9/25\n",
      "55000/55000 [==============================] - 10s 180us/step - loss: 3.0948 - acc: 0.5103 - val_loss: 3.5399 - val_acc: 0.4764\n",
      "Epoch 10/25\n",
      "55000/55000 [==============================] - 10s 174us/step - loss: 3.1247 - acc: 0.5014 - val_loss: 3.0092 - val_acc: 0.5350\n",
      "Epoch 11/25\n",
      "55000/55000 [==============================] - 11s 196us/step - loss: 2.9818 - acc: 0.5167 - val_loss: 2.9664 - val_acc: 0.5292\n",
      "Epoch 12/25\n",
      "55000/55000 [==============================] - 10s 179us/step - loss: 2.9035 - acc: 0.5109 - val_loss: 3.0101 - val_acc: 0.5148\n",
      "Epoch 13/25\n",
      "55000/55000 [==============================] - 9s 164us/step - loss: 2.9105 - acc: 0.5089 - val_loss: 3.0068 - val_acc: 0.5036\n",
      "Epoch 14/25\n",
      "55000/55000 [==============================] - 10s 173us/step - loss: 3.2436 - acc: 0.4920 - val_loss: 3.4621 - val_acc: 0.4226\n",
      "Epoch 15/25\n",
      "55000/55000 [==============================] - 11s 193us/step - loss: 3.0926 - acc: 0.4699 - val_loss: 3.0237 - val_acc: 0.4990\n",
      "Epoch 16/25\n",
      "55000/55000 [==============================] - 10s 183us/step - loss: 2.9322 - acc: 0.4956 - val_loss: 2.9350 - val_acc: 0.5102\n",
      "Epoch 17/25\n",
      "55000/55000 [==============================] - 9s 170us/step - loss: 2.8780 - acc: 0.5140 - val_loss: 2.9314 - val_acc: 0.5214\n",
      "Epoch 18/25\n",
      "55000/55000 [==============================] - 9s 163us/step - loss: 2.8682 - acc: 0.5105 - val_loss: 2.9053 - val_acc: 0.5202\n",
      "Epoch 19/25\n",
      "55000/55000 [==============================] - 9s 161us/step - loss: 2.8432 - acc: 0.5161 - val_loss: 2.8754 - val_acc: 0.5236\n",
      "Epoch 20/25\n",
      "55000/55000 [==============================] - 9s 165us/step - loss: 2.7969 - acc: 0.5216 - val_loss: 2.8240 - val_acc: 0.5238\n",
      "Epoch 21/25\n",
      "55000/55000 [==============================] - 9s 163us/step - loss: 2.7813 - acc: 0.5221 - val_loss: 2.8202 - val_acc: 0.5322\n",
      "Epoch 22/25\n",
      "55000/55000 [==============================] - 10s 174us/step - loss: 2.7713 - acc: 0.5280 - val_loss: 2.7849 - val_acc: 0.5298\n",
      "Epoch 23/25\n",
      "55000/55000 [==============================] - 10s 174us/step - loss: 2.7618 - acc: 0.5281 - val_loss: 2.7831 - val_acc: 0.5388\n",
      "Epoch 24/25\n",
      "55000/55000 [==============================] - 9s 173us/step - loss: 2.7327 - acc: 0.5283 - val_loss: 2.7567 - val_acc: 0.5398\n",
      "Epoch 25/25\n",
      "55000/55000 [==============================] - 9s 172us/step - loss: 2.7212 - acc: 0.5278 - val_loss: 2.7512 - val_acc: 0.5410\n"
     ]
    }
   ],
   "source": [
    "lr_scheduler = keras.callbacks.LearningRateScheduler(piecewise_constant_fn)\n",
    "\n",
    "model = keras.models.Sequential([\n",
    "    keras.layers.Flatten(input_shape=[28, 28]),\n",
    "    keras.layers.Dense(300, activation=\"selu\", kernel_initializer=\"lecun_normal\"),\n",
    "    keras.layers.Dense(100, activation=\"selu\", kernel_initializer=\"lecun_normal\"),\n",
    "    keras.layers.Dense(10, activation=\"softmax\")\n",
    "])\n",
    "model.compile(loss=\"sparse_categorical_crossentropy\", optimizer=\"nadam\", metrics=[\"accuracy\"])\n",
    "n_epochs = 25\n",
    "history = model.fit(X_train_scaled, y_train, epochs=n_epochs,\n",
    "                    validation_data=(X_valid_scaled, y_valid),\n",
    "                    callbacks=[lr_scheduler])"
   ]
  },
  {
   "cell_type": "code",
   "execution_count": 98,
   "metadata": {},
   "outputs": [
    {
     "data": {
      "image/png": "[encoded data removed]",
      "text/plain": [
       "<Figure size 432x288 with 1 Axes>"
      ]
     },
     "metadata": {
      "needs_background": "light"
     },
     "output_type": "display_data"
    }
   ],
   "source": [
    "plt.plot(history.epoch, [piecewise_constant_fn(epoch) for epoch in history.epoch], \"o-\")\n",
    "plt.axis([0, n_epochs - 1, 0, 0.011])\n",
    "plt.xlabel(\"Epoch\")\n",
    "plt.ylabel(\"Learning Rate\")\n",
    "plt.title(\"Piecewise Constant Scheduling\", fontsize=14)\n",
    "plt.grid(True)\n",
    "plt.show()"
   ]
  },
  {
   "cell_type": "markdown",
   "metadata": {},
   "source": [
    "### Performance Scheduling"
   ]
  },
  {
   "cell_type": "code",
   "execution_count": 99,
   "metadata": {},
   "outputs": [],
   "source": [
    "tf.set_random_seed(42)\n",
    "np.random.seed(42)"
   ]
  },
  {
   "cell_type": "code",
   "execution_count": 100,
   "metadata": {},
   "outputs": [
    {
     "name": "stdout",
     "output_type": "stream",
     "text": [
      "Train on 55000 samples, validate on 5000 samples\n",
      "Epoch 1/25\n",
      "55000/55000 [==============================] - 10s 177us/step - loss: 0.6096 - acc: 0.8033 - val_loss: 0.6279 - val_acc: 0.7866\n",
      "Epoch 2/25\n",
      "55000/55000 [==============================] - 8s 147us/step - loss: 0.5175 - acc: 0.8365 - val_loss: 0.5697 - val_acc: 0.8396\n",
      "Epoch 3/25\n",
      "55000/55000 [==============================] - 7s 136us/step - loss: 0.5350 - acc: 0.8400 - val_loss: 0.5750 - val_acc: 0.8302\n",
      "Epoch 4/25\n",
      "55000/55000 [==============================] - 6s 117us/step - loss: 0.5163 - acc: 0.8472 - val_loss: 0.5192 - val_acc: 0.8524\n",
      "Epoch 5/25\n",
      "55000/55000 [==============================] - 7s 129us/step - loss: 0.5257 - acc: 0.8503 - val_loss: 0.5943 - val_acc: 0.8404\n",
      "Epoch 6/25\n",
      "55000/55000 [==============================] - 7s 119us/step - loss: 0.5486 - acc: 0.8492 - val_loss: 0.6818 - val_acc: 0.8406\n",
      "Epoch 7/25\n",
      "55000/55000 [==============================] - 6s 116us/step - loss: 0.5505 - acc: 0.8499 - val_loss: 0.8200 - val_acc: 0.8126\n",
      "Epoch 8/25\n",
      "55000/55000 [==============================] - 7s 133us/step - loss: 0.6014 - acc: 0.8474 - val_loss: 0.9514 - val_acc: 0.7990\n",
      "Epoch 9/25\n",
      "55000/55000 [==============================] - 8s 140us/step - loss: 0.6191 - acc: 0.8474 - val_loss: 0.8195 - val_acc: 0.8268\n",
      "Epoch 10/25\n",
      "55000/55000 [==============================] - 8s 142us/step - loss: 0.3422 - acc: 0.8906 - val_loss: 0.4441 - val_acc: 0.8654\n",
      "Epoch 11/25\n",
      "55000/55000 [==============================] - 7s 125us/step - loss: 0.2851 - acc: 0.9021 - val_loss: 0.4176 - val_acc: 0.8824\n",
      "Epoch 12/25\n",
      "55000/55000 [==============================] - 7s 125us/step - loss: 0.2498 - acc: 0.9111 - val_loss: 0.4107 - val_acc: 0.8824\n",
      "Epoch 13/25\n",
      "55000/55000 [==============================] - 7s 120us/step - loss: 0.2320 - acc: 0.9169 - val_loss: 0.4613 - val_acc: 0.8760\n",
      "Epoch 14/25\n",
      "55000/55000 [==============================] - 7s 125us/step - loss: 0.2167 - acc: 0.9217 - val_loss: 0.4788 - val_acc: 0.8906\n",
      "Epoch 15/25\n",
      "55000/55000 [==============================] - 6s 115us/step - loss: 0.2044 - acc: 0.9256 - val_loss: 0.4483 - val_acc: 0.8816\n",
      "Epoch 16/25\n",
      "55000/55000 [==============================] - 7s 128us/step - loss: 0.1991 - acc: 0.9277 - val_loss: 0.4501 - val_acc: 0.8862\n",
      "Epoch 17/25\n",
      "55000/55000 [==============================] - 7s 124us/step - loss: 0.1863 - acc: 0.9316 - val_loss: 0.4655 - val_acc: 0.8910\n",
      "Epoch 18/25\n",
      "55000/55000 [==============================] - 7s 131us/step - loss: 0.1338 - acc: 0.9485 - val_loss: 0.4342 - val_acc: 0.8908\n",
      "Epoch 19/25\n",
      "55000/55000 [==============================] - 7s 132us/step - loss: 0.1203 - acc: 0.9532 - val_loss: 0.4602 - val_acc: 0.8960\n",
      "Epoch 20/25\n",
      "55000/55000 [==============================] - 6s 118us/step - loss: 0.1125 - acc: 0.9564 - val_loss: 0.4777 - val_acc: 0.8902\n",
      "Epoch 21/25\n",
      "55000/55000 [==============================] - 7s 130us/step - loss: 0.1060 - acc: 0.9584 - val_loss: 0.4718 - val_acc: 0.8912\n",
      "Epoch 22/25\n",
      "55000/55000 [==============================] - 7s 122us/step - loss: 0.1008 - acc: 0.9608 - val_loss: 0.4874 - val_acc: 0.8932\n",
      "Epoch 23/25\n",
      "55000/55000 [==============================] - 7s 125us/step - loss: 0.0820 - acc: 0.9683 - val_loss: 0.4998 - val_acc: 0.8960\n",
      "Epoch 24/25\n",
      "55000/55000 [==============================] - 7s 126us/step - loss: 0.0772 - acc: 0.9711 - val_loss: 0.5046 - val_acc: 0.8936\n",
      "Epoch 25/25\n",
      "55000/55000 [==============================] - 7s 127us/step - loss: 0.0739 - acc: 0.9716 - val_loss: 0.5190 - val_acc: 0.8942\n"
     ]
    }
   ],
   "source": [
    "lr_scheduler = keras.callbacks.ReduceLROnPlateau(factor=0.5, patience=5)\n",
    "\n",
    "model = keras.models.Sequential([\n",
    "    keras.layers.Flatten(input_shape=[28, 28]),\n",
    "    keras.layers.Dense(300, activation=\"selu\", kernel_initializer=\"lecun_normal\"),\n",
    "    keras.layers.Dense(100, activation=\"selu\", kernel_initializer=\"lecun_normal\"),\n",
    "    keras.layers.Dense(10, activation=\"softmax\")\n",
    "])\n",
    "optimizer = keras.optimizers.SGD(lr=0.02, momentum=0.9)\n",
    "model.compile(loss=\"sparse_categorical_crossentropy\", optimizer=optimizer, metrics=[\"accuracy\"])\n",
    "n_epochs = 25\n",
    "history = model.fit(X_train_scaled, y_train, epochs=n_epochs,\n",
    "                    validation_data=(X_valid_scaled, y_valid),\n",
    "                    callbacks=[lr_scheduler])"
   ]
  },
  {
   "cell_type": "code",
   "execution_count": 101,
   "metadata": {},
   "outputs": [
    {
     "data": {
      "image/png": "[encoded data removed]",
      "text/plain": [
       "<Figure size 432x288 with 2 Axes>"
      ]
     },
     "metadata": {
      "needs_background": "light"
     },
     "output_type": "display_data"
    }
   ],
   "source": [
    "plt.plot(history.epoch, history.history[\"lr\"], \"bo-\")\n",
    "plt.xlabel(\"Epoch\")\n",
    "plt.ylabel(\"Learning Rate\", color='b')\n",
    "plt.tick_params('y', colors='b')\n",
    "plt.gca().set_xlim(0, n_epochs - 1)\n",
    "plt.grid(True)\n",
    "\n",
    "ax2 = plt.gca().twinx()\n",
    "ax2.plot(history.epoch, history.history[\"val_loss\"], \"r^-\")\n",
    "ax2.set_ylabel('Validation Loss', color='r')\n",
    "ax2.tick_params('y', colors='r')\n",
    "\n",
    "plt.title(\"Reduce LR on Plateau\", fontsize=14)\n",
    "plt.show()"
   ]
  },
  {
   "cell_type": "markdown",
   "metadata": {},
   "source": [
    "### tf.keras schedulers"
   ]
  },
  {
   "cell_type": "code",
   "execution_count": 104,
   "metadata": {},
   "outputs": [
    {
     "name": "stdout",
     "output_type": "stream",
     "text": [
      "Train on 55000 samples, validate on 5000 samples\n",
      "Epoch 1/25\n",
      "55000/55000 [==============================] - 9s 170us/step - loss: nan - acc: 0.1008 - val_loss: nan - val_acc: 0.0914\n",
      "Epoch 2/25\n",
      "55000/55000 [==============================] - 7s 136us/step - loss: nan - acc: 0.1008 - val_loss: nan - val_acc: 0.0914\n",
      "Epoch 3/25\n",
      "55000/55000 [==============================] - 7s 135us/step - loss: nan - acc: 0.1008 - val_loss: nan - val_acc: 0.0914\n",
      "Epoch 4/25\n",
      "55000/55000 [==============================] - 7s 135us/step - loss: nan - acc: 0.1008 - val_loss: nan - val_acc: 0.0914\n",
      "Epoch 5/25\n",
      "55000/55000 [==============================] - 8s 138us/step - loss: nan - acc: 0.1008 - val_loss: nan - val_acc: 0.0914\n",
      "Epoch 6/25\n",
      "55000/55000 [==============================] - 8s 142us/step - loss: nan - acc: 0.1008 - val_loss: nan - val_acc: 0.0914\n",
      "Epoch 7/25\n",
      "55000/55000 [==============================] - 8s 138us/step - loss: nan - acc: 0.1008 - val_loss: nan - val_acc: 0.0914\n",
      "Epoch 8/25\n",
      "55000/55000 [==============================] - 8s 138us/step - loss: nan - acc: 0.1008 - val_loss: nan - val_acc: 0.0914\n",
      "Epoch 9/25\n",
      "55000/55000 [==============================] - 8s 137us/step - loss: nan - acc: 0.1008 - val_loss: nan - val_acc: 0.0914\n",
      "Epoch 10/25\n",
      "55000/55000 [==============================] - 8s 137us/step - loss: nan - acc: 0.1008 - val_loss: nan - val_acc: 0.0914\n",
      "Epoch 11/25\n",
      "55000/55000 [==============================] - 8s 137us/step - loss: nan - acc: 0.1008 - val_loss: nan - val_acc: 0.0914\n",
      "Epoch 12/25\n",
      "55000/55000 [==============================] - 8s 138us/step - loss: nan - acc: 0.1008 - val_loss: nan - val_acc: 0.0914\n",
      "Epoch 13/25\n",
      "55000/55000 [==============================] - 8s 138us/step - loss: nan - acc: 0.1008 - val_loss: nan - val_acc: 0.0914\n",
      "Epoch 14/25\n",
      "55000/55000 [==============================] - 8s 138us/step - loss: nan - acc: 0.1008 - val_loss: nan - val_acc: 0.0914\n",
      "Epoch 15/25\n",
      "55000/55000 [==============================] - 8s 138us/step - loss: nan - acc: 0.1008 - val_loss: nan - val_acc: 0.0914\n",
      "Epoch 16/25\n",
      "55000/55000 [==============================] - 8s 138us/step - loss: nan - acc: 0.1008 - val_loss: nan - val_acc: 0.0914\n",
      "Epoch 17/25\n",
      "55000/55000 [==============================] - 8s 140us/step - loss: nan - acc: 0.1008 - val_loss: nan - val_acc: 0.0914\n",
      "Epoch 18/25\n",
      "55000/55000 [==============================] - 8s 139us/step - loss: nan - acc: 0.1008 - val_loss: nan - val_acc: 0.0914\n",
      "Epoch 19/25\n",
      "55000/55000 [==============================] - 8s 139us/step - loss: nan - acc: 0.1008 - val_loss: nan - val_acc: 0.0914\n",
      "Epoch 20/25\n",
      "55000/55000 [==============================] - 8s 139us/step - loss: nan - acc: 0.1008 - val_loss: nan - val_acc: 0.0914\n",
      "Epoch 21/25\n",
      "55000/55000 [==============================] - 8s 142us/step - loss: nan - acc: 0.1008 - val_loss: nan - val_acc: 0.0914\n",
      "Epoch 22/25\n",
      "55000/55000 [==============================] - 8s 138us/step - loss: nan - acc: 0.1008 - val_loss: nan - val_acc: 0.0914\n",
      "Epoch 23/25\n",
      "55000/55000 [==============================] - 8s 139us/step - loss: nan - acc: 0.1008 - val_loss: nan - val_acc: 0.0914\n",
      "Epoch 24/25\n",
      "55000/55000 [==============================] - 8s 140us/step - loss: nan - acc: 0.1008 - val_loss: nan - val_acc: 0.0914\n",
      "Epoch 25/25\n",
      "55000/55000 [==============================] - 8s 153us/step - loss: nan - acc: 0.1008 - val_loss: nan - val_acc: 0.0914\n"
     ]
    }
   ],
   "source": [
    "model = keras.models.Sequential([\n",
    "    keras.layers.Flatten(input_shape=[28, 28]),\n",
    "    keras.layers.Dense(300, activation=\"selu\", kernel_initializer=\"lecun_normal\"),\n",
    "    keras.layers.Dense(100, activation=\"selu\", kernel_initializer=\"lecun_normal\"),\n",
    "    keras.layers.Dense(10, activation=\"softmax\")\n",
    "])\n",
    "s = 20 * len(X_train) // 32 # number of steps in 20 epochs (batch size = 32)\n",
    "#learning_rate = keras.optimizers.schedules.ExponentialDecay(0.01, s, 0.1)\n",
    "#optimizer = keras.optimizers.SGD(learning_rate)\n",
    "optimizer = keras.optimizers.SGD(lr=0.01, momentum=s, decay=0.1, nesterov=False)\n",
    "model.compile(loss=\"sparse_categorical_crossentropy\", optimizer=optimizer, metrics=[\"accuracy\"])\n",
    "n_epochs = 25\n",
    "history = model.fit(X_train_scaled, y_train, epochs=n_epochs,\n",
    "                    validation_data=(X_valid_scaled, y_valid))"
   ]
  },
  {
   "cell_type": "markdown",
   "metadata": {},
   "source": [
    "For piecewise constant scheduling, try this:"
   ]
  },
  {
   "cell_type": "code",
   "execution_count": 106,
   "metadata": {},
   "outputs": [],
   "source": [
    "#learning_rate = keras.optimizers.schedules.PiecewiseConstantDecay(\n",
    "#    boundaries=[5. * n_steps_per_epoch, 15. * n_steps_per_epoch],\n",
    "#    values=[0.01, 0.005, 0.001])"
   ]
  },
  {
   "cell_type": "markdown",
   "metadata": {},
   "source": [
    "### 1Cycle scheduling"
   ]
  },
  {
   "cell_type": "code",
   "execution_count": 115,
   "metadata": {},
   "outputs": [],
   "source": [
    "K = keras.backend\n",
    "\n",
    "class ExponentialLearningRate(keras.callbacks.Callback):\n",
    "    def __init__(self, factor):\n",
    "        self.factor = factor\n",
    "        self.rates = []\n",
    "        self.losses = []\n",
    "    def on_batch_end(self, batch, logs):\n",
    "        self.rates.append(K.get_value(self.model.optimizer.lr))\n",
    "        self.losses.append(logs[\"loss\"])\n",
    "        K.set_value(self.model.optimizer.lr, self.model.optimizer.lr * self.factor)\n",
    "\n",
    "def find_learning_rate(model, X, y, epochs=1, batch_size=32, min_rate=10**-5, max_rate=10):\n",
    "    init_weights = model.get_weights()\n",
    "    iterations = len(X) // batch_size * epochs\n",
    "    factor = np.exp(np.log(max_rate / min_rate) / iterations)\n",
    "    init_lr = K.get_value(model.optimizer.lr)\n",
    "    K.set_value(model.optimizer.lr, min_rate)\n",
    "    exp_lr = ExponentialLearningRate(factor)\n",
    "    history = model.fit(X, y, epochs=epochs, batch_size=batch_size, callbacks=[exp_lr])\n",
    "    K.set_value(model.optimizer.lr, init_lr)\n",
    "    model.set_weights(init_weights)\n",
    "    return exp_lr.rates, exp_lr.losses\n",
    "\n",
    "def plot_lr_vs_loss(rates, losses):\n",
    "    plt.plot(rates, losses)\n",
    "    plt.gca().set_xscale('log')\n",
    "    plt.hlines(min(losses), min(rates), max(rates))\n",
    "    plt.axis([min(rates), max(rates), min(losses), (losses[0] + min(losses)) / 2])\n",
    "    plt.xlabel(\"Learning rate\")\n",
    "    plt.ylabel(\"Loss\")"
   ]
  },
  {
   "cell_type": "code",
   "execution_count": 116,
   "metadata": {},
   "outputs": [],
   "source": [
    "tf.set_random_seed(42)\n",
    "np.random.seed(42)\n",
    "\n",
    "model = keras.models.Sequential([\n",
    "    keras.layers.Flatten(input_shape=[28, 28]),\n",
    "    keras.layers.Dense(300, activation=\"selu\", kernel_initializer=\"lecun_normal\"),\n",
    "    keras.layers.Dense(100, activation=\"selu\", kernel_initializer=\"lecun_normal\"),\n",
    "    keras.layers.Dense(10, activation=\"softmax\")\n",
    "])\n",
    "model.compile(loss=\"sparse_categorical_crossentropy\",\n",
    "              optimizer=keras.optimizers.SGD(lr=1e-3),\n",
    "              metrics=[\"accuracy\"])"
   ]
  },
  {
   "cell_type": "code",
   "execution_count": 117,
   "metadata": {},
   "outputs": [
    {
     "data": {
      "text/plain": [
       "(55000, 28, 28)"
      ]
     },
     "execution_count": 117,
     "metadata": {},
     "output_type": "execute_result"
    }
   ],
   "source": [
    "X_train_scaled.shape"
   ]
  },
  {
   "cell_type": "code",
   "execution_count": 118,
   "metadata": {},
   "outputs": [
    {
     "data": {
      "text/plain": [
       "(55000,)"
      ]
     },
     "execution_count": 118,
     "metadata": {},
     "output_type": "execute_result"
    }
   ],
   "source": [
    "y_train.shape"
   ]
  },
  {
   "cell_type": "code",
   "execution_count": 120,
   "metadata": {},
   "outputs": [],
   "source": [
    "batch_size = 100\n",
    "#rates, losses = find_learning_rate(model, X_train_scaled, y_train, epochs=1, batch_size=batch_size)\n",
    "#find_learning_rate(model, X_train_scaled, y_train, epochs=1, batch_size=batch_size)\n",
    "#plot_lr_vs_loss(rates, losses)"
   ]
  },
  {
   "cell_type": "code",
   "execution_count": 121,
   "metadata": {},
   "outputs": [],
   "source": [
    "class OneCycleScheduler(keras.callbacks.Callback):\n",
    "    def __init__(self, iterations, max_rate, start_rate=None,\n",
    "                 last_iterations=None, last_rate=None):\n",
    "        self.iterations = iterations\n",
    "        self.max_rate = max_rate\n",
    "        self.start_rate = start_rate or max_rate / 10\n",
    "        self.last_iterations = last_iterations or iterations // 10 + 1\n",
    "        self.half_iteration = (iterations - self.last_iterations) // 2\n",
    "        self.last_rate = last_rate or self.start_rate / 1000\n",
    "        self.iteration = 0\n",
    "    def _interpolate(self, iter1, iter2, rate1, rate2):\n",
    "        return ((rate2 - rate1) * (iter2 - self.iteration)\n",
    "                / (iter2 - iter1) + rate1)\n",
    "    def on_batch_begin(self, batch, logs):\n",
    "        if self.iteration < self.half_iteration:\n",
    "            rate = self._interpolate(0, self.half_iteration, self.start_rate, self.max_rate)\n",
    "        elif self.iteration < 2 * self.half_iteration:\n",
    "            rate = self._interpolate(self.half_iteration, 2 * self.half_iteration,\n",
    "                                     self.max_rate, self.start_rate)\n",
    "        else:\n",
    "            rate = self._interpolate(2 * self.half_iteration, self.iterations,\n",
    "                                     self.start_rate, self.last_rate)\n",
    "            rate = max(rate, self.last_rate)\n",
    "        self.iteration += 1\n",
    "        K.set_value(self.model.optimizer.lr, rate)"
   ]
  },
  {
   "cell_type": "code",
   "execution_count": 122,
   "metadata": {},
   "outputs": [
    {
     "name": "stdout",
     "output_type": "stream",
     "text": [
      "Train on 55000 samples, validate on 5000 samples\n",
      "Epoch 1/25\n",
      " 2200/55000 [>.............................] - ETA: 15s - loss: 1.0401 - acc: 0.6541"
     ]
    },
    {
     "name": "stderr",
     "output_type": "stream",
     "text": [
      "/home/gufranco/.local/lib/python3.7/site-packages/keras/callbacks.py:99: UserWarning: Method on_batch_begin() is slow compared to the batch update (0.237456). Check your callbacks.\n",
      "  % delta_t_median)\n"
     ]
    },
    {
     "name": "stdout",
     "output_type": "stream",
     "text": [
      "55000/55000 [==============================] - 5s 90us/step - loss: 0.4823 - acc: 0.8294 - val_loss: 0.4017 - val_acc: 0.8596\n",
      "Epoch 2/25\n",
      "55000/55000 [==============================] - 5s 94us/step - loss: 0.3660 - acc: 0.8690 - val_loss: 0.3681 - val_acc: 0.8730\n",
      "Epoch 3/25\n",
      "55000/55000 [==============================] - 4s 68us/step - loss: 0.3304 - acc: 0.8819 - val_loss: 0.3606 - val_acc: 0.8722\n",
      "Epoch 4/25\n",
      "55000/55000 [==============================] - 4s 82us/step - loss: 0.3050 - acc: 0.8910 - val_loss: 0.3373 - val_acc: 0.8810\n",
      "Epoch 5/25\n",
      "55000/55000 [==============================] - 4s 68us/step - loss: 0.2859 - acc: 0.8970 - val_loss: 0.3292 - val_acc: 0.8806\n",
      "Epoch 6/25\n",
      "55000/55000 [==============================] - 4s 81us/step - loss: 0.2707 - acc: 0.9033 - val_loss: 0.3218 - val_acc: 0.8866\n",
      "Epoch 7/25\n",
      "55000/55000 [==============================] - 4s 69us/step - loss: 0.2571 - acc: 0.9084 - val_loss: 0.3202 - val_acc: 0.8868\n",
      "Epoch 8/25\n",
      "55000/55000 [==============================] - 4s 69us/step - loss: 0.2450 - acc: 0.9125 - val_loss: 0.3233 - val_acc: 0.8838\n",
      "Epoch 9/25\n",
      "55000/55000 [==============================] - 4s 73us/step - loss: 0.2350 - acc: 0.9165 - val_loss: 0.3162 - val_acc: 0.8916\n",
      "Epoch 10/25\n",
      "55000/55000 [==============================] - 4s 73us/step - loss: 0.2272 - acc: 0.9199 - val_loss: 0.3137 - val_acc: 0.8886\n",
      "Epoch 11/25\n",
      "55000/55000 [==============================] - 4s 73us/step - loss: 0.2202 - acc: 0.9233 - val_loss: 0.3112 - val_acc: 0.8908\n",
      "Epoch 12/25\n",
      "55000/55000 [==============================] - 4s 72us/step - loss: 0.2157 - acc: 0.9248 - val_loss: 0.3138 - val_acc: 0.8904\n",
      "Epoch 13/25\n",
      "55000/55000 [==============================] - 4s 73us/step - loss: 0.2161 - acc: 0.9241 - val_loss: 0.3162 - val_acc: 0.8928\n",
      "Epoch 14/25\n",
      "55000/55000 [==============================] - 4s 76us/step - loss: 0.2163 - acc: 0.9249 - val_loss: 0.3158 - val_acc: 0.8890\n",
      "Epoch 15/25\n",
      "55000/55000 [==============================] - 4s 77us/step - loss: 0.2148 - acc: 0.9243 - val_loss: 0.3185 - val_acc: 0.8904\n",
      "Epoch 16/25\n",
      "55000/55000 [==============================] - 4s 70us/step - loss: 0.2139 - acc: 0.9234 - val_loss: 0.3211 - val_acc: 0.8916\n",
      "Epoch 17/25\n",
      "55000/55000 [==============================] - 4s 68us/step - loss: 0.2128 - acc: 0.9241 - val_loss: 0.3265 - val_acc: 0.8886\n",
      "Epoch 18/25\n",
      "55000/55000 [==============================] - 4s 68us/step - loss: 0.2112 - acc: 0.9236 - val_loss: 0.3459 - val_acc: 0.8834\n",
      "Epoch 19/25\n",
      "55000/55000 [==============================] - 4s 69us/step - loss: 0.2087 - acc: 0.9237 - val_loss: 0.3463 - val_acc: 0.8830\n",
      "Epoch 20/25\n",
      "55000/55000 [==============================] - 4s 68us/step - loss: 0.2055 - acc: 0.9250 - val_loss: 0.3357 - val_acc: 0.8860\n",
      "Epoch 21/25\n",
      "55000/55000 [==============================] - 4s 73us/step - loss: 0.2031 - acc: 0.9262 - val_loss: 0.3364 - val_acc: 0.8884\n",
      "Epoch 22/25\n",
      "55000/55000 [==============================] - 4s 69us/step - loss: 0.1989 - acc: 0.9266 - val_loss: 0.3384 - val_acc: 0.8860\n",
      "Epoch 23/25\n",
      "55000/55000 [==============================] - 4s 65us/step - loss: 0.1897 - acc: 0.9314 - val_loss: 0.3226 - val_acc: 0.8910\n",
      "Epoch 24/25\n",
      "55000/55000 [==============================] - 4s 66us/step - loss: 0.1533 - acc: 0.9476 - val_loss: 0.3206 - val_acc: 0.8922\n",
      "Epoch 25/25\n",
      "55000/55000 [==============================] - 4s 73us/step - loss: 0.1494 - acc: 0.9501 - val_loss: 0.3174 - val_acc: 0.8940\n"
     ]
    }
   ],
   "source": [
    "n_epochs = 25\n",
    "onecycle = OneCycleScheduler(len(X_train) // batch_size * n_epochs, max_rate=0.05)\n",
    "history = model.fit(X_train_scaled, y_train, epochs=n_epochs, batch_size=batch_size,\n",
    "                    validation_data=(X_valid_scaled, y_valid),\n",
    "                    callbacks=[onecycle])"
   ]
  },
  {
   "cell_type": "markdown",
   "metadata": {},
   "source": [
    "# Avoiding Overfitting Through Regularization"
   ]
  },
  {
   "cell_type": "markdown",
   "metadata": {},
   "source": [
    "## $\\ell_1$ and $\\ell_2$ regularization"
   ]
  },
  {
   "cell_type": "code",
   "execution_count": 123,
   "metadata": {},
   "outputs": [],
   "source": [
    "layer = keras.layers.Dense(100, activation=\"elu\",\n",
    "                           kernel_initializer=\"he_normal\",\n",
    "                           kernel_regularizer=keras.regularizers.l2(0.01))\n",
    "# or l1(0.1) for ℓ1 regularization with a factor or 0.1\n",
    "# or l1_l2(0.1, 0.01) for both ℓ1 and ℓ2 regularization, with factors 0.1 and 0.01 respectively"
   ]
  },
  {
   "cell_type": "code",
   "execution_count": 124,
   "metadata": {},
   "outputs": [
    {
     "name": "stdout",
     "output_type": "stream",
     "text": [
      "Train on 55000 samples, validate on 5000 samples\n",
      "Epoch 1/2\n",
      "55000/55000 [==============================] - 12s 226us/step - loss: 1.2845 - acc: 0.7991 - val_loss: 0.7399 - val_acc: 0.8246\n",
      "Epoch 2/2\n",
      "55000/55000 [==============================] - 10s 186us/step - loss: 0.7462 - acc: 0.8188 - val_loss: 0.7165 - val_acc: 0.8352\n"
     ]
    }
   ],
   "source": [
    "model = keras.models.Sequential([\n",
    "    keras.layers.Flatten(input_shape=[28, 28]),\n",
    "    keras.layers.Dense(300, activation=\"elu\",\n",
    "                       kernel_initializer=\"he_normal\",\n",
    "                       kernel_regularizer=keras.regularizers.l2(0.01)),\n",
    "    keras.layers.Dense(100, activation=\"elu\",\n",
    "                       kernel_initializer=\"he_normal\",\n",
    "                       kernel_regularizer=keras.regularizers.l2(0.01)),\n",
    "    keras.layers.Dense(10, activation=\"softmax\",\n",
    "                       kernel_regularizer=keras.regularizers.l2(0.01))\n",
    "])\n",
    "model.compile(loss=\"sparse_categorical_crossentropy\", optimizer=\"nadam\", metrics=[\"accuracy\"])\n",
    "n_epochs = 2\n",
    "history = model.fit(X_train_scaled, y_train, epochs=n_epochs,\n",
    "                    validation_data=(X_valid_scaled, y_valid))"
   ]
  },
  {
   "cell_type": "code",
   "execution_count": 125,
   "metadata": {},
   "outputs": [
    {
     "name": "stdout",
     "output_type": "stream",
     "text": [
      "Train on 55000 samples, validate on 5000 samples\n",
      "Epoch 1/2\n",
      "55000/55000 [==============================] - 13s 234us/step - loss: 1.2915 - acc: 0.8008 - val_loss: 0.7598 - val_acc: 0.8028\n",
      "Epoch 2/2\n",
      "55000/55000 [==============================] - 10s 189us/step - loss: 0.7399 - acc: 0.8192 - val_loss: 0.7059 - val_acc: 0.8374\n"
     ]
    }
   ],
   "source": [
    "from functools import partial\n",
    "\n",
    "RegularizedDense = partial(keras.layers.Dense,\n",
    "                           activation=\"elu\",\n",
    "                           kernel_initializer=\"he_normal\",\n",
    "                           kernel_regularizer=keras.regularizers.l2(0.01))\n",
    "\n",
    "model = keras.models.Sequential([\n",
    "    keras.layers.Flatten(input_shape=[28, 28]),\n",
    "    RegularizedDense(300),\n",
    "    RegularizedDense(100),\n",
    "    RegularizedDense(10, activation=\"softmax\")\n",
    "])\n",
    "model.compile(loss=\"sparse_categorical_crossentropy\", optimizer=\"nadam\", metrics=[\"accuracy\"])\n",
    "n_epochs = 2\n",
    "history = model.fit(X_train_scaled, y_train, epochs=n_epochs,\n",
    "                    validation_data=(X_valid_scaled, y_valid))"
   ]
  },
  {
   "cell_type": "markdown",
   "metadata": {},
   "source": [
    "## Dropout"
   ]
  },
  {
   "cell_type": "code",
   "execution_count": 126,
   "metadata": {},
   "outputs": [
    {
     "name": "stderr",
     "output_type": "stream",
     "text": [
      "W0729 16:31:03.783902 139830258521920 deprecation.py:506] From /home/gufranco/.local/lib/python3.7/site-packages/keras/backend/tensorflow_backend.py:3445: calling dropout (from tensorflow.python.ops.nn_ops) with keep_prob is deprecated and will be removed in a future version.\n",
      "Instructions for updating:\n",
      "Please use `rate` instead of `keep_prob`. Rate should be set to `rate = 1 - keep_prob`.\n"
     ]
    },
    {
     "name": "stdout",
     "output_type": "stream",
     "text": [
      "Train on 55000 samples, validate on 5000 samples\n",
      "Epoch 1/2\n",
      "55000/55000 [==============================] - 13s 231us/step - loss: 0.5821 - acc: 0.8008 - val_loss: 0.3997 - val_acc: 0.8480\n",
      "Epoch 2/2\n",
      "55000/55000 [==============================] - 11s 193us/step - loss: 0.4549 - acc: 0.8353 - val_loss: 0.3749 - val_acc: 0.8646\n"
     ]
    }
   ],
   "source": [
    "model = keras.models.Sequential([\n",
    "    keras.layers.Flatten(input_shape=[28, 28]),\n",
    "    keras.layers.Dropout(rate=0.2),\n",
    "    keras.layers.Dense(300, activation=\"elu\", kernel_initializer=\"he_normal\"),\n",
    "    keras.layers.Dropout(rate=0.2),\n",
    "    keras.layers.Dense(100, activation=\"elu\", kernel_initializer=\"he_normal\"),\n",
    "    keras.layers.Dropout(rate=0.2),\n",
    "    keras.layers.Dense(10, activation=\"softmax\")\n",
    "])\n",
    "model.compile(loss=\"sparse_categorical_crossentropy\", optimizer=\"nadam\", metrics=[\"accuracy\"])\n",
    "n_epochs = 2\n",
    "history = model.fit(X_train_scaled, y_train, epochs=n_epochs,\n",
    "                    validation_data=(X_valid_scaled, y_valid))"
   ]
  },
  {
   "cell_type": "markdown",
   "metadata": {},
   "source": [
    "## Alpha Dropout"
   ]
  },
  {
   "cell_type": "code",
   "execution_count": 127,
   "metadata": {},
   "outputs": [],
   "source": [
    "tf.set_random_seed(42)\n",
    "np.random.seed(42)"
   ]
  },
  {
   "cell_type": "code",
   "execution_count": 128,
   "metadata": {},
   "outputs": [
    {
     "name": "stdout",
     "output_type": "stream",
     "text": [
      "Train on 55000 samples, validate on 5000 samples\n",
      "Epoch 1/20\n",
      "55000/55000 [==============================] - 11s 195us/step - loss: 0.6696 - acc: 0.7581 - val_loss: 0.5674 - val_acc: 0.8438\n",
      "Epoch 2/20\n",
      "55000/55000 [==============================] - 9s 156us/step - loss: 0.5602 - acc: 0.7935 - val_loss: 0.5294 - val_acc: 0.8484\n",
      "Epoch 3/20\n",
      "55000/55000 [==============================] - 9s 156us/step - loss: 0.5271 - acc: 0.8053 - val_loss: 0.4945 - val_acc: 0.8496\n",
      "Epoch 4/20\n",
      "55000/55000 [==============================] - 9s 158us/step - loss: 0.5058 - acc: 0.8135 - val_loss: 0.4585 - val_acc: 0.8552\n",
      "Epoch 5/20\n",
      "55000/55000 [==============================] - 9s 157us/step - loss: 0.4956 - acc: 0.8172 - val_loss: 0.4705 - val_acc: 0.8618\n",
      "Epoch 6/20\n",
      "55000/55000 [==============================] - 9s 157us/step - loss: 0.4811 - acc: 0.8224 - val_loss: 0.4389 - val_acc: 0.8638\n",
      "Epoch 7/20\n",
      "55000/55000 [==============================] - 9s 160us/step - loss: 0.4714 - acc: 0.8264 - val_loss: 0.4457 - val_acc: 0.8684\n",
      "Epoch 8/20\n",
      "55000/55000 [==============================] - 9s 164us/step - loss: 0.4649 - acc: 0.8296 - val_loss: 0.4124 - val_acc: 0.8690\n",
      "Epoch 9/20\n",
      "55000/55000 [==============================] - 9s 162us/step - loss: 0.4614 - acc: 0.8287 - val_loss: 0.4304 - val_acc: 0.8622\n",
      "Epoch 10/20\n",
      "55000/55000 [==============================] - 10s 189us/step - loss: 0.4562 - acc: 0.8315 - val_loss: 0.4162 - val_acc: 0.8734\n",
      "Epoch 11/20\n",
      "55000/55000 [==============================] - 9s 158us/step - loss: 0.4471 - acc: 0.8329 - val_loss: 0.4489 - val_acc: 0.8718\n",
      "Epoch 12/20\n",
      "55000/55000 [==============================] - 9s 162us/step - loss: 0.4430 - acc: 0.8367 - val_loss: 0.4437 - val_acc: 0.8684\n",
      "Epoch 13/20\n",
      "55000/55000 [==============================] - 9s 159us/step - loss: 0.4368 - acc: 0.8376 - val_loss: 0.5338 - val_acc: 0.8552\n",
      "Epoch 14/20\n",
      "55000/55000 [==============================] - 9s 156us/step - loss: 0.4377 - acc: 0.8381 - val_loss: 0.4426 - val_acc: 0.8662\n",
      "Epoch 15/20\n",
      "55000/55000 [==============================] - 9s 155us/step - loss: 0.4344 - acc: 0.8383 - val_loss: 0.4597 - val_acc: 0.8708\n",
      "Epoch 16/20\n",
      "55000/55000 [==============================] - 9s 155us/step - loss: 0.4309 - acc: 0.8395 - val_loss: 0.4705 - val_acc: 0.8604\n",
      "Epoch 17/20\n",
      "55000/55000 [==============================] - 9s 155us/step - loss: 0.4252 - acc: 0.8414 - val_loss: 0.4174 - val_acc: 0.8732\n",
      "Epoch 18/20\n",
      "55000/55000 [==============================] - 9s 156us/step - loss: 0.4276 - acc: 0.8417 - val_loss: 0.4433 - val_acc: 0.8742\n",
      "Epoch 19/20\n",
      "55000/55000 [==============================] - 9s 158us/step - loss: 0.4197 - acc: 0.8435 - val_loss: 0.4564 - val_acc: 0.8732\n",
      "Epoch 20/20\n",
      "55000/55000 [==============================] - 10s 174us/step - loss: 0.4200 - acc: 0.8445 - val_loss: 0.4158 - val_acc: 0.8760\n"
     ]
    }
   ],
   "source": [
    "model = keras.models.Sequential([\n",
    "    keras.layers.Flatten(input_shape=[28, 28]),\n",
    "    keras.layers.AlphaDropout(rate=0.2),\n",
    "    keras.layers.Dense(300, activation=\"selu\", kernel_initializer=\"lecun_normal\"),\n",
    "    keras.layers.AlphaDropout(rate=0.2),\n",
    "    keras.layers.Dense(100, activation=\"selu\", kernel_initializer=\"lecun_normal\"),\n",
    "    keras.layers.AlphaDropout(rate=0.2),\n",
    "    keras.layers.Dense(10, activation=\"softmax\")\n",
    "])\n",
    "optimizer = keras.optimizers.SGD(lr=0.01, momentum=0.9, nesterov=True)\n",
    "model.compile(loss=\"sparse_categorical_crossentropy\", optimizer=optimizer, metrics=[\"accuracy\"])\n",
    "n_epochs = 20\n",
    "history = model.fit(X_train_scaled, y_train, epochs=n_epochs,\n",
    "                    validation_data=(X_valid_scaled, y_valid))"
   ]
  },
  {
   "cell_type": "code",
   "execution_count": 129,
   "metadata": {},
   "outputs": [
    {
     "name": "stdout",
     "output_type": "stream",
     "text": [
      "10000/10000 [==============================] - 1s 82us/step\n"
     ]
    },
    {
     "data": {
      "text/plain": [
       "[0.4730217566281557, 0.8606]"
      ]
     },
     "execution_count": 129,
     "metadata": {},
     "output_type": "execute_result"
    }
   ],
   "source": [
    "model.evaluate(X_test_scaled, y_test)"
   ]
  },
  {
   "cell_type": "code",
   "execution_count": 130,
   "metadata": {},
   "outputs": [
    {
     "name": "stdout",
     "output_type": "stream",
     "text": [
      "55000/55000 [==============================] - 4s 71us/step\n"
     ]
    },
    {
     "data": {
      "text/plain": [
       "[0.35663236950419164, 0.8838000000086698]"
      ]
     },
     "execution_count": 130,
     "metadata": {},
     "output_type": "execute_result"
    }
   ],
   "source": [
    "model.evaluate(X_train_scaled, y_train)"
   ]
  },
  {
   "cell_type": "code",
   "execution_count": 131,
   "metadata": {},
   "outputs": [
    {
     "name": "stdout",
     "output_type": "stream",
     "text": [
      "Epoch 1/1\n",
      "55000/55000 [==============================] - 9s 163us/step - loss: 0.4155 - acc: 0.8444\n"
     ]
    }
   ],
   "source": [
    "history = model.fit(X_train_scaled, y_train)"
   ]
  },
  {
   "cell_type": "markdown",
   "metadata": {},
   "source": [
    "## MC Dropout"
   ]
  },
  {
   "cell_type": "code",
   "execution_count": 134,
   "metadata": {},
   "outputs": [],
   "source": [
    "tf.set_random_seed(42)\n",
    "np.random.seed(42)"
   ]
  },
  {
   "cell_type": "code",
   "execution_count": 136,
   "metadata": {},
   "outputs": [],
   "source": [
    "#y_probas = np.stack([model(X_test_scaled, training=True)\n",
    "#                     for sample in range(100)])\n",
    "#y_proba = y_probas.mean(axis=0)\n",
    "#y_std = y_probas.std(axis=0)"
   ]
  },
  {
   "cell_type": "code",
   "execution_count": null,
   "metadata": {},
   "outputs": [],
   "source": [
    "#np.round(model.predict(X_test_scaled[:1]), 2)"
   ]
  },
  {
   "cell_type": "code",
   "execution_count": null,
   "metadata": {},
   "outputs": [],
   "source": [
    "#np.round(y_probas[:, :1], 2)"
   ]
  },
  {
   "cell_type": "code",
   "execution_count": null,
   "metadata": {},
   "outputs": [],
   "source": [
    "#np.round(y_proba[:1], 2)"
   ]
  },
  {
   "cell_type": "code",
   "execution_count": null,
   "metadata": {},
   "outputs": [],
   "source": [
    "#y_std = y_probas.std(axis=0)\n",
    "#np.round(y_std[:1], 2)"
   ]
  },
  {
   "cell_type": "code",
   "execution_count": null,
   "metadata": {},
   "outputs": [],
   "source": [
    "#y_pred = np.argmax(y_proba, axis=1)"
   ]
  },
  {
   "cell_type": "code",
   "execution_count": null,
   "metadata": {},
   "outputs": [],
   "source": [
    "#accuracy = np.sum(y_pred == y_test) / len(y_test)\n",
    "#accuracy"
   ]
  },
  {
   "cell_type": "code",
   "execution_count": 137,
   "metadata": {},
   "outputs": [],
   "source": [
    "class MCDropout(keras.layers.Dropout):\n",
    "    def call(self, inputs):\n",
    "        return super().call(inputs, training=True)\n",
    "\n",
    "class MCAlphaDropout(keras.layers.AlphaDropout):\n",
    "    def call(self, inputs):\n",
    "        return super().call(inputs, training=True)"
   ]
  },
  {
   "cell_type": "code",
   "execution_count": 138,
   "metadata": {},
   "outputs": [],
   "source": [
    "tf.set_random_seed(42)\n",
    "np.random.seed(42)"
   ]
  },
  {
   "cell_type": "code",
   "execution_count": null,
   "metadata": {},
   "outputs": [],
   "source": [
    "#mc_model = keras.models.Sequential([\n",
    "#    MCAlphaDropout(layer.rate) if isinstance(layer, keras.layers.AlphaDropout) else layer\n",
    "#    for layer in model.layers\n",
    "#])"
   ]
  },
  {
   "cell_type": "code",
   "execution_count": null,
   "metadata": {},
   "outputs": [],
   "source": [
    "#mc_model.summary()"
   ]
  },
  {
   "cell_type": "code",
   "execution_count": null,
   "metadata": {},
   "outputs": [],
   "source": [
    "#optimizer = keras.optimizers.SGD(lr=0.01, momentum=0.9, nesterov=True)\n",
    "#mc_model.compile(loss=\"sparse_categorical_crossentropy\", optimizer=optimizer, metrics=[\"accuracy\"])"
   ]
  },
  {
   "cell_type": "code",
   "execution_count": null,
   "metadata": {},
   "outputs": [],
   "source": [
    "#mc_model.set_weights(model.get_weights())"
   ]
  },
  {
   "cell_type": "markdown",
   "metadata": {},
   "source": [
    "Now we can use the model with MC Dropout:"
   ]
  },
  {
   "cell_type": "code",
   "execution_count": 139,
   "metadata": {},
   "outputs": [],
   "source": [
    "#np.round(np.mean([mc_model.predict(X_test_scaled[:1]) for sample in range(100)], axis=0), 2)"
   ]
  },
  {
   "cell_type": "markdown",
   "metadata": {},
   "source": [
    "## Max norm"
   ]
  },
  {
   "cell_type": "code",
   "execution_count": 140,
   "metadata": {},
   "outputs": [],
   "source": [
    "layer = keras.layers.Dense(100, activation=\"selu\", kernel_initializer=\"lecun_normal\",\n",
    "                           kernel_constraint=keras.constraints.max_norm(1.))"
   ]
  },
  {
   "cell_type": "code",
   "execution_count": 141,
   "metadata": {},
   "outputs": [
    {
     "name": "stdout",
     "output_type": "stream",
     "text": [
      "Train on 55000 samples, validate on 5000 samples\n",
      "Epoch 1/2\n",
      "55000/55000 [==============================] - 13s 237us/step - loss: 0.5067 - acc: 0.8246 - val_loss: 0.4345 - val_acc: 0.8418\n",
      "Epoch 2/2\n",
      "55000/55000 [==============================] - 12s 210us/step - loss: 0.4008 - acc: 0.8539 - val_loss: 0.3919 - val_acc: 0.8602\n"
     ]
    }
   ],
   "source": [
    "MaxNormDense = partial(keras.layers.Dense,\n",
    "                       activation=\"selu\", kernel_initializer=\"lecun_normal\",\n",
    "                       kernel_constraint=keras.constraints.max_norm(1.))\n",
    "\n",
    "model = keras.models.Sequential([\n",
    "    keras.layers.Flatten(input_shape=[28, 28]),\n",
    "    MaxNormDense(300),\n",
    "    MaxNormDense(100),\n",
    "    keras.layers.Dense(10, activation=\"softmax\")\n",
    "])\n",
    "model.compile(loss=\"sparse_categorical_crossentropy\", optimizer=\"nadam\", metrics=[\"accuracy\"])\n",
    "n_epochs = 2\n",
    "history = model.fit(X_train_scaled, y_train, epochs=n_epochs,\n",
    "                    validation_data=(X_valid_scaled, y_valid))"
   ]
  },
  {
   "cell_type": "code",
   "execution_count": null,
   "metadata": {},
   "outputs": [],
   "source": []
  }
 ],
 "metadata": {
  "kernelspec": {
   "display_name": "Python 3",
   "language": "python",
   "name": "python3"
  },
  "language_info": {
   "codemirror_mode": {
    "name": "ipython",
    "version": 3
   },
   "file_extension": ".py",
   "mimetype": "text/x-python",
   "name": "python",
   "nbconvert_exporter": "python",
   "pygments_lexer": "ipython3",
   "version": "3.7.4"
  },
  "nav_menu": {
   "height": "360px",
   "width": "416px"
  },
  "toc": {
   "navigate_menu": true,
   "number_sections": true,
   "sideBar": true,
   "threshold": 6,
   "toc_cell": false,
   "toc_section_display": "block",
   "toc_window_display": false
  }
 },
 "nbformat": 4,
 "nbformat_minor": 1
}
