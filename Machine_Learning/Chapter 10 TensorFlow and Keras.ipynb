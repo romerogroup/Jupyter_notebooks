{
 "cells": [
  {
   "cell_type": "markdown",
   "metadata": {},
   "source": [
    "---\n",
    "\n",
    "# Practical Machine Learning with Python\n",
    "# Chapter 10: Neural Networks with Tensorflow / Keras\n",
    "## Guillermo Avendaño-Franco and Aldo Humberto Romero\n",
    "## West Virginia University\n",
    "\n",
    "### Machine Learning Workshop 2019\n",
    "\n",
    "---"
   ]
  },
  {
   "cell_type": "markdown",
   "metadata": {},
   "source": [
    "This notebook is based on a variety of sources, usually other notebooks, the material was adapted to the topics covered during lessons. In some cases, the original notebooks were created for Python 2.x or older versions of Scikit-learn or Tensorflow and they have to be adapted. \n",
    "\n",
    "## References\n",
    "\n",
    "### Books\n",
    "\n",
    " * **Hands-On Machine Learning with Scikit-Learn and TensorFlow: Concepts, Tools, and Techniques to Build Intelligent Systems**, 1st Edition *Aurélien Géron*  (2017)\n",
    "\n",
    " * **Python Machine Learning: Machine Learning and Deep Learning with Python, scikit-learn, and TensorFlow**, 2nd Edition, *Sebastian Raschka* and *Vahid Mirjalili* (2017)\n",
    "\n",
    " * **Deep Learning: A Practitioner's approach**, *Josh Patterson* and *Adam Gibson* \n",
    " \n",
    " * **Deep Learning**, *Ian Goodfelow*, *Yoshua Bengio* and *Aaron Courville* (2016)\n",
    "\n",
    "### Jupyter Notebooks\n",
    "\n",
    " * [Yale Digital Humanities Lab](https://github.com/YaleDHLab/lab-workshops)\n",
    " \n",
    " * Aurelein Geron Hands-on Machine Learning with Scikit-learn \n",
    "   [First Edition](https://github.com/ageron/handson-ml)\n",
    "   [Second Edition (In preparation)](https://github.com/ageron/handson-ml2)\n",
    "   \n",
    " * [A progressive collection notebooks of the Machine Learning course by the University of Turin](https://github.com/rugantio/MachineLearningCourse)\n",
    "   \n",
    " * [A curated set of jupyter notebooks about many topics](https://github.com/jupyter/jupyter/wiki/A-gallery-of-interesting-Jupyter-Notebooks)\n",
    "   \n",
    "### Videos\n",
    "\n",
    " * [Caltech's \"Learning from Data\" by Professor Yaser Abu-Mostafa](https://work.caltech.edu/telecourse.html)\n",
    "\n",
    "The support of the National Science Foundation and the US Department of Energy under projects: DMREF-NSF 1434897, NSF OAC-1740111 and DOE DE-SC0016176 is recognized.\n",
    "\n",
    "<div style=\"clear: both; display: table;\">\n",
    "<div style=\"border: none; float: left; width: 40%; padding: 10px\">\n",
    "<img src=\"fig/NSF.jpg\" alt=\"National Science Foundation\" style=\"width:50%\" align=\"left\">\n",
    "    </div>\n",
    "    <div style=\"border: none; float: right; width: 40%; padding: 10px\">\n",
    "<img src=\"fig/DOE.jpg\" alt=\"National Science Foundation\" style=\"width:50%\" align=\"right\">\n",
    "</div>"
   ]
  },
  {
   "cell_type": "markdown",
   "metadata": {},
   "source": [
    "## Setup\n",
    "\n",
    "This Jupyter notebook was created to run on a Python 3 kernel. Some Ipython magics were used: "
   ]
  },
  {
   "cell_type": "code",
   "execution_count": 1,
   "metadata": {},
   "outputs": [],
   "source": [
    "# commands prefaced by a % in Jupyter are called \"magic\"\n",
    "# these \"magic\" commands allow us to do special things only related to jupyter\n",
    "\n",
    "# %matplotlib inline - allows one to display charts from the matplotlib library in a notebook\n",
    "# %load_ext autoreload - automatically reloads imported modules if they change\n",
    "# %autoreload 2 - automatically reloads imported modules if they change\n",
    "import matplotlib\n",
    "%matplotlib inline\n",
    "%load_ext autoreload\n",
    "%autoreload 2"
   ]
  },
  {
   "cell_type": "code",
   "execution_count": 2,
   "metadata": {},
   "outputs": [
    {
     "name": "stdout",
     "output_type": "stream",
     "text": [
      "2019-07-29T15:06:32-04:00\n",
      "\n",
      "CPython 3.7.3\n",
      "IPython 5.8.0\n",
      "\n",
      "compiler   : GCC 8.3.0\n",
      "system     : Linux\n",
      "release    : 5.0.0-20-generic\n",
      "machine    : x86_64\n",
      "processor  : x86_64\n",
      "CPU cores  : 8\n",
      "interpreter: 64bit\n"
     ]
    }
   ],
   "source": [
    "%load_ext watermark\n",
    "%watermark"
   ]
  },
  {
   "cell_type": "code",
   "execution_count": 3,
   "metadata": {},
   "outputs": [],
   "source": [
    "import numpy as np\n",
    "import pandas as pd\n",
    "import matplotlib as mpl\n",
    "import matplotlib.pyplot as plt\n",
    "import sklearn\n",
    "import scipy\n",
    "import tensorflow as tf"
   ]
  },
  {
   "cell_type": "code",
   "execution_count": 4,
   "metadata": {
    "scrolled": false
   },
   "outputs": [
    {
     "name": "stdout",
     "output_type": "stream",
     "text": [
      "IPython    5.8.0\n",
      "sklearn    0.20.2\n",
      "pandas     0.23.3\n",
      "numpy      1.16.2\n",
      "scipy      1.2.1\n",
      "tensorflow 1.14.0\n",
      "matplotlib 3.0.2\n",
      "\n"
     ]
    }
   ],
   "source": [
    "%watermark -iv"
   ]
  },
  {
   "cell_type": "markdown",
   "metadata": {},
   "source": [
    "# Perceptrons"
   ]
  },
  {
   "cell_type": "markdown",
   "metadata": {},
   "source": [
    "**Note**: we set `max_iter` and `tol` explicitly to avoid warnings about the fact that their default value will change in future versions of Scikit-Learn."
   ]
  },
  {
   "cell_type": "code",
   "execution_count": 2,
   "metadata": {},
   "outputs": [],
   "source": [
    "from sklearn.datasets import load_iris\n",
    "from sklearn.linear_model import Perceptron\n",
    "\n",
    "iris = load_iris()\n",
    "X = iris.data[:, (2, 3)]  # petal length, petal width\n",
    "y = (iris.target == 0).astype(np.int)\n",
    "\n",
    "per_clf = Perceptron(max_iter=1000, tol=1e-3, random_state=42)\n",
    "per_clf.fit(X, y)\n",
    "\n",
    "y_pred = per_clf.predict([[2, 0.5]])"
   ]
  },
  {
   "cell_type": "code",
   "execution_count": 3,
   "metadata": {},
   "outputs": [
    {
     "data": {
      "text/plain": [
       "array([1])"
      ]
     },
     "execution_count": 3,
     "metadata": {},
     "output_type": "execute_result"
    }
   ],
   "source": [
    "y_pred"
   ]
  },
  {
   "cell_type": "code",
   "execution_count": 4,
   "metadata": {},
   "outputs": [
    {
     "data": {
      "text/plain": [
       "[0, 5, 0, 2]"
      ]
     },
     "execution_count": 4,
     "metadata": {},
     "output_type": "execute_result"
    },
    {
     "data": {
      "image/png": "[encoded data removed]",
      "text/plain": [
       "<Figure size 720x288 with 1 Axes>"
      ]
     },
     "metadata": {
      "needs_background": "light"
     },
     "output_type": "display_data"
    }
   ],
   "source": [
    "a = -per_clf.coef_[0][0] / per_clf.coef_[0][1]\n",
    "b = -per_clf.intercept_ / per_clf.coef_[0][1]\n",
    "\n",
    "axes = [0, 5, 0, 2]\n",
    "\n",
    "x0, x1 = np.meshgrid(\n",
    "        np.linspace(axes[0], axes[1], 500).reshape(-1, 1),\n",
    "        np.linspace(axes[2], axes[3], 200).reshape(-1, 1),\n",
    "    )\n",
    "X_new = np.c_[x0.ravel(), x1.ravel()]\n",
    "y_predict = per_clf.predict(X_new)\n",
    "zz = y_predict.reshape(x0.shape)\n",
    "\n",
    "plt.figure(figsize=(10, 4))\n",
    "plt.plot(X[y==0, 0], X[y==0, 1], \"bs\", label=\"Not Iris-Setosa\")\n",
    "plt.plot(X[y==1, 0], X[y==1, 1], \"yo\", label=\"Iris-Setosa\")\n",
    "\n",
    "plt.plot([axes[0], axes[1]], [a * axes[0] + b, a * axes[1] + b], \"k-\", linewidth=3)\n",
    "from matplotlib.colors import ListedColormap\n",
    "custom_cmap = ListedColormap(['#9898ff', '#fafab0'])\n",
    "\n",
    "plt.contourf(x0, x1, zz, cmap=custom_cmap)\n",
    "plt.xlabel(\"Petal length\", fontsize=14)\n",
    "plt.ylabel(\"Petal width\", fontsize=14)\n",
    "plt.legend(loc=\"lower right\", fontsize=14)\n",
    "plt.axis(axes)"
   ]
  },
  {
   "cell_type": "markdown",
   "metadata": {},
   "source": [
    "# Activation functions"
   ]
  },
  {
   "cell_type": "code",
   "execution_count": 5,
   "metadata": {},
   "outputs": [],
   "source": [
    "def sigmoid(z):\n",
    "    return 1 / (1 + np.exp(-z))\n",
    "\n",
    "def relu(z):\n",
    "    return np.maximum(0, z)\n",
    "\n",
    "def derivative(f, z, eps=0.000001):\n",
    "    return (f(z + eps) - f(z - eps))/(2 * eps)"
   ]
  },
  {
   "cell_type": "code",
   "execution_count": 6,
   "metadata": {},
   "outputs": [
    {
     "data": {
      "text/plain": [
       "[-5, 5, -0.2, 1.2]"
      ]
     },
     "execution_count": 6,
     "metadata": {},
     "output_type": "execute_result"
    },
    {
     "data": {
      "image/png": "[encoded data removed]",
      "text/plain": [
       "<Figure size 792x288 with 2 Axes>"
      ]
     },
     "metadata": {
      "needs_background": "light"
     },
     "output_type": "display_data"
    }
   ],
   "source": [
    "z = np.linspace(-5, 5, 200)\n",
    "\n",
    "plt.figure(figsize=(11,4))\n",
    "\n",
    "plt.subplot(121)\n",
    "plt.plot(z, np.sign(z), \"r-\", linewidth=1, label=\"Step\")\n",
    "plt.plot(z, sigmoid(z), \"g--\", linewidth=2, label=\"Sigmoid\")\n",
    "plt.plot(z, np.tanh(z), \"b-\", linewidth=2, label=\"Tanh\")\n",
    "plt.plot(z, relu(z), \"m-.\", linewidth=2, label=\"ReLU\")\n",
    "plt.grid(True)\n",
    "plt.legend(loc=\"center right\", fontsize=14)\n",
    "plt.title(\"Activation functions\", fontsize=14)\n",
    "plt.axis([-5, 5, -1.2, 1.2])\n",
    "\n",
    "plt.subplot(122)\n",
    "plt.plot(z, derivative(np.sign, z), \"r-\", linewidth=1, label=\"Step\")\n",
    "plt.plot(0, 0, \"ro\", markersize=5)\n",
    "plt.plot(0, 0, \"rx\", markersize=10)\n",
    "plt.plot(z, derivative(sigmoid, z), \"g--\", linewidth=2, label=\"Sigmoid\")\n",
    "plt.plot(z, derivative(np.tanh, z), \"b-\", linewidth=2, label=\"Tanh\")\n",
    "plt.plot(z, derivative(relu, z), \"m-.\", linewidth=2, label=\"ReLU\")\n",
    "plt.grid(True)\n",
    "#plt.legend(loc=\"center right\", fontsize=14)\n",
    "plt.title(\"Derivatives\", fontsize=14)\n",
    "plt.axis([-5, 5, -0.2, 1.2])"
   ]
  },
  {
   "cell_type": "code",
   "execution_count": 7,
   "metadata": {},
   "outputs": [],
   "source": [
    "def heaviside(z):\n",
    "    return (z >= 0).astype(z.dtype)\n",
    "\n",
    "def mlp_xor(x1, x2, activation=heaviside):\n",
    "    return activation(-activation(x1 + x2 - 1.5) + activation(x1 + x2 - 0.5) - 0.5)"
   ]
  },
  {
   "cell_type": "code",
   "execution_count": 8,
   "metadata": {
    "scrolled": true
   },
   "outputs": [
    {
     "data": {
      "image/png": "[encoded data removed]",
      "text/plain": [
       "<Figure size 720x288 with 2 Axes>"
      ]
     },
     "metadata": {
      "needs_background": "light"
     },
     "output_type": "display_data"
    }
   ],
   "source": [
    "x1s = np.linspace(-0.2, 1.2, 100)\n",
    "x2s = np.linspace(-0.2, 1.2, 100)\n",
    "x1, x2 = np.meshgrid(x1s, x2s)\n",
    "\n",
    "z1 = mlp_xor(x1, x2, activation=heaviside)\n",
    "z2 = mlp_xor(x1, x2, activation=sigmoid)\n",
    "\n",
    "plt.figure(figsize=(10,4))\n",
    "\n",
    "plt.subplot(121)\n",
    "plt.contourf(x1, x2, z1)\n",
    "plt.plot([0, 1], [0, 1], \"gs\", markersize=20)\n",
    "plt.plot([0, 1], [1, 0], \"y^\", markersize=20)\n",
    "plt.title(\"Activation function: heaviside\", fontsize=14)\n",
    "plt.grid(True)\n",
    "\n",
    "plt.subplot(122)\n",
    "plt.contourf(x1, x2, z2)\n",
    "plt.plot([0, 1], [0, 1], \"gs\", markersize=20)\n",
    "plt.plot([0, 1], [1, 0], \"y^\", markersize=20)\n",
    "plt.title(\"Activation function: sigmoid\", fontsize=14)\n",
    "plt.grid(True)"
   ]
  },
  {
   "cell_type": "markdown",
   "metadata": {},
   "source": [
    "# Building an Image Classifier"
   ]
  },
  {
   "cell_type": "markdown",
   "metadata": {},
   "source": [
    "First let's import TensorFlow and Keras."
   ]
  },
  {
   "cell_type": "code",
   "execution_count": 9,
   "metadata": {},
   "outputs": [],
   "source": [
    "from tensorflow import keras"
   ]
  },
  {
   "cell_type": "code",
   "execution_count": 10,
   "metadata": {},
   "outputs": [
    {
     "data": {
      "text/plain": [
       "'1.14.0'"
      ]
     },
     "execution_count": 10,
     "metadata": {},
     "output_type": "execute_result"
    }
   ],
   "source": [
    "tf.__version__"
   ]
  },
  {
   "cell_type": "code",
   "execution_count": 11,
   "metadata": {},
   "outputs": [
    {
     "data": {
      "text/plain": [
       "'2.2.4-tf'"
      ]
     },
     "execution_count": 11,
     "metadata": {},
     "output_type": "execute_result"
    }
   ],
   "source": [
    "keras.__version__"
   ]
  },
  {
   "cell_type": "markdown",
   "metadata": {},
   "source": [
    "Let's start by loading the fashion MNIST dataset. Keras has a number of functions to load popular datasets in `keras.datasets`. The dataset is already split for you between a training set and a test set, but it can be useful to split the training set further to have a validation set:"
   ]
  },
  {
   "cell_type": "code",
   "execution_count": 12,
   "metadata": {},
   "outputs": [],
   "source": [
    "fashion_mnist = keras.datasets.fashion_mnist\n",
    "(X_train_full, y_train_full), (X_test, y_test) = fashion_mnist.load_data()"
   ]
  },
  {
   "cell_type": "markdown",
   "metadata": {},
   "source": [
    "The training set contains 60,000 grayscale images, each 28x28 pixels:"
   ]
  },
  {
   "cell_type": "code",
   "execution_count": 13,
   "metadata": {},
   "outputs": [
    {
     "data": {
      "text/plain": [
       "(60000, 28, 28)"
      ]
     },
     "execution_count": 13,
     "metadata": {},
     "output_type": "execute_result"
    }
   ],
   "source": [
    "X_train_full.shape"
   ]
  },
  {
   "cell_type": "markdown",
   "metadata": {},
   "source": [
    "Each pixel intensity is represented as a byte (0 to 255):"
   ]
  },
  {
   "cell_type": "code",
   "execution_count": 14,
   "metadata": {},
   "outputs": [
    {
     "data": {
      "text/plain": [
       "dtype('uint8')"
      ]
     },
     "execution_count": 14,
     "metadata": {},
     "output_type": "execute_result"
    }
   ],
   "source": [
    "X_train_full.dtype"
   ]
  },
  {
   "cell_type": "markdown",
   "metadata": {},
   "source": [
    "Let's split the full training set into a validation set and a (smaller) training set. We also scale the pixel intensities down to the 0-1 range and convert them to floats, by dividing by 255."
   ]
  },
  {
   "cell_type": "code",
   "execution_count": 15,
   "metadata": {},
   "outputs": [],
   "source": [
    "X_valid, X_train = X_train_full[:5000] / 255., X_train_full[5000:] / 255.\n",
    "y_valid, y_train = y_train_full[:5000], y_train_full[5000:]\n",
    "X_test = X_test / 255."
   ]
  },
  {
   "cell_type": "markdown",
   "metadata": {},
   "source": [
    "You can plot an image using Matplotlib's `imshow()` function, with a `'binary'`\n",
    " color map:"
   ]
  },
  {
   "cell_type": "code",
   "execution_count": 16,
   "metadata": {},
   "outputs": [
    {
     "data": {
      "image/png": "[encoded data removed]",
      "text/plain": [
       "<Figure size 432x288 with 1 Axes>"
      ]
     },
     "metadata": {
      "needs_background": "light"
     },
     "output_type": "display_data"
    }
   ],
   "source": [
    "plt.imshow(X_train[0], cmap=\"binary\")\n",
    "plt.axis('off')\n",
    "plt.show()"
   ]
  },
  {
   "cell_type": "markdown",
   "metadata": {},
   "source": [
    "The labels are the class IDs (represented as uint8), from 0 to 9:"
   ]
  },
  {
   "cell_type": "code",
   "execution_count": 17,
   "metadata": {},
   "outputs": [
    {
     "data": {
      "text/plain": [
       "array([4, 0, 7, ..., 3, 0, 5], dtype=uint8)"
      ]
     },
     "execution_count": 17,
     "metadata": {},
     "output_type": "execute_result"
    }
   ],
   "source": [
    "y_train"
   ]
  },
  {
   "cell_type": "markdown",
   "metadata": {},
   "source": [
    "Here are the corresponding class names:"
   ]
  },
  {
   "cell_type": "code",
   "execution_count": 18,
   "metadata": {},
   "outputs": [],
   "source": [
    "class_names = [\"T-shirt/top\", \"Trouser\", \"Pullover\", \"Dress\", \"Coat\",\n",
    "               \"Sandal\", \"Shirt\", \"Sneaker\", \"Bag\", \"Ankle boot\"]"
   ]
  },
  {
   "cell_type": "markdown",
   "metadata": {},
   "source": [
    "So the first image in the training set is a coat:"
   ]
  },
  {
   "cell_type": "code",
   "execution_count": 19,
   "metadata": {},
   "outputs": [
    {
     "data": {
      "text/plain": [
       "'Coat'"
      ]
     },
     "execution_count": 19,
     "metadata": {},
     "output_type": "execute_result"
    }
   ],
   "source": [
    "class_names[y_train[0]]"
   ]
  },
  {
   "cell_type": "markdown",
   "metadata": {},
   "source": [
    "The validation set contains 5,000 images, and the test set contains 10,000 images:"
   ]
  },
  {
   "cell_type": "code",
   "execution_count": 20,
   "metadata": {},
   "outputs": [
    {
     "data": {
      "text/plain": [
       "(5000, 28, 28)"
      ]
     },
     "execution_count": 20,
     "metadata": {},
     "output_type": "execute_result"
    }
   ],
   "source": [
    "X_valid.shape"
   ]
  },
  {
   "cell_type": "code",
   "execution_count": 21,
   "metadata": {},
   "outputs": [
    {
     "data": {
      "text/plain": [
       "(10000, 28, 28)"
      ]
     },
     "execution_count": 21,
     "metadata": {},
     "output_type": "execute_result"
    }
   ],
   "source": [
    "X_test.shape"
   ]
  },
  {
   "cell_type": "markdown",
   "metadata": {},
   "source": [
    "Let's take a look at a sample of the images in the dataset:"
   ]
  },
  {
   "cell_type": "code",
   "execution_count": 22,
   "metadata": {},
   "outputs": [
    {
     "data": {
      "image/png": "[encoded data removed]",
      "text/plain": [
       "<Figure size 864x345.6 with 40 Axes>"
      ]
     },
     "metadata": {
      "needs_background": "light"
     },
     "output_type": "display_data"
    }
   ],
   "source": [
    "n_rows = 4\n",
    "n_cols = 10\n",
    "plt.figure(figsize=(n_cols * 1.2, n_rows * 1.2))\n",
    "for row in range(n_rows):\n",
    "    for col in range(n_cols):\n",
    "        index = n_cols * row + col\n",
    "        plt.subplot(n_rows, n_cols, index + 1)\n",
    "        plt.imshow(X_train[index], cmap=\"binary\", interpolation=\"nearest\")\n",
    "        plt.axis('off')\n",
    "        plt.title(class_names[y_train[index]], fontsize=12)\n",
    "plt.subplots_adjust(wspace=0.2, hspace=0.5)"
   ]
  },
  {
   "cell_type": "code",
   "execution_count": 23,
   "metadata": {},
   "outputs": [
    {
     "name": "stderr",
     "output_type": "stream",
     "text": [
      "WARNING: Logging before flag parsing goes to stderr.\n",
      "W0724 00:53:52.711835 4389889472 deprecation.py:506] From /opt/local/Library/Frameworks/Python.framework/Versions/3.7/lib/python3.7/site-packages/tensorflow/python/ops/init_ops.py:1251: calling VarianceScaling.__init__ (from tensorflow.python.ops.init_ops) with dtype is deprecated and will be removed in a future version.\n",
      "Instructions for updating:\n",
      "Call initializer instance with the dtype argument instead of passing it to the constructor\n"
     ]
    }
   ],
   "source": [
    "model = keras.models.Sequential()\n",
    "model.add(keras.layers.Flatten(input_shape=[28, 28]))\n",
    "model.add(keras.layers.Dense(300, activation=\"relu\"))\n",
    "model.add(keras.layers.Dense(100, activation=\"relu\"))\n",
    "model.add(keras.layers.Dense(10, activation=\"softmax\"))"
   ]
  },
  {
   "cell_type": "code",
   "execution_count": 24,
   "metadata": {},
   "outputs": [],
   "source": [
    "keras.backend.clear_session()\n",
    "np.random.seed(42)\n",
    "tf.random.set_random_seed(42)"
   ]
  },
  {
   "cell_type": "code",
   "execution_count": 25,
   "metadata": {},
   "outputs": [],
   "source": [
    "model = keras.models.Sequential([\n",
    "    keras.layers.Flatten(input_shape=[28, 28]),\n",
    "    keras.layers.Dense(300, activation=\"relu\"),\n",
    "    keras.layers.Dense(100, activation=\"relu\"),\n",
    "    keras.layers.Dense(10, activation=\"softmax\")\n",
    "])"
   ]
  },
  {
   "cell_type": "code",
   "execution_count": 26,
   "metadata": {},
   "outputs": [
    {
     "data": {
      "text/plain": [
       "[<tensorflow.python.keras.layers.core.Flatten at 0x144e62a90>,\n",
       " <tensorflow.python.keras.layers.core.Dense at 0x12a65acd0>,\n",
       " <tensorflow.python.keras.layers.core.Dense at 0x12a67c0d0>,\n",
       " <tensorflow.python.keras.layers.core.Dense at 0x12a67c410>]"
      ]
     },
     "execution_count": 26,
     "metadata": {},
     "output_type": "execute_result"
    }
   ],
   "source": [
    "model.layers"
   ]
  },
  {
   "cell_type": "code",
   "execution_count": 27,
   "metadata": {},
   "outputs": [
    {
     "name": "stdout",
     "output_type": "stream",
     "text": [
      "Model: \"sequential\"\n",
      "_________________________________________________________________\n",
      "Layer (type)                 Output Shape              Param #   \n",
      "=================================================================\n",
      "flatten (Flatten)            (None, 784)               0         \n",
      "_________________________________________________________________\n",
      "dense (Dense)                (None, 300)               235500    \n",
      "_________________________________________________________________\n",
      "dense_1 (Dense)              (None, 100)               30100     \n",
      "_________________________________________________________________\n",
      "dense_2 (Dense)              (None, 10)                1010      \n",
      "=================================================================\n",
      "Total params: 266,610\n",
      "Trainable params: 266,610\n",
      "Non-trainable params: 0\n",
      "_________________________________________________________________\n"
     ]
    }
   ],
   "source": [
    "model.summary()"
   ]
  },
  {
   "cell_type": "code",
   "execution_count": 28,
   "metadata": {},
   "outputs": [
    {
     "data": {
      "image/png": "[encoded data removed]",
      "text/plain": [
       "<IPython.core.display.Image object>"
      ]
     },
     "execution_count": 28,
     "metadata": {},
     "output_type": "execute_result"
    }
   ],
   "source": [
    "keras.utils.plot_model(model, \"my_mnist_model.png\", show_shapes=True)"
   ]
  },
  {
   "cell_type": "code",
   "execution_count": 30,
   "metadata": {},
   "outputs": [
    {
     "data": {
      "text/plain": [
       "'dense'"
      ]
     },
     "execution_count": 30,
     "metadata": {},
     "output_type": "execute_result"
    }
   ],
   "source": [
    "hidden1 = model.layers[1]\n",
    "hidden1.name"
   ]
  },
  {
   "cell_type": "code",
   "execution_count": 31,
   "metadata": {},
   "outputs": [
    {
     "data": {
      "text/plain": [
       "True"
      ]
     },
     "execution_count": 31,
     "metadata": {},
     "output_type": "execute_result"
    }
   ],
   "source": [
    "model.get_layer(hidden1.name) is hidden1"
   ]
  },
  {
   "cell_type": "code",
   "execution_count": 32,
   "metadata": {},
   "outputs": [],
   "source": [
    "weights, biases = hidden1.get_weights()"
   ]
  },
  {
   "cell_type": "code",
   "execution_count": 33,
   "metadata": {},
   "outputs": [
    {
     "data": {
      "text/plain": [
       "array([[ 0.01513953, -0.00182861,  0.0646853 , ...,  0.04114765,\n",
       "         0.00448342,  0.06432123],\n",
       "       [ 0.07068136, -0.07170715,  0.02270165, ..., -0.00219323,\n",
       "        -0.06530555,  0.05230799],\n",
       "       [ 0.00088049, -0.04335928,  0.02484499, ..., -0.0181252 ,\n",
       "        -0.04382037,  0.00582965],\n",
       "       ...,\n",
       "       [ 0.06951119, -0.04154188, -0.0631083 , ..., -0.06399027,\n",
       "         0.05743755, -0.02660926],\n",
       "       [ 0.04145878, -0.05679043, -0.02418258, ...,  0.06427447,\n",
       "         0.04248022, -0.00580377],\n",
       "       [-0.02178467, -0.01062121,  0.011522  , ..., -0.01790331,\n",
       "         0.02122946, -0.06212726]], dtype=float32)"
      ]
     },
     "execution_count": 33,
     "metadata": {},
     "output_type": "execute_result"
    }
   ],
   "source": [
    "weights"
   ]
  },
  {
   "cell_type": "code",
   "execution_count": 34,
   "metadata": {},
   "outputs": [
    {
     "data": {
      "text/plain": [
       "(784, 300)"
      ]
     },
     "execution_count": 34,
     "metadata": {},
     "output_type": "execute_result"
    }
   ],
   "source": [
    "weights.shape"
   ]
  },
  {
   "cell_type": "code",
   "execution_count": 35,
   "metadata": {},
   "outputs": [
    {
     "data": {
      "text/plain": [
       "array([0., 0., 0., 0., 0., 0., 0., 0., 0., 0., 0., 0., 0., 0., 0., 0., 0.,\n",
       "       0., 0., 0., 0., 0., 0., 0., 0., 0., 0., 0., 0., 0., 0., 0., 0., 0.,\n",
       "       0., 0., 0., 0., 0., 0., 0., 0., 0., 0., 0., 0., 0., 0., 0., 0., 0.,\n",
       "       0., 0., 0., 0., 0., 0., 0., 0., 0., 0., 0., 0., 0., 0., 0., 0., 0.,\n",
       "       0., 0., 0., 0., 0., 0., 0., 0., 0., 0., 0., 0., 0., 0., 0., 0., 0.,\n",
       "       0., 0., 0., 0., 0., 0., 0., 0., 0., 0., 0., 0., 0., 0., 0., 0., 0.,\n",
       "       0., 0., 0., 0., 0., 0., 0., 0., 0., 0., 0., 0., 0., 0., 0., 0., 0.,\n",
       "       0., 0., 0., 0., 0., 0., 0., 0., 0., 0., 0., 0., 0., 0., 0., 0., 0.,\n",
       "       0., 0., 0., 0., 0., 0., 0., 0., 0., 0., 0., 0., 0., 0., 0., 0., 0.,\n",
       "       0., 0., 0., 0., 0., 0., 0., 0., 0., 0., 0., 0., 0., 0., 0., 0., 0.,\n",
       "       0., 0., 0., 0., 0., 0., 0., 0., 0., 0., 0., 0., 0., 0., 0., 0., 0.,\n",
       "       0., 0., 0., 0., 0., 0., 0., 0., 0., 0., 0., 0., 0., 0., 0., 0., 0.,\n",
       "       0., 0., 0., 0., 0., 0., 0., 0., 0., 0., 0., 0., 0., 0., 0., 0., 0.,\n",
       "       0., 0., 0., 0., 0., 0., 0., 0., 0., 0., 0., 0., 0., 0., 0., 0., 0.,\n",
       "       0., 0., 0., 0., 0., 0., 0., 0., 0., 0., 0., 0., 0., 0., 0., 0., 0.,\n",
       "       0., 0., 0., 0., 0., 0., 0., 0., 0., 0., 0., 0., 0., 0., 0., 0., 0.,\n",
       "       0., 0., 0., 0., 0., 0., 0., 0., 0., 0., 0., 0., 0., 0., 0., 0., 0.,\n",
       "       0., 0., 0., 0., 0., 0., 0., 0., 0., 0., 0.], dtype=float32)"
      ]
     },
     "execution_count": 35,
     "metadata": {},
     "output_type": "execute_result"
    }
   ],
   "source": [
    "biases"
   ]
  },
  {
   "cell_type": "code",
   "execution_count": 36,
   "metadata": {},
   "outputs": [
    {
     "data": {
      "text/plain": [
       "(300,)"
      ]
     },
     "execution_count": 36,
     "metadata": {},
     "output_type": "execute_result"
    }
   ],
   "source": [
    "biases.shape"
   ]
  },
  {
   "cell_type": "code",
   "execution_count": 37,
   "metadata": {},
   "outputs": [],
   "source": [
    "model.compile(loss=\"sparse_categorical_crossentropy\",\n",
    "              optimizer=\"sgd\",\n",
    "              metrics=[\"accuracy\"])"
   ]
  },
  {
   "cell_type": "markdown",
   "metadata": {},
   "source": [
    "This is equivalent to:"
   ]
  },
  {
   "cell_type": "markdown",
   "metadata": {},
   "source": [
    "```python\n",
    "model.compile(loss=keras.losses.sparse_categorical_crossentropy,\n",
    "              optimizer=keras.optimizers.SGD(),\n",
    "              metrics=[keras.metrics.sparse_categorical_accuracy])\n",
    "```"
   ]
  },
  {
   "cell_type": "code",
   "execution_count": 38,
   "metadata": {},
   "outputs": [
    {
     "name": "stdout",
     "output_type": "stream",
     "text": [
      "Train on 55000 samples, validate on 5000 samples\n",
      "Epoch 1/30\n",
      "55000/55000 [==============================] - 6s 115us/sample - loss: 0.7314 - acc: 0.7600 - val_loss: 0.5058 - val_acc: 0.8408\n",
      "Epoch 2/30\n",
      "55000/55000 [==============================] - 6s 113us/sample - loss: 0.4903 - acc: 0.8305 - val_loss: 0.4569 - val_acc: 0.8456\n",
      "Epoch 3/30\n",
      "55000/55000 [==============================] - 6s 117us/sample - loss: 0.4446 - acc: 0.8440 - val_loss: 0.4117 - val_acc: 0.8586\n",
      "Epoch 4/30\n",
      "55000/55000 [==============================] - 6s 116us/sample - loss: 0.4178 - acc: 0.8527 - val_loss: 0.4032 - val_acc: 0.8658\n",
      "Epoch 5/30\n",
      "55000/55000 [==============================] - 7s 125us/sample - loss: 0.3971 - acc: 0.8605 - val_loss: 0.3808 - val_acc: 0.8692\n",
      "Epoch 6/30\n",
      "55000/55000 [==============================] - 6s 116us/sample - loss: 0.3808 - acc: 0.8659 - val_loss: 0.3797 - val_acc: 0.8714\n",
      "Epoch 7/30\n",
      "55000/55000 [==============================] - 7s 118us/sample - loss: 0.3665 - acc: 0.8709 - val_loss: 0.3776 - val_acc: 0.8692\n",
      "Epoch 8/30\n",
      "55000/55000 [==============================] - 7s 119us/sample - loss: 0.3556 - acc: 0.8736 - val_loss: 0.3702 - val_acc: 0.8710\n",
      "Epoch 9/30\n",
      "55000/55000 [==============================] - 7s 136us/sample - loss: 0.3445 - acc: 0.8773 - val_loss: 0.3461 - val_acc: 0.8790\n",
      "Epoch 10/30\n",
      "55000/55000 [==============================] - 7s 120us/sample - loss: 0.3359 - acc: 0.8806 - val_loss: 0.3732 - val_acc: 0.8704\n",
      "Epoch 11/30\n",
      "55000/55000 [==============================] - 7s 136us/sample - loss: 0.3274 - acc: 0.8826 - val_loss: 0.3358 - val_acc: 0.8834\n",
      "Epoch 12/30\n",
      "55000/55000 [==============================] - 8s 138us/sample - loss: 0.3191 - acc: 0.8859 - val_loss: 0.3399 - val_acc: 0.8786\n",
      "Epoch 13/30\n",
      "55000/55000 [==============================] - 8s 139us/sample - loss: 0.3108 - acc: 0.8891 - val_loss: 0.3524 - val_acc: 0.8736\n",
      "Epoch 14/30\n",
      "55000/55000 [==============================] - 8s 138us/sample - loss: 0.3057 - acc: 0.8905 - val_loss: 0.3213 - val_acc: 0.8858\n",
      "Epoch 15/30\n",
      "55000/55000 [==============================] - 8s 137us/sample - loss: 0.2981 - acc: 0.8933 - val_loss: 0.3225 - val_acc: 0.8870\n",
      "Epoch 16/30\n",
      "55000/55000 [==============================] - 8s 139us/sample - loss: 0.2920 - acc: 0.8947 - val_loss: 0.3464 - val_acc: 0.8762\n",
      "Epoch 17/30\n",
      "55000/55000 [==============================] - 8s 145us/sample - loss: 0.2865 - acc: 0.8955 - val_loss: 0.3187 - val_acc: 0.8860\n",
      "Epoch 18/30\n",
      "55000/55000 [==============================] - 8s 137us/sample - loss: 0.2821 - acc: 0.8973 - val_loss: 0.3241 - val_acc: 0.8842\n",
      "Epoch 19/30\n",
      "55000/55000 [==============================] - 8s 142us/sample - loss: 0.2761 - acc: 0.8995 - val_loss: 0.3067 - val_acc: 0.8892\n",
      "Epoch 20/30\n",
      "55000/55000 [==============================] - 8s 147us/sample - loss: 0.2709 - acc: 0.9020 - val_loss: 0.3090 - val_acc: 0.8892\n",
      "Epoch 21/30\n",
      "55000/55000 [==============================] - 8s 137us/sample - loss: 0.2665 - acc: 0.9043 - val_loss: 0.3162 - val_acc: 0.8876\n",
      "Epoch 22/30\n",
      "55000/55000 [==============================] - 8s 153us/sample - loss: 0.2605 - acc: 0.9060 - val_loss: 0.3308 - val_acc: 0.8794\n",
      "Epoch 23/30\n",
      "55000/55000 [==============================] - 7s 135us/sample - loss: 0.2574 - acc: 0.9057 - val_loss: 0.3090 - val_acc: 0.8888\n",
      "Epoch 24/30\n",
      "55000/55000 [==============================] - 7s 131us/sample - loss: 0.2521 - acc: 0.9090 - val_loss: 0.3070 - val_acc: 0.8926\n",
      "Epoch 25/30\n",
      "55000/55000 [==============================] - 7s 133us/sample - loss: 0.2480 - acc: 0.9114 - val_loss: 0.2991 - val_acc: 0.8932\n",
      "Epoch 26/30\n",
      "55000/55000 [==============================] - 7s 136us/sample - loss: 0.2444 - acc: 0.9118 - val_loss: 0.3247 - val_acc: 0.8850\n",
      "Epoch 27/30\n",
      "55000/55000 [==============================] - 8s 143us/sample - loss: 0.2411 - acc: 0.9130 - val_loss: 0.2984 - val_acc: 0.8896\n",
      "Epoch 28/30\n",
      "55000/55000 [==============================] - 8s 141us/sample - loss: 0.2366 - acc: 0.9151 - val_loss: 0.2969 - val_acc: 0.8940\n",
      "Epoch 29/30\n",
      "55000/55000 [==============================] - 8s 138us/sample - loss: 0.2322 - acc: 0.9165 - val_loss: 0.2989 - val_acc: 0.8920\n",
      "Epoch 30/30\n",
      "55000/55000 [==============================] - 8s 138us/sample - loss: 0.2290 - acc: 0.9169 - val_loss: 0.3007 - val_acc: 0.8936\n"
     ]
    }
   ],
   "source": [
    "history = model.fit(X_train, y_train, epochs=30,\n",
    "                    validation_data=(X_valid, y_valid))"
   ]
  },
  {
   "cell_type": "code",
   "execution_count": 39,
   "metadata": {},
   "outputs": [
    {
     "data": {
      "text/plain": [
       "{'batch_size': 32,\n",
       " 'epochs': 30,\n",
       " 'steps': None,\n",
       " 'samples': 55000,\n",
       " 'verbose': 0,\n",
       " 'do_validation': True,\n",
       " 'metrics': ['loss', 'acc', 'val_loss', 'val_acc']}"
      ]
     },
     "execution_count": 39,
     "metadata": {},
     "output_type": "execute_result"
    }
   ],
   "source": [
    "history.params"
   ]
  },
  {
   "cell_type": "code",
   "execution_count": 40,
   "metadata": {},
   "outputs": [
    {
     "name": "stdout",
     "output_type": "stream",
     "text": [
      "[0, 1, 2, 3, 4, 5, 6, 7, 8, 9, 10, 11, 12, 13, 14, 15, 16, 17, 18, 19, 20, 21, 22, 23, 24, 25, 26, 27, 28, 29]\n"
     ]
    }
   ],
   "source": [
    "print(history.epoch)"
   ]
  },
  {
   "cell_type": "code",
   "execution_count": 41,
   "metadata": {},
   "outputs": [
    {
     "data": {
      "text/plain": [
       "dict_keys(['loss', 'acc', 'val_loss', 'val_acc'])"
      ]
     },
     "execution_count": 41,
     "metadata": {},
     "output_type": "execute_result"
    }
   ],
   "source": [
    "history.history.keys()"
   ]
  },
  {
   "cell_type": "code",
   "execution_count": 42,
   "metadata": {},
   "outputs": [
    {
     "data": {
      "text/plain": [
       "(0, 1)"
      ]
     },
     "execution_count": 42,
     "metadata": {},
     "output_type": "execute_result"
    },
    {
     "data": {
      "image/png": "[encoded data removed]",
      "text/plain": [
       "<Figure size 576x360 with 1 Axes>"
      ]
     },
     "metadata": {
      "needs_background": "light"
     },
     "output_type": "display_data"
    }
   ],
   "source": [
    "pd.DataFrame(history.history).plot(figsize=(8, 5))\n",
    "plt.grid(True)\n",
    "plt.gca().set_ylim(0, 1)"
   ]
  },
  {
   "cell_type": "code",
   "execution_count": 43,
   "metadata": {},
   "outputs": [
    {
     "name": "stdout",
     "output_type": "stream",
     "text": [
      "10000/10000 [==============================] - 1s 81us/sample - loss: 0.3330 - acc: 0.8855\n"
     ]
    },
    {
     "data": {
      "text/plain": [
       "[0.3329879164338112, 0.8855]"
      ]
     },
     "execution_count": 43,
     "metadata": {},
     "output_type": "execute_result"
    }
   ],
   "source": [
    "model.evaluate(X_test, y_test)"
   ]
  },
  {
   "cell_type": "code",
   "execution_count": 44,
   "metadata": {},
   "outputs": [
    {
     "data": {
      "text/plain": [
       "array([[0.  , 0.  , 0.  , 0.  , 0.  , 0.02, 0.  , 0.02, 0.  , 0.96],\n",
       "       [0.  , 0.  , 0.98, 0.  , 0.02, 0.  , 0.  , 0.  , 0.  , 0.  ],\n",
       "       [0.  , 1.  , 0.  , 0.  , 0.  , 0.  , 0.  , 0.  , 0.  , 0.  ]],\n",
       "      dtype=float32)"
      ]
     },
     "execution_count": 44,
     "metadata": {},
     "output_type": "execute_result"
    }
   ],
   "source": [
    "X_new = X_test[:3]\n",
    "y_proba = model.predict(X_new)\n",
    "y_proba.round(2)"
   ]
  },
  {
   "cell_type": "code",
   "execution_count": 45,
   "metadata": {},
   "outputs": [
    {
     "data": {
      "text/plain": [
       "array([9, 2, 1])"
      ]
     },
     "execution_count": 45,
     "metadata": {},
     "output_type": "execute_result"
    }
   ],
   "source": [
    "y_pred = model.predict_classes(X_new)\n",
    "y_pred"
   ]
  },
  {
   "cell_type": "code",
   "execution_count": 46,
   "metadata": {},
   "outputs": [
    {
     "data": {
      "text/plain": [
       "array(['Ankle boot', 'Pullover', 'Trouser'], dtype='<U11')"
      ]
     },
     "execution_count": 46,
     "metadata": {},
     "output_type": "execute_result"
    }
   ],
   "source": [
    "np.array(class_names)[y_pred]"
   ]
  },
  {
   "cell_type": "code",
   "execution_count": 47,
   "metadata": {},
   "outputs": [
    {
     "data": {
      "text/plain": [
       "array([9, 2, 1], dtype=uint8)"
      ]
     },
     "execution_count": 47,
     "metadata": {},
     "output_type": "execute_result"
    }
   ],
   "source": [
    "y_new = y_test[:3]\n",
    "y_new"
   ]
  },
  {
   "cell_type": "code",
   "execution_count": 49,
   "metadata": {},
   "outputs": [
    {
     "data": {
      "image/png": "[encoded data removed]",
      "text/plain": [
       "<Figure size 518.4x172.8 with 3 Axes>"
      ]
     },
     "metadata": {
      "needs_background": "light"
     },
     "output_type": "display_data"
    }
   ],
   "source": [
    "plt.figure(figsize=(7.2, 2.4))\n",
    "for index, image in enumerate(X_new):\n",
    "    plt.subplot(1, 3, index + 1)\n",
    "    plt.imshow(image, cmap=\"binary\", interpolation=\"nearest\")\n",
    "    plt.axis('off')\n",
    "    plt.title(class_names[y_test[index]], fontsize=12)\n",
    "plt.subplots_adjust(wspace=0.2, hspace=0.5)"
   ]
  },
  {
   "cell_type": "markdown",
   "metadata": {},
   "source": [
    "# Regression MLP"
   ]
  },
  {
   "cell_type": "markdown",
   "metadata": {},
   "source": [
    "Let's load, split and scale the California housing dataset (the original one, not the modified one as in chapter 2):"
   ]
  },
  {
   "cell_type": "code",
   "execution_count": 50,
   "metadata": {},
   "outputs": [
    {
     "name": "stderr",
     "output_type": "stream",
     "text": [
      "Downloading Cal. housing from https://ndownloader.figshare.com/files/5976036 to /Users/guilleaf/scikit_learn_data\n",
      "I0724 01:01:14.524346 4389889472 california_housing.py:114] Downloading Cal. housing from https://ndownloader.figshare.com/files/5976036 to /Users/guilleaf/scikit_learn_data\n"
     ]
    }
   ],
   "source": [
    "from sklearn.datasets import fetch_california_housing\n",
    "from sklearn.model_selection import train_test_split\n",
    "from sklearn.preprocessing import StandardScaler\n",
    "\n",
    "housing = fetch_california_housing()\n",
    "\n",
    "X_train_full, X_test, y_train_full, y_test = train_test_split(housing.data, housing.target, random_state=42)\n",
    "X_train, X_valid, y_train, y_valid = train_test_split(X_train_full, y_train_full, random_state=42)\n",
    "\n",
    "scaler = StandardScaler()\n",
    "X_train = scaler.fit_transform(X_train)\n",
    "X_valid = scaler.transform(X_valid)\n",
    "X_test = scaler.transform(X_test)"
   ]
  },
  {
   "cell_type": "code",
   "execution_count": 52,
   "metadata": {},
   "outputs": [],
   "source": [
    "np.random.seed(42)\n",
    "tf.random.set_random_seed(42)"
   ]
  },
  {
   "cell_type": "code",
   "execution_count": 53,
   "metadata": {},
   "outputs": [
    {
     "name": "stdout",
     "output_type": "stream",
     "text": [
      "Train on 11610 samples, validate on 3870 samples\n",
      "Epoch 1/20\n",
      "11610/11610 [==============================] - 1s 68us/sample - loss: 1.9525 - val_loss: 1.0396\n",
      "Epoch 2/20\n",
      "11610/11610 [==============================] - 1s 61us/sample - loss: 0.7868 - val_loss: 0.7356\n",
      "Epoch 3/20\n",
      "11610/11610 [==============================] - 1s 52us/sample - loss: 0.6986 - val_loss: 0.6678\n",
      "Epoch 4/20\n",
      "11610/11610 [==============================] - 1s 66us/sample - loss: 0.6464 - val_loss: 0.6140\n",
      "Epoch 5/20\n",
      "11610/11610 [==============================] - 1s 63us/sample - loss: 0.6064 - val_loss: 0.5761\n",
      "Epoch 6/20\n",
      "11610/11610 [==============================] - 1s 62us/sample - loss: 0.5733 - val_loss: 0.5512\n",
      "Epoch 7/20\n",
      "11610/11610 [==============================] - 1s 59us/sample - loss: 0.5464 - val_loss: 0.5330\n",
      "Epoch 8/20\n",
      "11610/11610 [==============================] - 1s 64us/sample - loss: 0.5244 - val_loss: 0.4966\n",
      "Epoch 9/20\n",
      "11610/11610 [==============================] - 1s 61us/sample - loss: 0.5056 - val_loss: 0.4815\n",
      "Epoch 10/20\n",
      "11610/11610 [==============================] - 1s 60us/sample - loss: 0.4898 - val_loss: 0.4721\n",
      "Epoch 11/20\n",
      "11610/11610 [==============================] - 1s 57us/sample - loss: 0.4771 - val_loss: 0.4497\n",
      "Epoch 12/20\n",
      "11610/11610 [==============================] - 1s 62us/sample - loss: 0.4658 - val_loss: 0.4392\n",
      "Epoch 13/20\n",
      "11610/11610 [==============================] - 1s 78us/sample - loss: 0.4566 - val_loss: 0.4298\n",
      "Epoch 14/20\n",
      "11610/11610 [==============================] - 1s 91us/sample - loss: 0.4488 - val_loss: 0.4228\n",
      "Epoch 15/20\n",
      "11610/11610 [==============================] - 1s 49us/sample - loss: 0.4418 - val_loss: 0.4160\n",
      "Epoch 16/20\n",
      "11610/11610 [==============================] - 1s 56us/sample - loss: 0.4364 - val_loss: 0.4107\n",
      "Epoch 17/20\n",
      "11610/11610 [==============================] - 1s 56us/sample - loss: 0.4310 - val_loss: 0.4050\n",
      "Epoch 18/20\n",
      "11610/11610 [==============================] - 1s 54us/sample - loss: 0.4266 - val_loss: 0.4013\n",
      "Epoch 19/20\n",
      "11610/11610 [==============================] - 1s 60us/sample - loss: 0.4228 - val_loss: 0.3970\n",
      "Epoch 20/20\n",
      "11610/11610 [==============================] - 1s 57us/sample - loss: 0.4194 - val_loss: 0.3953\n",
      "5160/5160 [==============================] - 0s 25us/sample - loss: 0.4191\n"
     ]
    }
   ],
   "source": [
    "model = keras.models.Sequential([\n",
    "    keras.layers.Dense(30, activation=\"relu\", input_shape=X_train.shape[1:]),\n",
    "    keras.layers.Dense(1)\n",
    "])\n",
    "model.compile(loss=\"mean_squared_error\", optimizer=keras.optimizers.SGD(lr=1e-3))\n",
    "history = model.fit(X_train, y_train, epochs=20, validation_data=(X_valid, y_valid))\n",
    "mse_test = model.evaluate(X_test, y_test)\n",
    "X_new = X_test[:3]\n",
    "y_pred = model.predict(X_new)"
   ]
  },
  {
   "cell_type": "code",
   "execution_count": 54,
   "metadata": {},
   "outputs": [
    {
     "data": {
      "image/png": "[encoded data removed]",
      "text/plain": [
       "<Figure size 432x288 with 1 Axes>"
      ]
     },
     "metadata": {
      "needs_background": "light"
     },
     "output_type": "display_data"
    }
   ],
   "source": [
    "plt.plot(pd.DataFrame(history.history))\n",
    "plt.grid(True)\n",
    "plt.gca().set_ylim(0, 1)\n",
    "plt.show()"
   ]
  },
  {
   "cell_type": "code",
   "execution_count": 55,
   "metadata": {},
   "outputs": [
    {
     "data": {
      "text/plain": [
       "array([[0.64346564],\n",
       "       [1.5651062 ],\n",
       "       [3.4509287 ]], dtype=float32)"
      ]
     },
     "execution_count": 55,
     "metadata": {},
     "output_type": "execute_result"
    }
   ],
   "source": [
    "y_pred"
   ]
  },
  {
   "cell_type": "markdown",
   "metadata": {},
   "source": [
    "# Functional API"
   ]
  },
  {
   "cell_type": "markdown",
   "metadata": {},
   "source": [
    "Not all neural network models are simply sequential. Some may have complex topologies. Some may have multiple inputs and/or multiple outputs. For example, a Wide & Deep neural network (see [paper](https://ai.google/research/pubs/pub45413)) connects all or part of the inputs directly to the output layer."
   ]
  },
  {
   "cell_type": "code",
   "execution_count": 57,
   "metadata": {},
   "outputs": [],
   "source": [
    "np.random.seed(42)\n",
    "tf.random.set_random_seed(42)"
   ]
  },
  {
   "cell_type": "code",
   "execution_count": 58,
   "metadata": {},
   "outputs": [],
   "source": [
    "input_ = keras.layers.Input(shape=X_train.shape[1:])\n",
    "hidden1 = keras.layers.Dense(30, activation=\"relu\")(input_)\n",
    "hidden2 = keras.layers.Dense(30, activation=\"relu\")(hidden1)\n",
    "concat = keras.layers.concatenate([input_, hidden2])\n",
    "output = keras.layers.Dense(1)(concat)\n",
    "model = keras.models.Model(inputs=[input_], outputs=[output])"
   ]
  },
  {
   "cell_type": "code",
   "execution_count": 59,
   "metadata": {},
   "outputs": [
    {
     "name": "stdout",
     "output_type": "stream",
     "text": [
      "Model: \"model\"\n",
      "__________________________________________________________________________________________________\n",
      "Layer (type)                    Output Shape         Param #     Connected to                     \n",
      "==================================================================================================\n",
      "input_1 (InputLayer)            [(None, 8)]          0                                            \n",
      "__________________________________________________________________________________________________\n",
      "dense_5 (Dense)                 (None, 30)           270         input_1[0][0]                    \n",
      "__________________________________________________________________________________________________\n",
      "dense_6 (Dense)                 (None, 30)           930         dense_5[0][0]                    \n",
      "__________________________________________________________________________________________________\n",
      "concatenate (Concatenate)       (None, 38)           0           input_1[0][0]                    \n",
      "                                                                 dense_6[0][0]                    \n",
      "__________________________________________________________________________________________________\n",
      "dense_7 (Dense)                 (None, 1)            39          concatenate[0][0]                \n",
      "==================================================================================================\n",
      "Total params: 1,239\n",
      "Trainable params: 1,239\n",
      "Non-trainable params: 0\n",
      "__________________________________________________________________________________________________\n"
     ]
    }
   ],
   "source": [
    "model.summary()"
   ]
  },
  {
   "cell_type": "code",
   "execution_count": 60,
   "metadata": {},
   "outputs": [
    {
     "name": "stdout",
     "output_type": "stream",
     "text": [
      "Train on 11610 samples, validate on 3870 samples\n",
      "Epoch 1/20\n",
      "11610/11610 [==============================] - 1s 77us/sample - loss: 1.9466 - val_loss: 0.8385\n",
      "Epoch 2/20\n",
      "11610/11610 [==============================] - 1s 62us/sample - loss: 0.6983 - val_loss: 0.8671\n",
      "Epoch 3/20\n",
      "11610/11610 [==============================] - 1s 61us/sample - loss: 0.6432 - val_loss: 0.8649\n",
      "Epoch 4/20\n",
      "11610/11610 [==============================] - 1s 62us/sample - loss: 0.6010 - val_loss: 0.6220\n",
      "Epoch 5/20\n",
      "11610/11610 [==============================] - 1s 57us/sample - loss: 0.5694 - val_loss: 0.6816\n",
      "Epoch 6/20\n",
      "11610/11610 [==============================] - 1s 51us/sample - loss: 0.5429 - val_loss: 0.5339\n",
      "Epoch 7/20\n",
      "11610/11610 [==============================] - 1s 56us/sample - loss: 0.5207 - val_loss: 0.4908\n",
      "Epoch 8/20\n",
      "11610/11610 [==============================] - 1s 55us/sample - loss: 0.5018 - val_loss: 0.4819\n",
      "Epoch 9/20\n",
      "11610/11610 [==============================] - 1s 58us/sample - loss: 0.4857 - val_loss: 0.4566\n",
      "Epoch 10/20\n",
      "11610/11610 [==============================] - 1s 65us/sample - loss: 0.4717 - val_loss: 0.4433\n",
      "Epoch 11/20\n",
      "11610/11610 [==============================] - 1s 63us/sample - loss: 0.4604 - val_loss: 0.5116\n",
      "Epoch 12/20\n",
      "11610/11610 [==============================] - 1s 62us/sample - loss: 0.4507 - val_loss: 0.4298\n",
      "Epoch 13/20\n",
      "11610/11610 [==============================] - 1s 61us/sample - loss: 0.4419 - val_loss: 0.4507\n",
      "Epoch 14/20\n",
      "11610/11610 [==============================] - 1s 64us/sample - loss: 0.4346 - val_loss: 0.4226\n",
      "Epoch 15/20\n",
      "11610/11610 [==============================] - 1s 60us/sample - loss: 0.4283 - val_loss: 0.4039\n",
      "Epoch 16/20\n",
      "11610/11610 [==============================] - 1s 64us/sample - loss: 0.4230 - val_loss: 0.4275\n",
      "Epoch 17/20\n",
      "11610/11610 [==============================] - 1s 62us/sample - loss: 0.4184 - val_loss: 0.3954\n",
      "Epoch 18/20\n",
      "11610/11610 [==============================] - 1s 63us/sample - loss: 0.4143 - val_loss: 0.3867\n",
      "Epoch 19/20\n",
      "11610/11610 [==============================] - 1s 61us/sample - loss: 0.4106 - val_loss: 0.3891\n",
      "Epoch 20/20\n",
      "11610/11610 [==============================] - 1s 80us/sample - loss: 0.4074 - val_loss: 0.4157\n",
      "5160/5160 [==============================] - 0s 30us/sample - loss: 0.4014\n"
     ]
    }
   ],
   "source": [
    "model.compile(loss=\"mean_squared_error\", optimizer=keras.optimizers.SGD(lr=1e-3))\n",
    "history = model.fit(X_train, y_train, epochs=20,\n",
    "                    validation_data=(X_valid, y_valid))\n",
    "mse_test = model.evaluate(X_test, y_test)\n",
    "y_pred = model.predict(X_new)"
   ]
  },
  {
   "cell_type": "markdown",
   "metadata": {},
   "source": [
    "What if you want to send different subsets of input features through the wide or deep paths? We will send 5 features (features 0 to 4), and 6 through the deep path (features 2 to 7). Note that 3 features will go through both (features 2, 3 and 4)."
   ]
  },
  {
   "cell_type": "code",
   "execution_count": 62,
   "metadata": {},
   "outputs": [],
   "source": [
    "np.random.seed(42)\n",
    "tf.random.set_random_seed(42)"
   ]
  },
  {
   "cell_type": "code",
   "execution_count": 63,
   "metadata": {},
   "outputs": [],
   "source": [
    "input_A = keras.layers.Input(shape=[5], name=\"wide_input\")\n",
    "input_B = keras.layers.Input(shape=[6], name=\"deep_input\")\n",
    "hidden1 = keras.layers.Dense(30, activation=\"relu\")(input_B)\n",
    "hidden2 = keras.layers.Dense(30, activation=\"relu\")(hidden1)\n",
    "concat = keras.layers.concatenate([input_A, hidden2])\n",
    "output = keras.layers.Dense(1, name=\"output\")(concat)\n",
    "model = keras.models.Model(inputs=[input_A, input_B], outputs=[output])"
   ]
  },
  {
   "cell_type": "code",
   "execution_count": 64,
   "metadata": {},
   "outputs": [
    {
     "name": "stdout",
     "output_type": "stream",
     "text": [
      "Train on 11610 samples, validate on 3870 samples\n",
      "Epoch 1/20\n",
      "11610/11610 [==============================] - 1s 82us/sample - loss: 2.6280 - val_loss: 1.6627\n",
      "Epoch 2/20\n",
      "11610/11610 [==============================] - 1s 82us/sample - loss: 0.8260 - val_loss: 0.7156\n",
      "Epoch 3/20\n",
      "11610/11610 [==============================] - 1s 64us/sample - loss: 0.7026 - val_loss: 0.6425\n",
      "Epoch 4/20\n",
      "11610/11610 [==============================] - 1s 61us/sample - loss: 0.6484 - val_loss: 0.6206\n",
      "Epoch 5/20\n",
      "11610/11610 [==============================] - 1s 68us/sample - loss: 0.6098 - val_loss: 0.5902\n",
      "Epoch 6/20\n",
      "11610/11610 [==============================] - 1s 80us/sample - loss: 0.5781 - val_loss: 0.5979\n",
      "Epoch 7/20\n",
      "11610/11610 [==============================] - 1s 64us/sample - loss: 0.5507 - val_loss: 0.6098\n",
      "Epoch 8/20\n",
      "11610/11610 [==============================] - 1s 66us/sample - loss: 0.5281 - val_loss: 0.5427\n",
      "Epoch 9/20\n",
      "11610/11610 [==============================] - 1s 63us/sample - loss: 0.5082 - val_loss: 0.5207\n",
      "Epoch 10/20\n",
      "11610/11610 [==============================] - 1s 65us/sample - loss: 0.4911 - val_loss: 0.5245\n",
      "Epoch 11/20\n",
      "11610/11610 [==============================] - 1s 65us/sample - loss: 0.4778 - val_loss: 0.4717\n",
      "Epoch 12/20\n",
      "11610/11610 [==============================] - 1s 64us/sample - loss: 0.4659 - val_loss: 0.4488\n",
      "Epoch 13/20\n",
      "11610/11610 [==============================] - 1s 63us/sample - loss: 0.4561 - val_loss: 0.4388\n",
      "Epoch 14/20\n",
      "11610/11610 [==============================] - 1s 63us/sample - loss: 0.4485 - val_loss: 0.4216\n",
      "Epoch 15/20\n",
      "11610/11610 [==============================] - 1s 67us/sample - loss: 0.4420 - val_loss: 0.4127\n",
      "Epoch 16/20\n",
      "11610/11610 [==============================] - 1s 96us/sample - loss: 0.4366 - val_loss: 0.4077\n",
      "Epoch 17/20\n",
      "11610/11610 [==============================] - 1s 65us/sample - loss: 0.4323 - val_loss: 0.4036\n",
      "Epoch 18/20\n",
      "11610/11610 [==============================] - 1s 66us/sample - loss: 0.4287 - val_loss: 0.3983\n",
      "Epoch 19/20\n",
      "11610/11610 [==============================] - 1s 65us/sample - loss: 0.4254 - val_loss: 0.3955\n",
      "Epoch 20/20\n",
      "11610/11610 [==============================] - 1s 65us/sample - loss: 0.4229 - val_loss: 0.3915\n",
      "5160/5160 [==============================] - 0s 31us/sample - loss: 0.4185\n"
     ]
    }
   ],
   "source": [
    "model.compile(loss=\"mse\", optimizer=keras.optimizers.SGD(lr=1e-3))\n",
    "\n",
    "X_train_A, X_train_B = X_train[:, :5], X_train[:, 2:]\n",
    "X_valid_A, X_valid_B = X_valid[:, :5], X_valid[:, 2:]\n",
    "X_test_A, X_test_B = X_test[:, :5], X_test[:, 2:]\n",
    "X_new_A, X_new_B = X_test_A[:3], X_test_B[:3]\n",
    "\n",
    "history = model.fit((X_train_A, X_train_B), y_train, epochs=20,\n",
    "                    validation_data=((X_valid_A, X_valid_B), y_valid))\n",
    "mse_test = model.evaluate((X_test_A, X_test_B), y_test)\n",
    "y_pred = model.predict((X_new_A, X_new_B))"
   ]
  },
  {
   "cell_type": "markdown",
   "metadata": {},
   "source": [
    "Adding an auxiliary output for regularization:"
   ]
  },
  {
   "cell_type": "code",
   "execution_count": 66,
   "metadata": {},
   "outputs": [],
   "source": [
    "np.random.seed(42)\n",
    "tf.random.set_random_seed(42)"
   ]
  },
  {
   "cell_type": "code",
   "execution_count": 67,
   "metadata": {},
   "outputs": [],
   "source": [
    "input_A = keras.layers.Input(shape=[5], name=\"wide_input\")\n",
    "input_B = keras.layers.Input(shape=[6], name=\"deep_input\")\n",
    "hidden1 = keras.layers.Dense(30, activation=\"relu\")(input_B)\n",
    "hidden2 = keras.layers.Dense(30, activation=\"relu\")(hidden1)\n",
    "concat = keras.layers.concatenate([input_A, hidden2])\n",
    "output = keras.layers.Dense(1, name=\"main_output\")(concat)\n",
    "aux_output = keras.layers.Dense(1, name=\"aux_output\")(hidden2)\n",
    "model = keras.models.Model(inputs=[input_A, input_B],\n",
    "                           outputs=[output, aux_output])"
   ]
  },
  {
   "cell_type": "code",
   "execution_count": 68,
   "metadata": {},
   "outputs": [],
   "source": [
    "model.compile(loss=[\"mse\", \"mse\"], loss_weights=[0.9, 0.1], optimizer=keras.optimizers.SGD(lr=1e-3))"
   ]
  },
  {
   "cell_type": "code",
   "execution_count": 69,
   "metadata": {},
   "outputs": [
    {
     "name": "stdout",
     "output_type": "stream",
     "text": [
      "Train on 11610 samples, validate on 3870 samples\n",
      "Epoch 1/20\n",
      "11610/11610 [==============================] - 1s 106us/sample - loss: 2.5937 - main_output_loss: 2.3062 - aux_output_loss: 5.1748 - val_loss: 1.5937 - val_main_output_loss: 1.2186 - val_aux_output_loss: 4.9694\n",
      "Epoch 2/20\n",
      "11610/11610 [==============================] - 1s 80us/sample - loss: 1.1421 - main_output_loss: 0.9120 - aux_output_loss: 3.2094 - val_loss: 1.2974 - val_main_output_loss: 0.8512 - val_aux_output_loss: 5.3121\n",
      "Epoch 3/20\n",
      "11610/11610 [==============================] - 1s 69us/sample - loss: 0.8820 - main_output_loss: 0.7317 - aux_output_loss: 2.2369 - val_loss: 1.2161 - val_main_output_loss: 0.7215 - val_aux_output_loss: 5.6658\n",
      "Epoch 4/20\n",
      "11610/11610 [==============================] - 1s 75us/sample - loss: 0.7647 - main_output_loss: 0.6538 - aux_output_loss: 1.7621 - val_loss: 1.1188 - val_main_output_loss: 0.6196 - val_aux_output_loss: 5.6071\n",
      "Epoch 5/20\n",
      "11610/11610 [==============================] - 1s 70us/sample - loss: 0.7002 - main_output_loss: 0.6115 - aux_output_loss: 1.4983 - val_loss: 1.0653 - val_main_output_loss: 0.5920 - val_aux_output_loss: 5.3228\n",
      "Epoch 6/20\n",
      "11610/11610 [==============================] - 1s 73us/sample - loss: 0.6575 - main_output_loss: 0.5816 - aux_output_loss: 1.3397 - val_loss: 0.9677 - val_main_output_loss: 0.5503 - val_aux_output_loss: 4.7219\n",
      "Epoch 7/20\n",
      "11610/11610 [==============================] - 1s 73us/sample - loss: 0.6247 - main_output_loss: 0.5575 - aux_output_loss: 1.2301 - val_loss: 0.8791 - val_main_output_loss: 0.5237 - val_aux_output_loss: 4.0768\n",
      "Epoch 8/20\n",
      "11610/11610 [==============================] - 1s 71us/sample - loss: 0.5986 - main_output_loss: 0.5367 - aux_output_loss: 1.1541 - val_loss: 0.8259 - val_main_output_loss: 0.5094 - val_aux_output_loss: 3.6728\n",
      "Epoch 9/20\n",
      "11610/11610 [==============================] - 1s 75us/sample - loss: 0.5759 - main_output_loss: 0.5177 - aux_output_loss: 1.0991 - val_loss: 0.7790 - val_main_output_loss: 0.4956 - val_aux_output_loss: 3.3277\n",
      "Epoch 10/20\n",
      "11610/11610 [==============================] - 1s 105us/sample - loss: 0.5556 - main_output_loss: 0.5005 - aux_output_loss: 1.0525 - val_loss: 0.7316 - val_main_output_loss: 0.4804 - val_aux_output_loss: 2.9905\n",
      "Epoch 11/20\n",
      "11610/11610 [==============================] - 1s 73us/sample - loss: 0.5380 - main_output_loss: 0.4856 - aux_output_loss: 1.0101 - val_loss: 0.6929 - val_main_output_loss: 0.4696 - val_aux_output_loss: 2.7034\n",
      "Epoch 12/20\n",
      "11610/11610 [==============================] - 1s 74us/sample - loss: 0.5221 - main_output_loss: 0.4719 - aux_output_loss: 0.9729 - val_loss: 0.6620 - val_main_output_loss: 0.4644 - val_aux_output_loss: 2.4385\n",
      "Epoch 13/20\n",
      "11610/11610 [==============================] - 1s 76us/sample - loss: 0.5092 - main_output_loss: 0.4611 - aux_output_loss: 0.9408 - val_loss: 0.6440 - val_main_output_loss: 0.4704 - val_aux_output_loss: 2.2052\n",
      "Epoch 14/20\n",
      "11610/11610 [==============================] - 1s 72us/sample - loss: 0.4993 - main_output_loss: 0.4532 - aux_output_loss: 0.9137 - val_loss: 0.6200 - val_main_output_loss: 0.4663 - val_aux_output_loss: 2.0020\n",
      "Epoch 15/20\n",
      "11610/11610 [==============================] - 1s 105us/sample - loss: 0.4916 - main_output_loss: 0.4473 - aux_output_loss: 0.8894 - val_loss: 0.5993 - val_main_output_loss: 0.4633 - val_aux_output_loss: 1.8243\n",
      "Epoch 16/20\n",
      "11610/11610 [==============================] - 1s 73us/sample - loss: 0.4851 - main_output_loss: 0.4423 - aux_output_loss: 0.8700 - val_loss: 0.5787 - val_main_output_loss: 0.4578 - val_aux_output_loss: 1.6676\n",
      "Epoch 17/20\n",
      "11610/11610 [==============================] - 1s 75us/sample - loss: 0.4800 - main_output_loss: 0.4386 - aux_output_loss: 0.8521 - val_loss: 0.5725 - val_main_output_loss: 0.4659 - val_aux_output_loss: 1.5307\n",
      "Epoch 18/20\n",
      "11610/11610 [==============================] - 1s 75us/sample - loss: 0.4755 - main_output_loss: 0.4355 - aux_output_loss: 0.8361 - val_loss: 0.5577 - val_main_output_loss: 0.4629 - val_aux_output_loss: 1.4117\n",
      "Epoch 19/20\n",
      "11610/11610 [==============================] - 1s 100us/sample - loss: 0.4714 - main_output_loss: 0.4326 - aux_output_loss: 0.8214 - val_loss: 0.5427 - val_main_output_loss: 0.4577 - val_aux_output_loss: 1.3076\n",
      "Epoch 20/20\n",
      "11610/11610 [==============================] - 1s 103us/sample - loss: 0.4686 - main_output_loss: 0.4310 - aux_output_loss: 0.8078 - val_loss: 0.5559 - val_main_output_loss: 0.4814 - val_aux_output_loss: 1.2247\n"
     ]
    }
   ],
   "source": [
    "history = model.fit([X_train_A, X_train_B], [y_train, y_train], epochs=20,\n",
    "                    validation_data=([X_valid_A, X_valid_B], [y_valid, y_valid]))"
   ]
  },
  {
   "cell_type": "code",
   "execution_count": 70,
   "metadata": {},
   "outputs": [
    {
     "name": "stdout",
     "output_type": "stream",
     "text": [
      "5160/5160 [==============================] - 0s 31us/sample - loss: 0.4555 - main_output_loss: 0.4199 - aux_output_loss: 0.7778\n"
     ]
    }
   ],
   "source": [
    "total_loss, main_loss, aux_loss = model.evaluate(\n",
    "    [X_test_A, X_test_B], [y_test, y_test])\n",
    "y_pred_main, y_pred_aux = model.predict([X_new_A, X_new_B])"
   ]
  },
  {
   "cell_type": "markdown",
   "metadata": {},
   "source": [
    "# The subclassing API"
   ]
  },
  {
   "cell_type": "code",
   "execution_count": 71,
   "metadata": {},
   "outputs": [],
   "source": [
    "class WideAndDeepModel(keras.models.Model):\n",
    "    def __init__(self, units=30, activation=\"relu\", **kwargs):\n",
    "        super().__init__(**kwargs)\n",
    "        self.hidden1 = keras.layers.Dense(units, activation=activation)\n",
    "        self.hidden2 = keras.layers.Dense(units, activation=activation)\n",
    "        self.main_output = keras.layers.Dense(1)\n",
    "        self.aux_output = keras.layers.Dense(1)\n",
    "        \n",
    "    def call(self, inputs):\n",
    "        input_A, input_B = inputs\n",
    "        hidden1 = self.hidden1(input_B)\n",
    "        hidden2 = self.hidden2(hidden1)\n",
    "        concat = keras.layers.concatenate([input_A, hidden2])\n",
    "        main_output = self.main_output(concat)\n",
    "        aux_output = self.aux_output(hidden2)\n",
    "        return main_output, aux_output\n",
    "\n",
    "model = WideAndDeepModel(30, activation=\"relu\")"
   ]
  },
  {
   "cell_type": "code",
   "execution_count": 72,
   "metadata": {},
   "outputs": [
    {
     "name": "stdout",
     "output_type": "stream",
     "text": [
      "Train on 11610 samples, validate on 3870 samples\n",
      "Epoch 1/10\n",
      "11610/11610 [==============================] - 1s 84us/sample - loss: 2.7178 - output_1_loss: 2.4699 - output_2_loss: 4.9402 - val_loss: 2.6568 - val_output_1_loss: 2.5391 - val_output_2_loss: 3.7091\n",
      "Epoch 2/10\n",
      "11610/11610 [==============================] - 1s 67us/sample - loss: 1.1701 - output_1_loss: 0.9543 - output_2_loss: 3.1082 - val_loss: 1.4790 - val_output_1_loss: 1.3579 - val_output_2_loss: 2.5663\n",
      "Epoch 3/10\n",
      "11610/11610 [==============================] - 1s 66us/sample - loss: 0.9041 - output_1_loss: 0.7639 - output_2_loss: 2.1632 - val_loss: 1.0201 - val_output_1_loss: 0.8963 - val_output_2_loss: 2.1357\n",
      "Epoch 4/10\n",
      "11610/11610 [==============================] - 1s 65us/sample - loss: 0.7942 - output_1_loss: 0.6898 - output_2_loss: 1.7338 - val_loss: 0.8436 - val_output_1_loss: 0.7171 - val_output_2_loss: 1.9811\n",
      "Epoch 5/10\n",
      "11610/11610 [==============================] - 1s 67us/sample - loss: 0.7348 - output_1_loss: 0.6456 - output_2_loss: 1.5371 - val_loss: 0.7467 - val_output_1_loss: 0.6161 - val_output_2_loss: 1.9249\n",
      "Epoch 6/10\n",
      "11610/11610 [==============================] - 1s 65us/sample - loss: 0.6955 - output_1_loss: 0.6120 - output_2_loss: 1.4472 - val_loss: 0.6997 - val_output_1_loss: 0.5701 - val_output_2_loss: 1.8915\n",
      "Epoch 7/10\n",
      "11610/11610 [==============================] - 1s 69us/sample - loss: 0.6650 - output_1_loss: 0.5838 - output_2_loss: 1.3960 - val_loss: 0.6632 - val_output_1_loss: 0.5377 - val_output_2_loss: 1.7921\n",
      "Epoch 8/10\n",
      "11610/11610 [==============================] - 1s 93us/sample - loss: 0.6394 - output_1_loss: 0.5592 - output_2_loss: 1.3616 - val_loss: 0.6378 - val_output_1_loss: 0.5169 - val_output_2_loss: 1.7259\n",
      "Epoch 9/10\n",
      "11610/11610 [==============================] - 1s 67us/sample - loss: 0.6174 - output_1_loss: 0.5378 - output_2_loss: 1.3342 - val_loss: 0.6147 - val_output_1_loss: 0.4985 - val_output_2_loss: 1.6607\n",
      "Epoch 10/10\n",
      "11610/11610 [==============================] - 1s 67us/sample - loss: 0.5985 - output_1_loss: 0.5194 - output_2_loss: 1.3087 - val_loss: 0.5932 - val_output_1_loss: 0.4809 - val_output_2_loss: 1.6030\n",
      "5160/5160 [==============================] - 0s 31us/sample - loss: 0.5805 - output_1_loss: 0.5013 - output_2_loss: 1.3062\n"
     ]
    }
   ],
   "source": [
    "model.compile(loss=\"mse\", loss_weights=[0.9, 0.1], optimizer=keras.optimizers.SGD(lr=1e-3))\n",
    "history = model.fit((X_train_A, X_train_B), (y_train, y_train), epochs=10,\n",
    "                    validation_data=((X_valid_A, X_valid_B), (y_valid, y_valid)))\n",
    "total_loss, main_loss, aux_loss = model.evaluate((X_test_A, X_test_B), (y_test, y_test))\n",
    "y_pred_main, y_pred_aux = model.predict((X_new_A, X_new_B))"
   ]
  },
  {
   "cell_type": "code",
   "execution_count": 73,
   "metadata": {},
   "outputs": [],
   "source": [
    "model = WideAndDeepModel(30, activation=\"relu\")"
   ]
  },
  {
   "cell_type": "markdown",
   "metadata": {},
   "source": [
    "# Saving and Restoring"
   ]
  },
  {
   "cell_type": "code",
   "execution_count": 75,
   "metadata": {},
   "outputs": [],
   "source": [
    "np.random.seed(42)\n",
    "tf.random.set_random_seed(42)"
   ]
  },
  {
   "cell_type": "code",
   "execution_count": 76,
   "metadata": {},
   "outputs": [],
   "source": [
    "model = keras.models.Sequential([\n",
    "    keras.layers.Dense(30, activation=\"relu\", input_shape=[8]),\n",
    "    keras.layers.Dense(30, activation=\"relu\"),\n",
    "    keras.layers.Dense(1)\n",
    "])    "
   ]
  },
  {
   "cell_type": "code",
   "execution_count": 77,
   "metadata": {},
   "outputs": [
    {
     "name": "stdout",
     "output_type": "stream",
     "text": [
      "Train on 11610 samples, validate on 3870 samples\n",
      "Epoch 1/10\n",
      "11610/11610 [==============================] - 1s 86us/sample - loss: 2.0278 - val_loss: 2.0277\n",
      "Epoch 2/10\n",
      "11610/11610 [==============================] - 1s 78us/sample - loss: 0.8232 - val_loss: 0.8391\n",
      "Epoch 3/10\n",
      "11610/11610 [==============================] - 1s 58us/sample - loss: 0.6720 - val_loss: 0.6311\n",
      "Epoch 4/10\n",
      "11610/11610 [==============================] - 1s 59us/sample - loss: 0.6037 - val_loss: 0.5577\n",
      "Epoch 5/10\n",
      "11610/11610 [==============================] - 1s 60us/sample - loss: 0.5577 - val_loss: 0.5187\n",
      "Epoch 6/10\n",
      "11610/11610 [==============================] - 1s 61us/sample - loss: 0.5232 - val_loss: 0.4881\n",
      "Epoch 7/10\n",
      "11610/11610 [==============================] - 1s 57us/sample - loss: 0.4967 - val_loss: 0.4646\n",
      "Epoch 8/10\n",
      "11610/11610 [==============================] - 1s 62us/sample - loss: 0.4764 - val_loss: 0.4484\n",
      "Epoch 9/10\n",
      "11610/11610 [==============================] - 1s 59us/sample - loss: 0.4599 - val_loss: 0.4417\n",
      "Epoch 10/10\n",
      "11610/11610 [==============================] - 1s 57us/sample - loss: 0.4464 - val_loss: 0.4369\n",
      "5160/5160 [==============================] - 0s 32us/sample - loss: 0.4306\n"
     ]
    }
   ],
   "source": [
    "model.compile(loss=\"mse\", optimizer=keras.optimizers.SGD(lr=1e-3))\n",
    "history = model.fit(X_train, y_train, epochs=10, validation_data=(X_valid, y_valid))\n",
    "mse_test = model.evaluate(X_test, y_test)"
   ]
  },
  {
   "cell_type": "code",
   "execution_count": 78,
   "metadata": {},
   "outputs": [],
   "source": [
    "model.save(\"my_keras_model.h5\")"
   ]
  },
  {
   "cell_type": "code",
   "execution_count": 79,
   "metadata": {},
   "outputs": [
    {
     "name": "stderr",
     "output_type": "stream",
     "text": [
      "W0724 01:12:40.872753 4389889472 deprecation.py:506] From /opt/local/Library/Frameworks/Python.framework/Versions/3.7/lib/python3.7/site-packages/tensorflow/python/ops/init_ops.py:97: calling GlorotUniform.__init__ (from tensorflow.python.ops.init_ops) with dtype is deprecated and will be removed in a future version.\n",
      "Instructions for updating:\n",
      "Call initializer instance with the dtype argument instead of passing it to the constructor\n",
      "W0724 01:12:40.874850 4389889472 deprecation.py:506] From /opt/local/Library/Frameworks/Python.framework/Versions/3.7/lib/python3.7/site-packages/tensorflow/python/ops/init_ops.py:97: calling Zeros.__init__ (from tensorflow.python.ops.init_ops) with dtype is deprecated and will be removed in a future version.\n",
      "Instructions for updating:\n",
      "Call initializer instance with the dtype argument instead of passing it to the constructor\n"
     ]
    }
   ],
   "source": [
    "model = keras.models.load_model(\"my_keras_model.h5\")"
   ]
  },
  {
   "cell_type": "code",
   "execution_count": 80,
   "metadata": {},
   "outputs": [
    {
     "data": {
      "text/plain": [
       "array([[0.6043376],\n",
       "       [1.5900153],\n",
       "       [3.3774152]], dtype=float32)"
      ]
     },
     "execution_count": 80,
     "metadata": {},
     "output_type": "execute_result"
    }
   ],
   "source": [
    "model.predict(X_new)"
   ]
  },
  {
   "cell_type": "code",
   "execution_count": 81,
   "metadata": {},
   "outputs": [],
   "source": [
    "model.save_weights(\"my_keras_weights.ckpt\")"
   ]
  },
  {
   "cell_type": "code",
   "execution_count": 82,
   "metadata": {},
   "outputs": [
    {
     "data": {
      "text/plain": [
       "<tensorflow.python.training.tracking.util.CheckpointLoadStatus at 0x128389890>"
      ]
     },
     "execution_count": 82,
     "metadata": {},
     "output_type": "execute_result"
    }
   ],
   "source": [
    "model.load_weights(\"my_keras_weights.ckpt\")"
   ]
  },
  {
   "cell_type": "markdown",
   "metadata": {},
   "source": [
    "# Using Callbacks during Training"
   ]
  },
  {
   "cell_type": "code",
   "execution_count": 84,
   "metadata": {},
   "outputs": [],
   "source": [
    "keras.backend.clear_session()\n",
    "np.random.seed(42)\n",
    "tf.random.set_random_seed(42)"
   ]
  },
  {
   "cell_type": "code",
   "execution_count": 85,
   "metadata": {},
   "outputs": [],
   "source": [
    "model = keras.models.Sequential([\n",
    "    keras.layers.Dense(30, activation=\"relu\", input_shape=[8]),\n",
    "    keras.layers.Dense(30, activation=\"relu\"),\n",
    "    keras.layers.Dense(1)\n",
    "])    "
   ]
  },
  {
   "cell_type": "code",
   "execution_count": 86,
   "metadata": {},
   "outputs": [
    {
     "name": "stdout",
     "output_type": "stream",
     "text": [
      "Train on 11610 samples, validate on 3870 samples\n",
      "Epoch 1/10\n",
      "11610/11610 [==============================] - 1s 71us/sample - loss: 1.6168 - val_loss: 1.0699\n",
      "Epoch 2/10\n",
      "11610/11610 [==============================] - 1s 61us/sample - loss: 0.6601 - val_loss: 0.6115\n",
      "Epoch 3/10\n",
      "11610/11610 [==============================] - 1s 73us/sample - loss: 0.5867 - val_loss: 0.5322\n",
      "Epoch 4/10\n",
      "11610/11610 [==============================] - 1s 53us/sample - loss: 0.5432 - val_loss: 0.4934\n",
      "Epoch 5/10\n",
      "11610/11610 [==============================] - 1s 59us/sample - loss: 0.5104 - val_loss: 0.4700\n",
      "Epoch 6/10\n",
      "11610/11610 [==============================] - 1s 57us/sample - loss: 0.4857 - val_loss: 0.4482\n",
      "Epoch 7/10\n",
      "11610/11610 [==============================] - 1s 59us/sample - loss: 0.4660 - val_loss: 0.4283\n",
      "Epoch 8/10\n",
      "11610/11610 [==============================] - 1s 58us/sample - loss: 0.4511 - val_loss: 0.4279\n",
      "Epoch 9/10\n",
      "11610/11610 [==============================] - 1s 59us/sample - loss: 0.4388 - val_loss: 0.4187\n",
      "Epoch 10/10\n",
      "11610/11610 [==============================] - 1s 55us/sample - loss: 0.4287 - val_loss: 0.4268\n",
      "5160/5160 [==============================] - 0s 27us/sample - loss: 0.4262\n"
     ]
    }
   ],
   "source": [
    "model.compile(loss=\"mse\", optimizer=keras.optimizers.SGD(lr=1e-3))\n",
    "checkpoint_cb = keras.callbacks.ModelCheckpoint(\"my_keras_model.h5\", save_best_only=True)\n",
    "history = model.fit(X_train, y_train, epochs=10,\n",
    "                    validation_data=(X_valid, y_valid),\n",
    "                    callbacks=[checkpoint_cb])\n",
    "model = keras.models.load_model(\"my_keras_model.h5\") # rollback to best model\n",
    "mse_test = model.evaluate(X_test, y_test)"
   ]
  },
  {
   "cell_type": "code",
   "execution_count": 87,
   "metadata": {},
   "outputs": [
    {
     "name": "stdout",
     "output_type": "stream",
     "text": [
      "Train on 11610 samples, validate on 3870 samples\n",
      "Epoch 1/100\n",
      "11610/11610 [==============================] - 1s 72us/sample - loss: 0.4293 - val_loss: 0.4222\n",
      "Epoch 2/100\n",
      "11610/11610 [==============================] - 1s 53us/sample - loss: 0.4211 - val_loss: 0.4193\n",
      "Epoch 3/100\n",
      "11610/11610 [==============================] - 1s 59us/sample - loss: 0.4145 - val_loss: 0.4377\n",
      "Epoch 4/100\n",
      "11610/11610 [==============================] - 1s 58us/sample - loss: 0.4094 - val_loss: 0.4260\n",
      "Epoch 5/100\n",
      "11610/11610 [==============================] - 1s 58us/sample - loss: 0.4047 - val_loss: 0.4213\n",
      "Epoch 6/100\n",
      "11610/11610 [==============================] - 1s 70us/sample - loss: 0.4004 - val_loss: 0.4167\n",
      "Epoch 7/100\n",
      "11610/11610 [==============================] - 1s 57us/sample - loss: 0.3969 - val_loss: 0.4249\n",
      "Epoch 8/100\n",
      "11610/11610 [==============================] - 1s 59us/sample - loss: 0.3936 - val_loss: 0.4236\n",
      "Epoch 9/100\n",
      "11610/11610 [==============================] - 1s 84us/sample - loss: 0.3905 - val_loss: 0.4129\n",
      "Epoch 10/100\n",
      "11610/11610 [==============================] - 1s 60us/sample - loss: 0.3882 - val_loss: 0.4406\n",
      "Epoch 11/100\n",
      "11610/11610 [==============================] - 1s 58us/sample - loss: 0.3859 - val_loss: 0.4130\n",
      "Epoch 12/100\n",
      "11610/11610 [==============================] - 1s 60us/sample - loss: 0.3834 - val_loss: 0.4430\n",
      "Epoch 13/100\n",
      "11610/11610 [==============================] - 1s 57us/sample - loss: 0.3816 - val_loss: 0.4163\n",
      "Epoch 14/100\n",
      "11610/11610 [==============================] - 1s 62us/sample - loss: 0.3798 - val_loss: 0.4104\n",
      "Epoch 15/100\n",
      "11610/11610 [==============================] - 1s 60us/sample - loss: 0.3780 - val_loss: 0.3982\n",
      "Epoch 16/100\n",
      "11610/11610 [==============================] - 1s 55us/sample - loss: 0.3762 - val_loss: 0.4214\n",
      "Epoch 17/100\n",
      "11610/11610 [==============================] - 1s 63us/sample - loss: 0.3751 - val_loss: 0.4186\n",
      "Epoch 18/100\n",
      "11610/11610 [==============================] - 1s 57us/sample - loss: 0.3736 - val_loss: 0.4172\n",
      "Epoch 19/100\n",
      "11610/11610 [==============================] - 1s 59us/sample - loss: 0.3717 - val_loss: 0.4291\n",
      "Epoch 20/100\n",
      "11610/11610 [==============================] - 1s 62us/sample - loss: 0.3710 - val_loss: 0.4045\n",
      "Epoch 21/100\n",
      "11610/11610 [==============================] - 1s 60us/sample - loss: 0.3697 - val_loss: 0.4101\n",
      "Epoch 22/100\n",
      "11610/11610 [==============================] - 1s 56us/sample - loss: 0.3686 - val_loss: 0.4193\n",
      "Epoch 23/100\n",
      "11610/11610 [==============================] - 1s 64us/sample - loss: 0.3676 - val_loss: 0.4155\n",
      "Epoch 24/100\n",
      "11610/11610 [==============================] - 1s 58us/sample - loss: 0.3666 - val_loss: 0.4001\n",
      "Epoch 25/100\n",
      "11610/11610 [==============================] - 1s 62us/sample - loss: 0.3657 - val_loss: 0.4010\n",
      "5160/5160 [==============================] - 0s 22us/sample - loss: 0.3753\n"
     ]
    }
   ],
   "source": [
    "model.compile(loss=\"mse\", optimizer=keras.optimizers.SGD(lr=1e-3))\n",
    "early_stopping_cb = keras.callbacks.EarlyStopping(patience=10,\n",
    "                                                  restore_best_weights=True)\n",
    "history = model.fit(X_train, y_train, epochs=100,\n",
    "                    validation_data=(X_valid, y_valid),\n",
    "                    callbacks=[checkpoint_cb, early_stopping_cb])\n",
    "mse_test = model.evaluate(X_test, y_test)"
   ]
  },
  {
   "cell_type": "code",
   "execution_count": 88,
   "metadata": {},
   "outputs": [],
   "source": [
    "class PrintValTrainRatioCallback(keras.callbacks.Callback):\n",
    "    def on_epoch_end(self, epoch, logs):\n",
    "        print(\"\\nval/train: {:.2f}\".format(logs[\"val_loss\"] / logs[\"loss\"]))"
   ]
  },
  {
   "cell_type": "code",
   "execution_count": 89,
   "metadata": {},
   "outputs": [
    {
     "name": "stdout",
     "output_type": "stream",
     "text": [
      "Train on 11610 samples, validate on 3870 samples\n",
      "10816/11610 [==========================>...] - ETA: 0s - loss: 0.3749\n",
      "val/train: 1.05\n",
      "11610/11610 [==============================] - 1s 53us/sample - loss: 0.3763 - val_loss: 0.3942\n"
     ]
    }
   ],
   "source": [
    "val_train_ratio_cb = PrintValTrainRatioCallback()\n",
    "history = model.fit(X_train, y_train, epochs=1,\n",
    "                    validation_data=(X_valid, y_valid),\n",
    "                    callbacks=[val_train_ratio_cb])"
   ]
  }
 ],
 "metadata": {
  "kernelspec": {
   "display_name": "Python 3",
   "language": "python",
   "name": "python3"
  },
  "language_info": {
   "codemirror_mode": {
    "name": "ipython",
    "version": 3
   },
   "file_extension": ".py",
   "mimetype": "text/x-python",
   "name": "python",
   "nbconvert_exporter": "python",
   "pygments_lexer": "ipython3",
   "version": "3.7.4"
  },
  "nav_menu": {
   "height": "264px",
   "width": "369px"
  },
  "toc": {
   "navigate_menu": true,
   "number_sections": true,
   "sideBar": true,
   "threshold": 6,
   "toc_cell": false,
   "toc_section_display": "block",
   "toc_window_display": false
  }
 },
 "nbformat": 4,
 "nbformat_minor": 1
}
