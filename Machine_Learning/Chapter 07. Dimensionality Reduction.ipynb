{
 "cells": [
  {
   "cell_type": "markdown",
   "metadata": {},
   "source": [
    "---\n",
    "\n",
    "# Practical Machine Learning with Python\n",
    "# Chapter 7: Dimensionality Reduction\n",
    "\n",
    "## Guillermo Avendaño-Franco and Aldo Humberto Romero\n",
    "## West Virginia University\n",
    "\n",
    "### Machine Learning Workshop 2019\n",
    "\n",
    "---"
   ]
  },
  {
   "cell_type": "markdown",
   "metadata": {},
   "source": [
    "This notebook is based on a variety of sources, usually other notebooks, the material was adapted to the topics covered during lessons. In some cases, the original notebooks were created for Python 2.x or older versions of Scikit-learn or Tensorflow and they have to be adapted. \n",
    "\n",
    "## References\n",
    "\n",
    "### Books\n",
    "\n",
    " * **Hands-On Machine Learning with Scikit-Learn and TensorFlow: Concepts, Tools, and Techniques to Build Intelligent Systems**, 1st Edition *Aurélien Géron*  (2017)\n",
    "\n",
    " * **Python Machine Learning: Machine Learning and Deep Learning with Python, scikit-learn, and TensorFlow**, 2nd Edition, *Sebastian Raschka* and *Vahid Mirjalili* (2017)\n",
    "\n",
    " * **Deep Learning: A Practitioner's approach**, *Josh Patterson* and *Adam Gibson* \n",
    " \n",
    " * **Deep Learning**, *Ian Goodfelow*, *Yoshua Bengio* and *Aaron Courville* (2016)\n",
    "\n",
    "### Jupyter Notebooks\n",
    "\n",
    " * [Yale Digital Humanities Lab](https://github.com/YaleDHLab/lab-workshops)\n",
    " \n",
    " * Aurelein Geron Hands-on Machine Learning with Scikit-learn \n",
    "   [First Edition](https://github.com/ageron/handson-ml)\n",
    "   [Second Edition (In preparation)](https://github.com/ageron/handson-ml2)\n",
    "   \n",
    " * [A progressive collection notebooks of the Machine Learning course by the University of Turin](https://github.com/rugantio/MachineLearningCourse)\n",
    "   \n",
    " * [A curated set of jupyter notebooks about many topics](https://github.com/jupyter/jupyter/wiki/A-gallery-of-interesting-Jupyter-Notebooks)\n",
    "   \n",
    "### Videos\n",
    "\n",
    " * [Caltech's \"Learning from Data\" by Professor Yaser Abu-Mostafa](https://work.caltech.edu/telecourse.html)\n",
    " \n",
    " The support of the National Science Foundation and the US Department of Energy under projects: DMREF-NSF 1434897, NSF OAC-1740111 and DOE DE-SC0016176 is recognized.\n",
    "\n",
    "<div style=\"clear: both; display: table;\">\n",
    "<div style=\"border: none; float: left; width: 40%; padding: 10px\">\n",
    "<img src=\"fig/NSF.jpg\" alt=\"National Science Foundation\" style=\"width:50%\" align=\"left\">\n",
    "    </div>\n",
    "    <div style=\"border: none; float: right; width: 40%; padding: 10px\">\n",
    "<img src=\"fig/DOE.jpg\" alt=\"National Science Foundation\" style=\"width:50%\" align=\"right\">\n",
    "</div>"
   ]
  },
  {
   "cell_type": "markdown",
   "metadata": {},
   "source": [
    "## Setup\n",
    "\n",
    "This Jupyter notebook was created to run on a Python 3 kernel. Some Ipython magics were used: "
   ]
  },
  {
   "cell_type": "code",
   "execution_count": 2,
   "metadata": {},
   "outputs": [],
   "source": [
    "# commands prefaced by a % in Jupyter are called \"magic\"\n",
    "# these \"magic\" commands allow us to do special things only related to jupyter\n",
    "\n",
    "# %matplotlib inline - allows one to display charts from the matplotlib library in a notebook\n",
    "# %load_ext autoreload - automatically reloads imported modules if they change\n",
    "# %autoreload 2 - automatically reloads imported modules if they change\n",
    "import matplotlib\n",
    "%matplotlib inline\n",
    "%load_ext autoreload\n",
    "%autoreload 2"
   ]
  },
  {
   "cell_type": "code",
   "execution_count": 3,
   "metadata": {},
   "outputs": [
    {
     "name": "stdout",
     "output_type": "stream",
     "text": [
      "2019-07-29T14:55:57-04:00\n",
      "\n",
      "CPython 3.7.3\n",
      "IPython 5.8.0\n",
      "\n",
      "compiler   : GCC 8.3.0\n",
      "system     : Linux\n",
      "release    : 5.0.0-20-generic\n",
      "machine    : x86_64\n",
      "processor  : x86_64\n",
      "CPU cores  : 8\n",
      "interpreter: 64bit\n"
     ]
    }
   ],
   "source": [
    "%load_ext watermark\n",
    "%watermark"
   ]
  },
  {
   "cell_type": "code",
   "execution_count": 4,
   "metadata": {},
   "outputs": [],
   "source": [
    "import numpy as np\n",
    "import matplotlib as mpl\n",
    "import matplotlib.pyplot as plt\n",
    "import sklearn"
   ]
  },
  {
   "cell_type": "code",
   "execution_count": 5,
   "metadata": {
    "scrolled": false
   },
   "outputs": [
    {
     "name": "stdout",
     "output_type": "stream",
     "text": [
      "IPython    5.8.0\n",
      "matplotlib 3.0.2\n",
      "sklearn    0.20.2\n",
      "numpy      1.16.2\n",
      "\n"
     ]
    }
   ],
   "source": [
    "%watermark -iv"
   ]
  },
  {
   "cell_type": "markdown",
   "metadata": {},
   "source": [
    "# Where we are in the map?\n",
    "\n",
    "<img src=\"fig/ml_map.png\" width=\"700\" height=\"200\" title=\"Precision vs Recall\" alt=\"Precision vs Recall\"></a>"
   ]
  },
  {
   "cell_type": "markdown",
   "metadata": {},
   "source": [
    "# Dimensionality Reduction\n",
    "\n",
    "In machine learning is not unusual the number of features been in the order hundreds, thousands or even more. \n",
    "However, having that extra data is not making things better, and it can surely make things worst. \n",
    "\n",
    "\"High-dimensional\" datasets can be quite hard to work with and reason about. High dimensional datasets also pose specific challenges to many machine learning models (see **[The Curse of Dimensionality](https://en.wikipedia.org/wiki/Curse_of_dimensionality)**). To work around these challenges, it's often helpful to reduce the number of dimensions required to express a given dataset. That reduction is trying to solve two problems. The dimensionality reduction itself and the focus on more relevant features that maximize the probability of successful classifications.\n",
    "\n",
    "## Principal Component Analysis\n",
    "\n",
    "One popular way to reduce the dimensionality of a dataset is to use a technique called [**Principal Component Analysis**](https://en.wikipedia.org/wiki/Principal_component_analysis). PCA tries to find a lower dimensional representation of a dataset by projecting that dataset down into a smaller dimensional space in a way that minimizes loss of information.\n",
    "\n",
    "To get an intuition about PCA, suppose you have points in two dimensions, and you wish to reduce the dimensionality of your dataset to a single dimension. To do so, you could find the center of the points then create a line $L$ with a random orientation that passes through that center. One can then project each point onto $L$ such that an imaginary line between the point and $L$ form a right angle. Within this \"projection\", each 2D point can be represented with just its position along the 1D $L$, effectively giving us a 1D representation of the point's position in its original space. Furthermore, we can use the difference between the largest and smallest values of points projected onto $L$ as a measure of the amount of \"variance\" or \"spread\" within the data captured in $L$&mdash;the greater this spread, the greater the amount of \"signal\" from the original dataset is represented in the projection.\n",
    "\n",
    "If one were to slowly rotate $L$ and continue measuring the delta between the greatest and smallest values on $L$ at each orientation, one could find the orientation of the projection line that minimizes information loss. (This line of minimal information loss is shown in pink below.) Once that line is discovered, we can actually project all of our points onto that lower-dimensional embedding (see the red points below when the black line is colinear with the pink line):"
   ]
  },
  {
   "cell_type": "markdown",
   "metadata": {},
   "source": [
    "<img src='fig/pca.gif'>\n",
    "\n",
    "\n",
    "\n",
    "\n",
    "\n",
    "For a beginner-friendly deep dive into the mechanics behind this form of dimension reduction, check out Josh Starmer's [step-by-step guide to PCA](https://www.youtube.com/watch?v=FgakZw6K1QQ).\n",
    "\n",
    "\n",
    "PCA (Principal Component Analysis) converts a dataset of possibly correlated features into a dataset of linearly uncorrelated features called principal components. is equivalent to **Singular Value Decomposition** (SVD):\n",
    "\n",
    "$$\\mathbf{X} = \\mathbf{U} \\boldsymbol{\\Sigma} \\mathbf{V}^*$$\n",
    "\n",
    "Formally, the singular value decomposition of an $m \\times n$ real or complex matrix $\\mathbf{M}$ is a factorization of the form $\\mathbf{U\\Sigma V^*}$, where $\\mathbf{U}$ is an $m \\times m$ real or complex **unitary matrix**, $\\mathbf{\\Sigma}$ is an $m \\times n$ **rectangular diagonal matrix** with non-negative real numbers on the diagonal, and $\\mathbf{V}$ is an $n \\times n$ real or complex unitary matrix. The diagonal entries $\\sigma_i$ of $\\mathbf{\\Sigma}$ are known as the **singular values** of $\\mathbf{M}$. The columns of $\\mathbf{U}$ and the columns of $\\mathbf{V}$ are called the **left-singular vectors** and **right-singular vectors** of $\\mathbf{M}$, respectively.\n",
    "\n",
    "<img src=\"fig/1280px-Singular_value_decomposition_visualisation.svg.png\" alt=\"SVD\" style=\"width:400px\">\n",
    "\n",
    "For Real-valued matrices the conjugate transpose $\\mathbf{V}^*$ becomes just the transpose $\\mathbf{V}^T$ and the decomposition is:\n",
    "\n",
    "$$\\mathbf{X} = \\mathbf{U} \\boldsymbol{\\Sigma} \\mathbf{V}^T$$\n",
    "\n",
    "The value returned from `transform` is in fact the matrix $\\mathbf{U}$. The parameter `n_components` is the number of components to keep. if `n_components` is not set, all components are kept; it means that the result of `transform` is a matrix $n \\times n$ (if $d \\geq n$) or $n \\times d$ (if $d < n$).\n",
    "\n",
    "The values in the attribute `explained_variance_` are related to $\\boldsymbol{\\Sigma}$ in the SVD decomposition. Finally, the values in the attribute `components_` are related to $\\mathbf{V}^T$.\n",
    "\n",
    "The optional parameter `whiten=True` make it possible to project the data onto the singular space while scaling each component to unit variance. This is often useful if the models down-stream make strong assumptions on the isotropy of the signal: this is for example the case for Support Vector Machines with the RBF kernel and the K-Means clustering algorithm."
   ]
  },
  {
   "cell_type": "markdown",
   "metadata": {},
   "source": [
    "# Dimensionality reduction of MNIST dataset"
   ]
  },
  {
   "cell_type": "markdown",
   "metadata": {},
   "source": [
    "The MNIST dataset contains 70000 images of hand-written digits. Each image is a matrix of 28x28 grayscale pixels. The value of each pixel goes from 0 to 255.\n",
    "\n",
    "There is more information available in the MNIST dataset repository:\n",
    "http://yann.lecun.com/exdb/mnist/\n",
    "\n",
    "Let's first fetch the dataset from the internet (which may take a while, note the asterisk [*]):"
   ]
  },
  {
   "cell_type": "code",
   "execution_count": 2,
   "metadata": {},
   "outputs": [
    {
     "name": "stdout",
     "output_type": "stream",
     "text": [
      "(70000, 784)\n",
      "(70000,)\n"
     ]
    }
   ],
   "source": [
    "from sklearn.datasets import fetch_openml\n",
    "X_all, y_all = fetch_openml('mnist_784', version=1, return_X_y=True)\n",
    "\n",
    "# The shape of input and labels\n",
    "print(X_all.shape)\n",
    "print(y_all.shape)"
   ]
  },
  {
   "cell_type": "markdown",
   "metadata": {},
   "source": [
    "This dataset is ordered, and we will get just part of it to speed up this exercise.\n",
    "\n",
    "For this, we need to shuffle the entire data and get the first instances."
   ]
  },
  {
   "cell_type": "code",
   "execution_count": 3,
   "metadata": {},
   "outputs": [],
   "source": [
    "from sklearn.utils import shuffle\n",
    "\n",
    "# shuffle dataset (which is sorted!)\n",
    "X_all, y_all = shuffle(X_all, y_all, random_state=42)\n",
    "\n",
    "# take only the first instances, to shorten runtime\n",
    "X = X_all[:1500]\n",
    "y = y_all[:1500]\n",
    "\n",
    "# take the other instances for testing\n",
    "X_test = X_all[1500:]\n",
    "y_test = y_all[1500:]"
   ]
  },
  {
   "cell_type": "markdown",
   "metadata": {},
   "source": [
    "From the sklearn documentation:\n",
    "\n",
    "> Many elements used in the objective function of a learning algorithm (such as the RBF kernel of Support Vector Machines or the l1 and l2 regularizers of linear models) assume that all features are centered around zero and have variance in the same order. If a feature has a variance that is orders of magnitude larger that others, it might dominate the objective function and make the estimator unable to learn from other features correctly as expected.\n",
    "\n",
    "We will then rescale the training data, since this is important to improve the performance of the classification algorithm that we will use later."
   ]
  },
  {
   "cell_type": "code",
   "execution_count": 4,
   "metadata": {},
   "outputs": [],
   "source": [
    "# Rescale grayscale from -1 to 1\n",
    "X = X/255.0*2 - 1"
   ]
  },
  {
   "cell_type": "markdown",
   "metadata": {},
   "source": [
    "Let's have a look at some of the instances in the dataset we just loaded:"
   ]
  },
  {
   "cell_type": "code",
   "execution_count": 5,
   "metadata": {},
   "outputs": [
    {
     "data": {
      "image/png": "[encoded data removed]",
      "text/plain": [
       "<Figure size 576x288 with 10 Axes>"
      ]
     },
     "metadata": {},
     "output_type": "display_data"
    }
   ],
   "source": [
    "plt.rc(\"image\", cmap=\"binary\")\n",
    "plt.figure(figsize=(8,4))\n",
    "for i in range(10):\n",
    "    plt.subplot(2,5,i+1)\n",
    "    plt.imshow(X[i].reshape(28,28))\n",
    "    plt.title(y[i])\n",
    "    plt.xticks(())\n",
    "    plt.yticks(())\n",
    "plt.tight_layout()"
   ]
  },
  {
   "cell_type": "code",
   "execution_count": 6,
   "metadata": {},
   "outputs": [
    {
     "name": "stdout",
     "output_type": "stream",
     "text": [
      "(1500, 2)\n",
      "(2,)\n",
      "(2, 784)\n"
     ]
    }
   ],
   "source": [
    "from sklearn.decomposition import PCA\n",
    "pca = PCA(n_components = 2)\n",
    "\n",
    "pca.fit(X)\n",
    "\n",
    "U = pca.transform(X)\n",
    "S = pca.explained_variance_\n",
    "V = pca.components_\n",
    "\n",
    "print (U.shape)\n",
    "print (S.shape)\n",
    "print (V.shape)"
   ]
  },
  {
   "cell_type": "markdown",
   "metadata": {},
   "source": [
    "## PCA using SVD decomposition"
   ]
  },
  {
   "cell_type": "markdown",
   "metadata": {},
   "source": [
    "The PCA can be obtained from Numpy function `linalg.svg` in that case the X values must be centered, something that the PCA function in Scikit-learn does for you"
   ]
  },
  {
   "cell_type": "code",
   "execution_count": 7,
   "metadata": {},
   "outputs": [],
   "source": [
    "X_centered = X - X.mean(axis=0)\n",
    "U, s, Vt = np.linalg.svd(X_centered)\n",
    "c1 = Vt.T[:, 0]\n",
    "c2 = Vt.T[:, 1]"
   ]
  },
  {
   "cell_type": "code",
   "execution_count": 8,
   "metadata": {},
   "outputs": [],
   "source": [
    "m, n = X.shape\n",
    "\n",
    "S = np.zeros(X_centered.shape)\n",
    "S[:n, :n] = np.diag(s)"
   ]
  },
  {
   "cell_type": "code",
   "execution_count": 9,
   "metadata": {},
   "outputs": [
    {
     "data": {
      "text/plain": [
       "True"
      ]
     },
     "execution_count": 9,
     "metadata": {},
     "output_type": "execute_result"
    }
   ],
   "source": [
    "np.allclose(X_centered, U.dot(S).dot(Vt))"
   ]
  },
  {
   "cell_type": "code",
   "execution_count": 10,
   "metadata": {},
   "outputs": [],
   "source": [
    "W2 = Vt.T[:, :2]\n",
    "X2D = X_centered.dot(W2)"
   ]
  },
  {
   "cell_type": "code",
   "execution_count": 11,
   "metadata": {},
   "outputs": [],
   "source": [
    "X2D_using_svd = X2D"
   ]
  },
  {
   "cell_type": "code",
   "execution_count": 12,
   "metadata": {},
   "outputs": [],
   "source": [
    "X2D = pca.fit_transform(X)"
   ]
  },
  {
   "cell_type": "code",
   "execution_count": 13,
   "metadata": {},
   "outputs": [
    {
     "name": "stdout",
     "output_type": "stream",
     "text": [
      "(1500, 2)\n"
     ]
    },
    {
     "data": {
      "text/plain": [
       "array([[ 6.07876378,  4.11874263],\n",
       "       [-1.96204467, -4.0771736 ],\n",
       "       [-0.68518088,  0.66123875],\n",
       "       [-3.90474966, -2.94240328],\n",
       "       [-3.47802064, -2.43573838]])"
      ]
     },
     "execution_count": 13,
     "metadata": {},
     "output_type": "execute_result"
    }
   ],
   "source": [
    "print(X2D.shape)\n",
    "X2D[:5]"
   ]
  },
  {
   "cell_type": "code",
   "execution_count": 14,
   "metadata": {},
   "outputs": [
    {
     "name": "stdout",
     "output_type": "stream",
     "text": [
      "(1500, 2)\n"
     ]
    },
    {
     "data": {
      "text/plain": [
       "array([[ 6.07877132, -4.11830917],\n",
       "       [-1.9620494 ,  4.07694401],\n",
       "       [-0.68517622, -0.66101962],\n",
       "       [-3.90475013,  2.94237969],\n",
       "       [-3.47801914,  2.43581028]])"
      ]
     },
     "execution_count": 14,
     "metadata": {},
     "output_type": "execute_result"
    }
   ],
   "source": [
    "print(X2D_using_svd.shape)\n",
    "X2D_using_svd[:5]"
   ]
  },
  {
   "cell_type": "markdown",
   "metadata": {},
   "source": [
    "Notice that running PCA multiple times on slightly different datasets may result in different results. In general the only difference is that some axes may be flipped. In this example, PCA using Scikit-Learn gives the same projection as the one given by the SVD approach, except both axes are flipped"
   ]
  },
  {
   "cell_type": "markdown",
   "metadata": {},
   "source": [
    "## Measuring the data loss from using a PCA"
   ]
  },
  {
   "cell_type": "markdown",
   "metadata": {},
   "source": [
    "As we are using just 2 dimensions out of the 768 orginal ones. It is clear that we have to pay a price for that.\n",
    "We can quantify the loss from the PCA like this:\n",
    "\n",
    "First, we recover the 3D points projected on the plane (PCA 2D subspace)."
   ]
  },
  {
   "cell_type": "code",
   "execution_count": 15,
   "metadata": {},
   "outputs": [],
   "source": [
    "X3D_inv = pca.inverse_transform(X2D)"
   ]
  },
  {
   "cell_type": "markdown",
   "metadata": {},
   "source": [
    "The recovered 3D points are not exactly equal to the original 3D points:"
   ]
  },
  {
   "cell_type": "code",
   "execution_count": 16,
   "metadata": {},
   "outputs": [
    {
     "data": {
      "text/plain": [
       "False"
      ]
     },
     "execution_count": 16,
     "metadata": {},
     "output_type": "execute_result"
    }
   ],
   "source": [
    "np.allclose(X3D_inv, X)"
   ]
  },
  {
   "cell_type": "markdown",
   "metadata": {},
   "source": [
    "The reconstruction error can be computed by taking the average in the difference between the recreated images and the original ones."
   ]
  },
  {
   "cell_type": "code",
   "execution_count": 17,
   "metadata": {},
   "outputs": [
    {
     "data": {
      "text/plain": [
       "176.6185516139451"
      ]
     },
     "execution_count": 17,
     "metadata": {},
     "output_type": "execute_result"
    }
   ],
   "source": [
    "np.mean(np.sum(np.square(X3D_inv - X), axis=1))"
   ]
  },
  {
   "cell_type": "markdown",
   "metadata": {},
   "source": [
    "Quite a big difference, so the question is: How many components should be good enough? How to quantify \"good enough\"?\n",
    "To answer those questions lets first get a visual idea about the transformations involved here."
   ]
  },
  {
   "cell_type": "markdown",
   "metadata": {},
   "source": [
    "## Visualizing the transformations"
   ]
  },
  {
   "cell_type": "markdown",
   "metadata": {},
   "source": [
    "The first row in the figure below shows the first digits on the MNIST database, the second row the back transformed images using just 2 Principal Components."
   ]
  },
  {
   "cell_type": "code",
   "execution_count": 18,
   "metadata": {},
   "outputs": [
    {
     "data": {
      "image/png": "[encoded data removed]",
      "text/plain": [
       "<Figure size 576x288 with 10 Axes>"
      ]
     },
     "metadata": {},
     "output_type": "display_data"
    }
   ],
   "source": [
    "plt.rc(\"image\", cmap=\"binary\")\n",
    "plt.figure(figsize=(8,4))\n",
    "for i in range(5):\n",
    "    plt.subplot(2,5,i+1)\n",
    "    plt.imshow(X[i].reshape(28,28))\n",
    "    plt.title(y[i])\n",
    "    plt.xticks(())\n",
    "    plt.yticks(())\n",
    "for i in range(5):\n",
    "    plt.subplot(2,5,5+i+1)\n",
    "    plt.imshow(X3D_inv[i].reshape(28,28))\n",
    "    plt.title(y[i])\n",
    "    plt.xticks(())\n",
    "    plt.yticks(())\n",
    "plt.tight_layout()"
   ]
  },
  {
   "cell_type": "markdown",
   "metadata": {},
   "source": [
    "The transformed images look noisy, that is because from the 768 pixels we have reduced to just 2, considering that is remarkable that we still see a resemblance of the original digit on the \n",
    "\n",
    "Now let's have a look at the most important directions on which the dataset was projected. These directions can be accessed in the $\\mathbf{V}^T$ matrix. For doing that we need to construct PCA for all components."
   ]
  },
  {
   "cell_type": "code",
   "execution_count": 19,
   "metadata": {},
   "outputs": [],
   "source": [
    "pca_complete = PCA()\n",
    "\n",
    "pca_complete.fit(X)\n",
    "\n",
    "Uc = pca_complete.transform(X)\n",
    "Sc = pca_complete.explained_variance_\n",
    "Vc = pca_complete.components_"
   ]
  },
  {
   "cell_type": "code",
   "execution_count": 20,
   "metadata": {},
   "outputs": [
    {
     "data": {
      "image/png": "[encoded data removed]",
      "text/plain": [
       "<Figure size 576x432 with 5 Axes>"
      ]
     },
     "metadata": {},
     "output_type": "display_data"
    }
   ],
   "source": [
    "plt.figure(figsize=(8,6))\n",
    "\n",
    "for i in range(5): # loop over all means\n",
    "    plt.subplot(1,5,i+1)\n",
    "    plt.imshow(Vc[i].reshape(28,28))\n",
    "    plt.xticks(())\n",
    "    plt.yticks(())\n",
    "plt.tight_layout()"
   ]
  },
  {
   "cell_type": "markdown",
   "metadata": {},
   "source": [
    "The figures above are just 2D representations of vectors in a 768 dimensional space. They are not mean to be numbers but capture the combination of pixels that maximize the variance in the set.\n",
    "\n",
    "The later directions (here, from the 100-th on) show noise and small variations between different, but very similar training instances:"
   ]
  },
  {
   "cell_type": "code",
   "execution_count": 21,
   "metadata": {},
   "outputs": [
    {
     "data": {
      "image/png": "[encoded data removed]",
      "text/plain": [
       "<Figure size 576x288 with 5 Axes>"
      ]
     },
     "metadata": {},
     "output_type": "display_data"
    }
   ],
   "source": [
    "plt.figure(figsize=(8,4))\n",
    "\n",
    "for i in range(5): # loop over all means\n",
    "    plt.subplot(1,5,i+1)\n",
    "    plt.imshow(Vc[100+i].reshape(28,28))\n",
    "    plt.xticks(())\n",
    "    plt.yticks(())\n",
    "plt.tight_layout()"
   ]
  },
  {
   "cell_type": "markdown",
   "metadata": {},
   "source": [
    "## Selecting the right number of components"
   ]
  },
  {
   "cell_type": "markdown",
   "metadata": {},
   "source": [
    "The number of \"interesting\" dimensions can be seen from the importance of the found directions.\n",
    "\n",
    "We can find this information by plotting the `explained_variance_` attribute from the `PCA` variable. This is related to the $\\Sigma$ matrix in the following way:\n",
    "\n",
    "$$\\mathbf{ev} = \\frac{1}{N} \\Sigma^2 $$\n",
    "\n",
    "In order to find the most relevant directions, we can use the `explained_variance_` to get 90% of the dataset variance."
   ]
  },
  {
   "cell_type": "code",
   "execution_count": 22,
   "metadata": {},
   "outputs": [
    {
     "data": {
      "image/png": "[encoded data removed]",
      "text/plain": [
       "<Figure size 432x288 with 1 Axes>"
      ]
     },
     "metadata": {
      "needs_background": "light"
     },
     "output_type": "display_data"
    }
   ],
   "source": [
    "plt.plot(pca_complete.explained_variance_);"
   ]
  },
  {
   "cell_type": "code",
   "execution_count": 23,
   "metadata": {},
   "outputs": [
    {
     "name": "stdout",
     "output_type": "stream",
     "text": [
      "80\n"
     ]
    },
    {
     "data": {
      "image/png": "[encoded data removed]",
      "text/plain": [
       "<Figure size 432x288 with 1 Axes>"
      ]
     },
     "metadata": {
      "needs_background": "light"
     },
     "output_type": "display_data"
    }
   ],
   "source": [
    "ev_cumsum = np.cumsum(pca_complete.explained_variance_)/(pca_complete.explained_variance_).sum()\n",
    "ev_at90 = ev_cumsum[ev_cumsum<0.9].shape[0]\n",
    "print (ev_at90)\n",
    "\n",
    "plt.plot(ev_cumsum)\n",
    "plt.vlines(ev_at90, 0, 1, linestyles='dashed')\n",
    "plt.hlines(0.9, 0, 500, linestyles='dashed');"
   ]
  },
  {
   "cell_type": "markdown",
   "metadata": {},
   "source": [
    "We can see that the intrinsic dimensionality is not higher than 80, even though the dataset has 784 dimensions.\n",
    "\n",
    "We can explain that number intuitively, notice that the digits rarely touch the four corners of the picture, leaving many of those pixels zeroed and not adding information to the figure. the center and circular areas around the center provides most of the information about the digits. That is why the first PCA components put special emphasis on them.\n",
    "\n"
   ]
  },
  {
   "cell_type": "markdown",
   "metadata": {},
   "source": [
    "We can see that the intrinsic dimensionality is not higher than 80, even though the dataset has 784 dimensions.\n",
    "\n",
    "We can explain that number intuitively, notice that the digits rarely touch the four corners of the picture, leaving many of those pixels zeroed and not adding information to the figure. the center and circular areas around the center provides most of the information about the digits. That is why the first PCA components put special emphasis on them.\n",
    "\n",
    "We now know that just 2 components is not enough but 80 components will account for 90% of explained variance in the data, we say that $\\mathbf{k_p}$ is the number of components to achieve $p$ % of explained variance.\n",
    "\n",
    "By setting the parameter `n_components` to $\\mathbf{k}$, we limit the number of components to $\\mathbf{k}$. At this point, the decomposition is a **Truncated SVD**.\n",
    "\n",
    "As consequence, the value returned from `transform` is in fact a matrix $\\mathbf{U} \\in \\mathbb{R}^{n \\times k}$, where n is the number of samples and k is the number of components. The number of values in the attribute `explained_variance_`, related to $\\boldsymbol{\\Sigma}$ in the SVD decomposition, is $\\mathbf{k}$. Finally, the values in the attribute `components_` are a matrix $\\mathbf{V}^T \\in \\mathbb{R}^{k \\times m}$, where $m$ is the number of features."
   ]
  },
  {
   "cell_type": "code",
   "execution_count": 24,
   "metadata": {},
   "outputs": [
    {
     "name": "stdout",
     "output_type": "stream",
     "text": [
      "(1500, 80)\n",
      "(80,)\n",
      "(80, 784)\n"
     ]
    }
   ],
   "source": [
    "from sklearn.decomposition import PCA\n",
    "pca = PCA(80)\n",
    "\n",
    "pca.fit(X)\n",
    "\n",
    "U = pca.transform(X)\n",
    "S = pca.explained_variance_\n",
    "V = pca.components_\n",
    "\n",
    "print (U.shape)\n",
    "print (S.shape)\n",
    "print (V.shape)"
   ]
  },
  {
   "cell_type": "markdown",
   "metadata": {},
   "source": [
    "Now, lets have a look to the digits when 80 components are used."
   ]
  },
  {
   "cell_type": "code",
   "execution_count": 25,
   "metadata": {},
   "outputs": [
    {
     "data": {
      "image/png": "[encoded data removed]",
      "text/plain": [
       "<Figure size 576x288 with 10 Axes>"
      ]
     },
     "metadata": {},
     "output_type": "display_data"
    }
   ],
   "source": [
    "X2D = pca.fit_transform(X)\n",
    "X3D_inv = pca.inverse_transform(X2D)\n",
    "\n",
    "plt.rc(\"image\", cmap=\"binary\")\n",
    "plt.figure(figsize=(8,4))\n",
    "for i in range(5):\n",
    "    plt.subplot(2,5,i+1)\n",
    "    plt.imshow(X[i].reshape(28,28))\n",
    "    plt.title(y[i])\n",
    "    plt.xticks(())\n",
    "    plt.yticks(())\n",
    "for i in range(5):\n",
    "    plt.subplot(2,5,5+i+1)\n",
    "    plt.imshow(X3D_inv[i].reshape(28,28))\n",
    "    plt.title(y[i])\n",
    "    plt.xticks(())\n",
    "    plt.yticks(())\n",
    "plt.tight_layout()"
   ]
  },
  {
   "cell_type": "markdown",
   "metadata": {},
   "source": [
    "Notice that the 5 digits from the first row are created from 768 components and the figures on the second row were back converted from the PCA with just 80 components."
   ]
  }
 ],
 "metadata": {
  "kernelspec": {
   "display_name": "Python 3",
   "language": "python",
   "name": "python3"
  },
  "language_info": {
   "codemirror_mode": {
    "name": "ipython",
    "version": 3
   },
   "file_extension": ".py",
   "mimetype": "text/x-python",
   "name": "python",
   "nbconvert_exporter": "python",
   "pygments_lexer": "ipython3",
   "version": "3.7.4"
  }
 },
 "nbformat": 4,
 "nbformat_minor": 1
}
